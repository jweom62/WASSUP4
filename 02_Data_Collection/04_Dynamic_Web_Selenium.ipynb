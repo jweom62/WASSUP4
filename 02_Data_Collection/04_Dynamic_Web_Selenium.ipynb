{
 "cells": [
  {
   "cell_type": "code",
   "execution_count": 1,
   "id": "9e4e8ef2-d2e5-4a18-a1b5-330b4ac63639",
   "metadata": {
    "scrolled": true
   },
   "outputs": [
    {
     "name": "stdout",
     "output_type": "stream",
     "text": [
      "Collecting selenium\n",
      "  Downloading selenium-4.25.0-py3-none-any.whl.metadata (7.1 kB)\n",
      "Requirement already satisfied: urllib3<3,>=1.26 in c:\\users\\e9862\\anaconda3\\lib\\site-packages (from urllib3[socks]<3,>=1.26->selenium) (2.2.2)\n",
      "Collecting trio~=0.17 (from selenium)\n",
      "  Downloading trio-0.26.2-py3-none-any.whl.metadata (8.6 kB)\n",
      "Collecting trio-websocket~=0.9 (from selenium)\n",
      "  Downloading trio_websocket-0.11.1-py3-none-any.whl.metadata (4.7 kB)\n",
      "Requirement already satisfied: certifi>=2021.10.8 in c:\\users\\e9862\\anaconda3\\lib\\site-packages (from selenium) (2024.6.2)\n",
      "Requirement already satisfied: typing_extensions~=4.9 in c:\\users\\e9862\\anaconda3\\lib\\site-packages (from selenium) (4.11.0)\n",
      "Requirement already satisfied: websocket-client~=1.8 in c:\\users\\e9862\\anaconda3\\lib\\site-packages (from selenium) (1.8.0)\n",
      "Collecting attrs>=23.2.0 (from trio~=0.17->selenium)\n",
      "  Downloading attrs-24.2.0-py3-none-any.whl.metadata (11 kB)\n",
      "Requirement already satisfied: sortedcontainers in c:\\users\\e9862\\anaconda3\\lib\\site-packages (from trio~=0.17->selenium) (2.4.0)\n",
      "Requirement already satisfied: idna in c:\\users\\e9862\\anaconda3\\lib\\site-packages (from trio~=0.17->selenium) (3.7)\n",
      "Collecting outcome (from trio~=0.17->selenium)\n",
      "  Downloading outcome-1.3.0.post0-py2.py3-none-any.whl.metadata (2.6 kB)\n",
      "Requirement already satisfied: sniffio>=1.3.0 in c:\\users\\e9862\\anaconda3\\lib\\site-packages (from trio~=0.17->selenium) (1.3.0)\n",
      "Requirement already satisfied: cffi>=1.14 in c:\\users\\e9862\\anaconda3\\lib\\site-packages (from trio~=0.17->selenium) (1.16.0)\n",
      "Collecting wsproto>=0.14 (from trio-websocket~=0.9->selenium)\n",
      "  Downloading wsproto-1.2.0-py3-none-any.whl.metadata (5.6 kB)\n",
      "Requirement already satisfied: pysocks!=1.5.7,<2.0,>=1.5.6 in c:\\users\\e9862\\anaconda3\\lib\\site-packages (from urllib3[socks]<3,>=1.26->selenium) (1.7.1)\n",
      "Requirement already satisfied: pycparser in c:\\users\\e9862\\anaconda3\\lib\\site-packages (from cffi>=1.14->trio~=0.17->selenium) (2.21)\n",
      "Collecting h11<1,>=0.9.0 (from wsproto>=0.14->trio-websocket~=0.9->selenium)\n",
      "  Downloading h11-0.14.0-py3-none-any.whl.metadata (8.2 kB)\n",
      "Downloading selenium-4.25.0-py3-none-any.whl (9.7 MB)\n",
      "   ---------------------------------------- 0.0/9.7 MB ? eta -:--:--\n",
      "    --------------------------------------- 0.1/9.7 MB 4.3 MB/s eta 0:00:03\n",
      "   - -------------------------------------- 0.3/9.7 MB 3.5 MB/s eta 0:00:03\n",
      "   - -------------------------------------- 0.4/9.7 MB 3.7 MB/s eta 0:00:03\n",
      "   -- ------------------------------------- 0.6/9.7 MB 3.3 MB/s eta 0:00:03\n",
      "   -- ------------------------------------- 0.7/9.7 MB 3.1 MB/s eta 0:00:03\n",
      "   --- ------------------------------------ 0.8/9.7 MB 3.0 MB/s eta 0:00:03\n",
      "   --- ------------------------------------ 0.9/9.7 MB 3.1 MB/s eta 0:00:03\n",
      "   ---- ----------------------------------- 1.1/9.7 MB 3.1 MB/s eta 0:00:03\n",
      "   ---- ----------------------------------- 1.2/9.7 MB 3.0 MB/s eta 0:00:03\n",
      "   ----- ---------------------------------- 1.3/9.7 MB 2.9 MB/s eta 0:00:03\n",
      "   ----- ---------------------------------- 1.4/9.7 MB 2.8 MB/s eta 0:00:03\n",
      "   ----- ---------------------------------- 1.4/9.7 MB 2.7 MB/s eta 0:00:04\n",
      "   ------ --------------------------------- 1.6/9.7 MB 2.7 MB/s eta 0:00:03\n",
      "   ------- -------------------------------- 1.7/9.7 MB 2.8 MB/s eta 0:00:03\n",
      "   ------- -------------------------------- 1.9/9.7 MB 2.9 MB/s eta 0:00:03\n",
      "   -------- ------------------------------- 2.1/9.7 MB 3.0 MB/s eta 0:00:03\n",
      "   --------- ------------------------------ 2.3/9.7 MB 3.0 MB/s eta 0:00:03\n",
      "   ---------- ----------------------------- 2.5/9.7 MB 3.0 MB/s eta 0:00:03\n",
      "   ---------- ----------------------------- 2.6/9.7 MB 3.0 MB/s eta 0:00:03\n",
      "   ----------- ---------------------------- 2.8/9.7 MB 3.1 MB/s eta 0:00:03\n",
      "   ------------ --------------------------- 3.0/9.7 MB 3.1 MB/s eta 0:00:03\n",
      "   ------------ --------------------------- 3.1/9.7 MB 3.2 MB/s eta 0:00:03\n",
      "   ------------- -------------------------- 3.3/9.7 MB 3.1 MB/s eta 0:00:03\n",
      "   -------------- ------------------------- 3.5/9.7 MB 3.2 MB/s eta 0:00:02\n",
      "   --------------- ------------------------ 3.7/9.7 MB 3.2 MB/s eta 0:00:02\n",
      "   ---------------- ----------------------- 3.9/9.7 MB 3.3 MB/s eta 0:00:02\n",
      "   ---------------- ----------------------- 4.1/9.7 MB 3.3 MB/s eta 0:00:02\n",
      "   ----------------- ---------------------- 4.2/9.7 MB 3.3 MB/s eta 0:00:02\n",
      "   ------------------ --------------------- 4.4/9.7 MB 3.4 MB/s eta 0:00:02\n",
      "   ------------------ --------------------- 4.6/9.7 MB 3.4 MB/s eta 0:00:02\n",
      "   ------------------- -------------------- 4.8/9.7 MB 3.4 MB/s eta 0:00:02\n",
      "   -------------------- ------------------- 4.9/9.7 MB 3.4 MB/s eta 0:00:02\n",
      "   --------------------- ------------------ 5.2/9.7 MB 3.4 MB/s eta 0:00:02\n",
      "   ---------------------- ----------------- 5.4/9.7 MB 3.5 MB/s eta 0:00:02\n",
      "   ---------------------- ----------------- 5.5/9.7 MB 3.5 MB/s eta 0:00:02\n",
      "   ----------------------- ---------------- 5.8/9.7 MB 3.5 MB/s eta 0:00:02\n",
      "   ------------------------ --------------- 5.9/9.7 MB 3.5 MB/s eta 0:00:02\n",
      "   ------------------------- -------------- 6.1/9.7 MB 3.5 MB/s eta 0:00:02\n",
      "   ------------------------- -------------- 6.3/9.7 MB 3.5 MB/s eta 0:00:01\n",
      "   -------------------------- ------------- 6.4/9.7 MB 3.5 MB/s eta 0:00:01\n",
      "   --------------------------- ------------ 6.6/9.7 MB 3.5 MB/s eta 0:00:01\n",
      "   --------------------------- ------------ 6.8/9.7 MB 3.6 MB/s eta 0:00:01\n",
      "   ---------------------------- ----------- 7.0/9.7 MB 3.6 MB/s eta 0:00:01\n",
      "   ----------------------------- ---------- 7.1/9.7 MB 3.6 MB/s eta 0:00:01\n",
      "   ------------------------------ --------- 7.3/9.7 MB 3.5 MB/s eta 0:00:01\n",
      "   ------------------------------ --------- 7.4/9.7 MB 3.6 MB/s eta 0:00:01\n",
      "   ------------------------------- -------- 7.6/9.7 MB 3.6 MB/s eta 0:00:01\n",
      "   -------------------------------- ------- 7.8/9.7 MB 3.6 MB/s eta 0:00:01\n",
      "   -------------------------------- ------- 7.9/9.7 MB 3.6 MB/s eta 0:00:01\n",
      "   --------------------------------- ------ 8.0/9.7 MB 3.5 MB/s eta 0:00:01\n",
      "   --------------------------------- ------ 8.2/9.7 MB 3.5 MB/s eta 0:00:01\n",
      "   ---------------------------------- ----- 8.3/9.7 MB 3.5 MB/s eta 0:00:01\n",
      "   ---------------------------------- ----- 8.5/9.7 MB 3.5 MB/s eta 0:00:01\n",
      "   ----------------------------------- ---- 8.6/9.7 MB 3.5 MB/s eta 0:00:01\n",
      "   ------------------------------------ --- 8.8/9.7 MB 3.5 MB/s eta 0:00:01\n",
      "   ------------------------------------ --- 8.9/9.7 MB 3.5 MB/s eta 0:00:01\n",
      "   ------------------------------------- -- 9.1/9.7 MB 3.5 MB/s eta 0:00:01\n",
      "   -------------------------------------- - 9.2/9.7 MB 3.5 MB/s eta 0:00:01\n",
      "   -------------------------------------- - 9.4/9.7 MB 3.5 MB/s eta 0:00:01\n",
      "   ---------------------------------------  9.6/9.7 MB 3.5 MB/s eta 0:00:01\n",
      "   ---------------------------------------  9.7/9.7 MB 3.5 MB/s eta 0:00:01\n",
      "   ---------------------------------------- 9.7/9.7 MB 3.4 MB/s eta 0:00:00\n",
      "Downloading trio-0.26.2-py3-none-any.whl (475 kB)\n",
      "   ---------------------------------------- 0.0/476.0 kB ? eta -:--:--\n",
      "   ---------------- ----------------------- 194.6/476.0 kB 3.9 MB/s eta 0:00:01\n",
      "   --------------------------- ------------ 327.7/476.0 kB 3.4 MB/s eta 0:00:01\n",
      "   --------------------------------- ------ 399.4/476.0 kB 2.8 MB/s eta 0:00:01\n",
      "   ---------------------------------------  471.0/476.0 kB 2.7 MB/s eta 0:00:01\n",
      "   ---------------------------------------- 476.0/476.0 kB 2.5 MB/s eta 0:00:00\n",
      "Downloading trio_websocket-0.11.1-py3-none-any.whl (17 kB)\n",
      "Downloading attrs-24.2.0-py3-none-any.whl (63 kB)\n",
      "   ---------------------------------------- 0.0/63.0 kB ? eta -:--:--\n",
      "   ---------------------------------------- 63.0/63.0 kB 1.6 MB/s eta 0:00:00\n",
      "Downloading wsproto-1.2.0-py3-none-any.whl (24 kB)\n",
      "Downloading outcome-1.3.0.post0-py2.py3-none-any.whl (10 kB)\n",
      "Downloading h11-0.14.0-py3-none-any.whl (58 kB)\n",
      "   ---------------------------------------- 0.0/58.3 kB ? eta -:--:--\n",
      "   ---------------------------------------- 58.3/58.3 kB 3.2 MB/s eta 0:00:00\n",
      "Installing collected packages: h11, attrs, wsproto, outcome, trio, trio-websocket, selenium\n",
      "  Attempting uninstall: attrs\n",
      "    Found existing installation: attrs 23.1.0\n",
      "    Uninstalling attrs-23.1.0:\n",
      "      Successfully uninstalled attrs-23.1.0\n",
      "Successfully installed attrs-24.2.0 h11-0.14.0 outcome-1.3.0.post0 selenium-4.25.0 trio-0.26.2 trio-websocket-0.11.1 wsproto-1.2.0\n",
      "Note: you may need to restart the kernel to use updated packages.\n"
     ]
    }
   ],
   "source": [
    "pip install selenium"
   ]
  },
  {
   "cell_type": "code",
   "execution_count": 3,
   "id": "9dc471e0-5619-4118-83b1-7d0ea7a16ed6",
   "metadata": {},
   "outputs": [
    {
     "data": {
      "text/plain": [
       "<selenium.webdriver.chrome.options.Options at 0x199359b42f0>"
      ]
     },
     "execution_count": 3,
     "metadata": {},
     "output_type": "execute_result"
    }
   ],
   "source": [
    "from selenium import webdriver\n",
    "from selenium.webdriver.common.by import By\n",
    "from selenium.webdriver.chrome.options import Options\n",
    "import time\n",
    "\n",
    "options = Options()\n",
    "options"
   ]
  },
  {
   "cell_type": "code",
   "execution_count": 4,
   "id": "b38712ea-2736-4717-837b-33dcf04e8e06",
   "metadata": {},
   "outputs": [],
   "source": [
    "options.add_experimental_option(\"detach\", True)"
   ]
  },
  {
   "cell_type": "markdown",
   "id": "817305a9-bb99-4629-9734-3d2898fe59c0",
   "metadata": {},
   "source": [
    "## 브라우저 시행 및 페이지 접속"
   ]
  },
  {
   "cell_type": "code",
   "execution_count": 14,
   "id": "03fcd4be-9ec3-4251-b0f3-df7edc09564c",
   "metadata": {},
   "outputs": [],
   "source": [
    "url = 'https://naver.com'\n",
    "driver = webdriver.Chrome(options=options)"
   ]
  },
  {
   "cell_type": "code",
   "execution_count": 15,
   "id": "e1d79431-cf06-4070-b2bd-7247877cc3df",
   "metadata": {},
   "outputs": [],
   "source": [
    "driver.get(url)\n",
    "time.sleep(2)"
   ]
  },
  {
   "cell_type": "markdown",
   "id": "138afe97-270d-41e1-a856-7916fc369cbe",
   "metadata": {},
   "source": [
    "## 상호작용"
   ]
  },
  {
   "cell_type": "code",
   "execution_count": 8,
   "id": "2aaea05d-ee33-4871-8357-f8ba024c8143",
   "metadata": {},
   "outputs": [],
   "source": [
    "driver.back()"
   ]
  },
  {
   "cell_type": "code",
   "execution_count": 9,
   "id": "4c42fcae-f4ef-4e9b-b398-410b49db8ad2",
   "metadata": {},
   "outputs": [],
   "source": [
    "driver.forward()"
   ]
  },
  {
   "cell_type": "code",
   "execution_count": 10,
   "id": "9b6c79e8-aed3-4fbc-98a7-aef3ea375918",
   "metadata": {},
   "outputs": [],
   "source": [
    "driver.refresh()"
   ]
  },
  {
   "cell_type": "markdown",
   "id": "e29c294f-f5b5-4447-b027-4677ad7c2dc0",
   "metadata": {},
   "source": [
    "## HTML요소 찾기"
   ]
  },
  {
   "cell_type": "code",
   "execution_count": 16,
   "id": "ec6bf7cf-5d09-4a2b-8810-972411316835",
   "metadata": {},
   "outputs": [
    {
     "data": {
      "text/plain": [
       "\u001b[1;31mSignature:\u001b[0m \u001b[0mdriver\u001b[0m\u001b[1;33m.\u001b[0m\u001b[0mfind_element\u001b[0m\u001b[1;33m(\u001b[0m\u001b[0mby\u001b[0m\u001b[1;33m=\u001b[0m\u001b[1;34m'id'\u001b[0m\u001b[1;33m,\u001b[0m \u001b[0mvalue\u001b[0m\u001b[1;33m:\u001b[0m \u001b[0mOptional\u001b[0m\u001b[1;33m[\u001b[0m\u001b[0mstr\u001b[0m\u001b[1;33m]\u001b[0m \u001b[1;33m=\u001b[0m \u001b[1;32mNone\u001b[0m\u001b[1;33m)\u001b[0m \u001b[1;33m->\u001b[0m \u001b[0mselenium\u001b[0m\u001b[1;33m.\u001b[0m\u001b[0mwebdriver\u001b[0m\u001b[1;33m.\u001b[0m\u001b[0mremote\u001b[0m\u001b[1;33m.\u001b[0m\u001b[0mwebelement\u001b[0m\u001b[1;33m.\u001b[0m\u001b[0mWebElement\u001b[0m\u001b[1;33m\u001b[0m\u001b[1;33m\u001b[0m\u001b[0m\n",
       "\u001b[1;31mDocstring:\u001b[0m\n",
       "Find an element given a By strategy and locator.\n",
       "\n",
       ":Usage:\n",
       "    ::\n",
       "\n",
       "        element = driver.find_element(By.ID, 'foo')\n",
       "\n",
       ":rtype: WebElement\n",
       "\u001b[1;31mFile:\u001b[0m      c:\\users\\e9862\\anaconda3\\lib\\site-packages\\selenium\\webdriver\\remote\\webdriver.py\n",
       "\u001b[1;31mType:\u001b[0m      method"
      ]
     },
     "metadata": {},
     "output_type": "display_data"
    }
   ],
   "source": [
    "driver.find_element?"
   ]
  },
  {
   "cell_type": "code",
   "execution_count": 18,
   "id": "d607eb58-9a33-4ab2-b131-9f72d3b3cfc9",
   "metadata": {},
   "outputs": [
    {
     "data": {
      "text/plain": [
       "<selenium.webdriver.remote.webelement.WebElement (session=\"38f5fa0f7ac6a0dee5de50665a0051cd\", element=\"f.AC064D4717A6077BE2941655C1CA8DE1.d.AA4B33D14E3569150C918AB25E16D4DF.e.6\")>"
      ]
     },
     "execution_count": 18,
     "metadata": {},
     "output_type": "execute_result"
    }
   ],
   "source": [
    "driver.find_element(By.ID, 'query')"
   ]
  },
  {
   "cell_type": "code",
   "execution_count": 19,
   "id": "fd11ef9e-b985-4bf8-9404-266ac459349b",
   "metadata": {},
   "outputs": [],
   "source": [
    "# 키 입력\n",
    "driver.find_element(By.ID, 'query').send_keys('뉴진스')"
   ]
  },
  {
   "cell_type": "code",
   "execution_count": 20,
   "id": "7d7b06dd-5ac1-4f93-a4d8-2246f15fb363",
   "metadata": {},
   "outputs": [],
   "source": [
    "driver.find_element(By.CLASS_NAME, 'search_input').send_keys('블랙핑크')"
   ]
  },
  {
   "cell_type": "code",
   "execution_count": 21,
   "id": "81fb987b-6f9f-4234-bba6-d5e4bae1d548",
   "metadata": {},
   "outputs": [],
   "source": [
    "driver.find_element(By.NAME, 'query').send_keys('르세라핌')"
   ]
  },
  {
   "cell_type": "code",
   "execution_count": 22,
   "id": "69a8fa50-5ef7-443a-9269-93321ad77714",
   "metadata": {},
   "outputs": [],
   "source": [
    "driver.find_element(By.XPATH, '//*[@id=\"query\"]').send_keys('BTS')"
   ]
  },
  {
   "cell_type": "markdown",
   "id": "76652176-ec76-401f-b23a-80eb0adcdb03",
   "metadata": {},
   "source": [
    "## 클릭\r\n",
    "네이버 쇼핑 메뉴를 클릭해보자."
   ]
  },
  {
   "cell_type": "code",
   "execution_count": 23,
   "id": "baf44f90-e135-42a6-b4e6-3cf38189e1fa",
   "metadata": {},
   "outputs": [
    {
     "data": {
      "text/plain": [
       "<selenium.webdriver.remote.webelement.WebElement (session=\"38f5fa0f7ac6a0dee5de50665a0051cd\", element=\"f.AC064D4717A6077BE2941655C1CA8DE1.d.32870C755F433221222EBB5EEDFB8957.e.766\")>"
      ]
     },
     "execution_count": 23,
     "metadata": {},
     "output_type": "execute_result"
    }
   ],
   "source": [
    "driver.find_element(By.LINK_TEXT, '쇼핑')"
   ]
  },
  {
   "cell_type": "code",
   "execution_count": 24,
   "id": "69982916-af93-4c5d-9359-520d727bf471",
   "metadata": {},
   "outputs": [],
   "source": [
    "driver.find_element(By.LINK_TEXT, '쇼핑').click()"
   ]
  },
  {
   "cell_type": "code",
   "execution_count": 27,
   "id": "fc361799-6b5c-42d4-a269-f9a6310eae1f",
   "metadata": {},
   "outputs": [],
   "source": [
    "# 일부 매칭\n",
    "driver.find_element(By.PARTIAL_LINK_TEXT, '증').click()"
   ]
  },
  {
   "cell_type": "code",
   "execution_count": 28,
   "id": "58f621dd-c473-4abf-a6d3-24d462146c2b",
   "metadata": {},
   "outputs": [
    {
     "data": {
      "text/plain": [
       "<selenium.webdriver.remote.webelement.WebElement (session=\"38f5fa0f7ac6a0dee5de50665a0051cd\", element=\"f.AC064D4717A6077BE2941655C1CA8DE1.d.32870C755F433221222EBB5EEDFB8957.e.476\")>"
      ]
     },
     "execution_count": 28,
     "metadata": {},
     "output_type": "execute_result"
    }
   ],
   "source": [
    "# 태그로 찾기 \n",
    "# 태그는 요소가 너무 많으므로 정확하게 대상을 찾을 때에는 권장 안함\n",
    "driver.find_element(By.TAG_NAME, 'div')"
   ]
  },
  {
   "cell_type": "code",
   "execution_count": 29,
   "id": "204464be-be31-42b3-b17b-91090e5677bd",
   "metadata": {},
   "outputs": [
    {
     "data": {
      "text/plain": [
       "[<selenium.webdriver.remote.webelement.WebElement (session=\"38f5fa0f7ac6a0dee5de50665a0051cd\", element=\"f.AC064D4717A6077BE2941655C1CA8DE1.d.32870C755F433221222EBB5EEDFB8957.e.754\")>,\n",
       " <selenium.webdriver.remote.webelement.WebElement (session=\"38f5fa0f7ac6a0dee5de50665a0051cd\", element=\"f.AC064D4717A6077BE2941655C1CA8DE1.d.32870C755F433221222EBB5EEDFB8957.e.758\")>,\n",
       " <selenium.webdriver.remote.webelement.WebElement (session=\"38f5fa0f7ac6a0dee5de50665a0051cd\", element=\"f.AC064D4717A6077BE2941655C1CA8DE1.d.32870C755F433221222EBB5EEDFB8957.e.762\")>,\n",
       " <selenium.webdriver.remote.webelement.WebElement (session=\"38f5fa0f7ac6a0dee5de50665a0051cd\", element=\"f.AC064D4717A6077BE2941655C1CA8DE1.d.32870C755F433221222EBB5EEDFB8957.e.766\")>,\n",
       " <selenium.webdriver.remote.webelement.WebElement (session=\"38f5fa0f7ac6a0dee5de50665a0051cd\", element=\"f.AC064D4717A6077BE2941655C1CA8DE1.d.32870C755F433221222EBB5EEDFB8957.e.770\")>,\n",
       " <selenium.webdriver.remote.webelement.WebElement (session=\"38f5fa0f7ac6a0dee5de50665a0051cd\", element=\"f.AC064D4717A6077BE2941655C1CA8DE1.d.32870C755F433221222EBB5EEDFB8957.e.774\")>,\n",
       " <selenium.webdriver.remote.webelement.WebElement (session=\"38f5fa0f7ac6a0dee5de50665a0051cd\", element=\"f.AC064D4717A6077BE2941655C1CA8DE1.d.32870C755F433221222EBB5EEDFB8957.e.778\")>,\n",
       " <selenium.webdriver.remote.webelement.WebElement (session=\"38f5fa0f7ac6a0dee5de50665a0051cd\", element=\"f.AC064D4717A6077BE2941655C1CA8DE1.d.32870C755F433221222EBB5EEDFB8957.e.782\")>,\n",
       " <selenium.webdriver.remote.webelement.WebElement (session=\"38f5fa0f7ac6a0dee5de50665a0051cd\", element=\"f.AC064D4717A6077BE2941655C1CA8DE1.d.32870C755F433221222EBB5EEDFB8957.e.786\")>,\n",
       " <selenium.webdriver.remote.webelement.WebElement (session=\"38f5fa0f7ac6a0dee5de50665a0051cd\", element=\"f.AC064D4717A6077BE2941655C1CA8DE1.d.32870C755F433221222EBB5EEDFB8957.e.790\")>,\n",
       " <selenium.webdriver.remote.webelement.WebElement (session=\"38f5fa0f7ac6a0dee5de50665a0051cd\", element=\"f.AC064D4717A6077BE2941655C1CA8DE1.d.32870C755F433221222EBB5EEDFB8957.e.794\")>]"
      ]
     },
     "execution_count": 29,
     "metadata": {},
     "output_type": "execute_result"
    }
   ],
   "source": [
    "# 여러개의 요소를 찾을 때\n",
    "driver.find_elements(By.CSS_SELECTOR, '.link_service')"
   ]
  },
  {
   "cell_type": "markdown",
   "id": "f7feb7ac-c955-4879-b16c-f20778628814",
   "metadata": {},
   "source": [
    "## 자동 로그인 연습"
   ]
  },
  {
   "cell_type": "code",
   "execution_count": 51,
   "id": "9c4e7450-67f4-439f-8453-ecf37f3133c7",
   "metadata": {},
   "outputs": [],
   "source": [
    "#  테스트용 html\n",
    "url = 'file:///C:/workspace/WASSUP4/02_Data_Collection/sample/signin.html'\n",
    "driver = webdriver.Chrome(options=options)\n",
    "driver.get(url)\n",
    "time.sleep(2)"
   ]
  },
  {
   "cell_type": "code",
   "execution_count": 52,
   "id": "a922f2fa-db09-4934-b155-6e3b0cfb3cd5",
   "metadata": {},
   "outputs": [],
   "source": [
    "username = driver.find_element(By.NAME, \"username\")\n",
    "username.send_keys('korea')"
   ]
  },
  {
   "cell_type": "code",
   "execution_count": 53,
   "id": "55b1d726-4504-42ac-8396-40155826a715",
   "metadata": {},
   "outputs": [],
   "source": [
    "password = driver.find_element(By.NAME, \"password\")\n",
    "password.send_keys('1234')"
   ]
  },
  {
   "cell_type": "code",
   "execution_count": 56,
   "id": "20c4decc-01e6-4ee1-bca8-b93322de8d57",
   "metadata": {},
   "outputs": [],
   "source": [
    "# login = driver.find_element(By.XPATH, '//*[@id=\"loginForm\"]/input[3]')\n",
    "# login.click()"
   ]
  },
  {
   "cell_type": "code",
   "execution_count": null,
   "id": "80234971-5a39-492b-afbf-37434e7c6540",
   "metadata": {},
   "outputs": [],
   "source": [
    "driver.back()"
   ]
  },
  {
   "cell_type": "code",
   "execution_count": 41,
   "id": "e3968db4-732a-4cac-8b45-fccd36bacd0d",
   "metadata": {},
   "outputs": [],
   "source": [
    "login = driver.find_element(By.XPATH, '/html/body/form/input[3]')\n",
    "login.click()"
   ]
  },
  {
   "cell_type": "code",
   "execution_count": 49,
   "id": "c5ce242e-863b-4b6f-b3f7-513bc7931026",
   "metadata": {},
   "outputs": [],
   "source": [
    "driver.back()"
   ]
  },
  {
   "cell_type": "code",
   "execution_count": 57,
   "id": "f244cfde-12af-4c9d-8b28-7b9c7645f6c1",
   "metadata": {},
   "outputs": [],
   "source": [
    "# login = driver.find_element(By.CSS_SELECTOR, '[value=Login]')\n",
    "# login.click()"
   ]
  },
  {
   "cell_type": "code",
   "execution_count": 47,
   "id": "aae642ca-4769-4d01-835d-f28e524a7487",
   "metadata": {},
   "outputs": [],
   "source": [
    "driver.back()"
   ]
  },
  {
   "cell_type": "markdown",
   "id": "a0ca5be3-79ee-4989-bfa7-507ee5684d25",
   "metadata": {},
   "source": [
    "## options"
   ]
  },
  {
   "cell_type": "code",
   "execution_count": 58,
   "id": "7cb77562-0a51-4e8f-838f-8c10c43437a4",
   "metadata": {},
   "outputs": [],
   "source": [
    "from selenium import webdriver\n",
    "from selenium.webdriver.common.by import By\n",
    "from selenium.webdriver.chrome.options import Options\n",
    "import time\n",
    "\n",
    "options = Options()\n",
    "options.add_argument(\"--headless=new\") \n",
    "# options.add_argument('--window-size= x, y') #실행되는 브라우저 크기를 지정할 수 있습니다.\n",
    "# options.add_argument('--start-maximized') #브라우저가 최대화된 상태로 실행됩니다.\n",
    "# options.add_argument('--start-fullscreen') #브라우저가 풀스크린 모드(F11)로 실행됩니다.\n",
    "# options.add_argument('--blink-settings=imagesEnabled=false') #브라우저에서 이미지 로딩을 하지 않습니다.\n",
    "# options.add_argument('--mute-audio') #브라우저에 음소거 옵션을 적용합니다.\n",
    "# options.add_argument('incognito') #시크릿 모드의 브라우저가 실행됩니다.\n",
    "options.add_experimental_option(\"detach\", True) #특정함수안에서  드라이버 생성시 함수종료될 때 브라우저 같이 종료되는 문제 대응"
   ]
  },
  {
   "cell_type": "code",
   "execution_count": 60,
   "id": "c27fe1b1-c975-4f39-ab93-ada7b0f9fe28",
   "metadata": {},
   "outputs": [],
   "source": [
    "url = 'http://naver.com'\n",
    "driver = webdriver.Chrome(options=options)\n",
    "driver.get(url)"
   ]
  },
  {
   "cell_type": "code",
   "execution_count": 61,
   "id": "e53000d5-b155-4383-8295-749563b6b261",
   "metadata": {},
   "outputs": [
    {
     "name": "stdout",
     "output_type": "stream",
     "text": [
      "NAVER\n"
     ]
    }
   ],
   "source": [
    "print(driver.title)"
   ]
  },
  {
   "cell_type": "code",
   "execution_count": 62,
   "id": "3a06f810-ce89-4727-a603-20a579ab9ca6",
   "metadata": {},
   "outputs": [],
   "source": [
    "driver.quit() # 탭 닫기"
   ]
  },
  {
   "cell_type": "markdown",
   "id": "48588ed9-d71f-44f3-a34d-b5c7211fade4",
   "metadata": {},
   "source": [
    "## 윈도우 컨트롤"
   ]
  },
  {
   "cell_type": "code",
   "execution_count": 63,
   "id": "c3befce7-c4de-4a66-8222-67c0e539b465",
   "metadata": {},
   "outputs": [],
   "source": [
    "from selenium import webdriver\n",
    "from selenium.webdriver.common.by import By\n",
    "from selenium.webdriver.chrome.options import Options\n",
    "import time\n",
    "\n",
    "options = Options()\n",
    "# options.add_argument(\"--start-maximized\")\n",
    "# options.add_argument(\"--headless=new\") \n",
    "options.add_experimental_option(\"detach\", True) #\n",
    "\n",
    "url = 'http://naver.com'\n",
    "driver = webdriver.Chrome(options=options)\n",
    "driver.get(url)\n",
    "time.sleep(2)"
   ]
  },
  {
   "cell_type": "code",
   "execution_count": 64,
   "id": "02a4bd19-455d-4e3e-b804-ad5e557d8b10",
   "metadata": {},
   "outputs": [
    {
     "name": "stdout",
     "output_type": "stream",
     "text": [
      "1050px 832px\n"
     ]
    }
   ],
   "source": [
    "# 창의 너비/높이 구하기\n",
    "\n",
    "size = driver.get_window_size()\n",
    "width = size.get(\"width\")\n",
    "height = size.get(\"height\")\n",
    "\n",
    "print(str(width)+\"px\"+\" \"+str(height)+\"px\")"
   ]
  },
  {
   "cell_type": "code",
   "execution_count": 65,
   "id": "0a69aa2e-ddbd-433f-b398-2c857d954cb6",
   "metadata": {},
   "outputs": [],
   "source": [
    "# 창 크기 조절\n",
    "driver.set_window_size(800, 600)"
   ]
  },
  {
   "cell_type": "code",
   "execution_count": 66,
   "id": "b3ee4e3c-60a1-47b9-91c1-228743542b1e",
   "metadata": {},
   "outputs": [
    {
     "name": "stdout",
     "output_type": "stream",
     "text": [
      "x : 10 y : 10\n"
     ]
    }
   ],
   "source": [
    "# 스크린 상에서의 창 좌표\n",
    "position = driver.get_window_position()\n",
    "x = position.get('x')\n",
    "y = position.get('y')\n",
    "\n",
    "print(\"x : \"+str(x)+\" \"+\"y : \"+str(y))"
   ]
  },
  {
   "cell_type": "code",
   "execution_count": 67,
   "id": "87c9661a-3e47-4fae-ae8e-81aef8ee514a",
   "metadata": {},
   "outputs": [
    {
     "data": {
      "text/plain": [
       "{'height': 600, 'width': 800, 'x': 200, 'y': 200}"
      ]
     },
     "execution_count": 67,
     "metadata": {},
     "output_type": "execute_result"
    }
   ],
   "source": [
    "driver.set_window_position(200,200)"
   ]
  },
  {
   "cell_type": "code",
   "execution_count": 68,
   "id": "1858ab22-c920-42a8-b058-b7de7ad7c098",
   "metadata": {},
   "outputs": [],
   "source": [
    "# 창 크기 최대화\n",
    "driver.maximize_window()"
   ]
  },
  {
   "cell_type": "code",
   "execution_count": 69,
   "id": "b9d9f3d1-4881-435a-9d7c-941f0898f74d",
   "metadata": {},
   "outputs": [],
   "source": [
    "# 창 크기 최소화\n",
    "driver.minimize_window()"
   ]
  },
  {
   "cell_type": "code",
   "execution_count": 70,
   "id": "95d6df77-82c8-476f-a683-d3112d780c4d",
   "metadata": {},
   "outputs": [],
   "source": [
    "# 창 크기 최소화\n",
    "driver.minimize_window()"
   ]
  },
  {
   "cell_type": "markdown",
   "id": "7f852502-52e4-44ae-8628-2baa289f4bdc",
   "metadata": {},
   "source": [
    "## 예제) 네이버 블로그"
   ]
  },
  {
   "cell_type": "code",
   "execution_count": 74,
   "id": "cd7b83cb-926d-4e2f-9a11-27d451388531",
   "metadata": {},
   "outputs": [],
   "source": [
    "from selenium import webdriver\n",
    "from selenium.webdriver.common.by import By\n",
    "from selenium.webdriver.chrome.options import Options\n",
    "import time, random, pandas as pd\n",
    "\n",
    "options = Options()\n",
    "options.add_argument('--window-size=974,1047')\n",
    "options.add_argument('--window-position=-7,0')\n",
    "options.add_experimental_option(\"detach\", True)"
   ]
  },
  {
   "cell_type": "code",
   "execution_count": 75,
   "id": "d8221cc2-1394-4d6d-afea-d06084e9698e",
   "metadata": {},
   "outputs": [],
   "source": [
    "# 웹드라이버 로드\n",
    "driver = webdriver.Chrome( options = options)"
   ]
  },
  {
   "cell_type": "code",
   "execution_count": 76,
   "id": "6ef3b639-7a86-424e-9293-d0107293af16",
   "metadata": {},
   "outputs": [],
   "source": [
    "# 조건 설정\n",
    "where = 'blog'\n",
    "query = '인공지능'\n",
    "dateform = '20240101to20240625'\n",
    "url = f'https://search.naver.com/search.naver?ssc=tab.{where}.all&query={query}&sm=tab_opt&nso=so%3Ar%2Cp%3Afrom{dateform}'\n",
    "# url = f'https://search.naver.com/search.naver?where={where}&query={query}&sm=tab_op&nso=so:r,p:from{dateform}'\n",
    "fname = f'{where}_{query}_{dateform}'"
   ]
  },
  {
   "cell_type": "code",
   "execution_count": 77,
   "id": "bedcd587-7063-4ec6-aebd-01f1297b87e4",
   "metadata": {},
   "outputs": [],
   "source": [
    "# url 접속\n",
    "driver.get(url)\n",
    "time.sleep(random.randint(2,3))"
   ]
  },
  {
   "cell_type": "code",
   "execution_count": null,
   "id": "85fc7368-e06d-4eac-b48b-05546c82ecb3",
   "metadata": {},
   "outputs": [],
   "source": []
  }
 ],
 "metadata": {
  "kernelspec": {
   "display_name": "Python 3 (ipykernel)",
   "language": "python",
   "name": "python3"
  },
  "language_info": {
   "codemirror_mode": {
    "name": "ipython",
    "version": 3
   },
   "file_extension": ".py",
   "mimetype": "text/x-python",
   "name": "python",
   "nbconvert_exporter": "python",
   "pygments_lexer": "ipython3",
   "version": "3.12.4"
  }
 },
 "nbformat": 4,
 "nbformat_minor": 5
}
