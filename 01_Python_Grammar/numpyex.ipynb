{
 "cells": [
  {
   "cell_type": "code",
   "execution_count": null,
   "id": "ab73744d-71ed-4b22-ac50-501caae2ab04",
   "metadata": {},
   "outputs": [],
   "source": [
    "# Numpy\n",
    "# Numerical Python\n",
    "# 고성능 수치 계산을 위한 라이브러리\n",
    "# 벡터나 행렬 연산에 편리한 기능 제공\n",
    "# 모든 원소는 같은 자료형만 가능"
   ]
  },
  {
   "cell_type": "code",
   "execution_count": 16,
   "id": "12565b31-6a9f-4691-a1e0-86a3243ff00c",
   "metadata": {},
   "outputs": [
    {
     "name": "stdout",
     "output_type": "stream",
     "text": [
      "[ 0  1  2  3  4  5  6  7  8  9 10 11 12 13 14]\n",
      "[[ 0  3  6  9 12]\n",
      " [ 1  4  7 10 13]\n",
      " [ 2  5  8 11 14]]\n",
      "<class 'numpy.ndarray'>\n",
      "(3, 5)\n",
      "int32\n",
      "2\n",
      "15\n"
     ]
    }
   ],
   "source": [
    "import numpy as np\n",
    "a = np.arange( 15 )\n",
    "print (a)\n",
    "a = a.reshape (3, 5, order='F' )      # C 행부터 할당 F 열부터 할당\n",
    "print(a)\n",
    "print( type( a ) )\n",
    "print( a.shape )\n",
    "print( a.dtype )\n",
    "print( a.ndim )\n",
    "print( a.size )\n",
    "\n",
    "# print( dir(np) )"
   ]
  },
  {
   "cell_type": "code",
   "execution_count": 40,
   "id": "e4b1e492-381c-4763-bc40-29c4c9dd7877",
   "metadata": {},
   "outputs": [
    {
     "name": "stdout",
     "output_type": "stream",
     "text": [
      "<class 'list'>\n",
      "<class 'numpy.ndarray'>\n",
      "<class 'tuple'>\n",
      "<class 'numpy.ndarray'>\n",
      "<class 'set'>\n",
      "<class 'numpy.ndarray'>\n"
     ]
    }
   ],
   "source": [
    "b = ( [-1, 2, 5, -3, 0, 7, -9, 7, -4, -7] )    #List\n",
    "print(type ( b ) )\n",
    "b = np.array( b )\n",
    "print( type ( b ) )\n",
    "\n",
    "t = ( 10, 20, 30, 40, 50)                      #Tuple\n",
    "print( type( t ) )\n",
    "t = np.array(t)\n",
    "print( type( t ) )\n",
    "\n",
    "s = { 10, 20, 30, 40, 50 }                     # Set\n",
    "print ( type( s ) )\n",
    "s = np.array( s )\n",
    "print( type( s ) )"
   ]
  },
  {
   "cell_type": "code",
   "execution_count": 49,
   "id": "e65cb1e7-0f66-481e-b126-20fd94184b5b",
   "metadata": {},
   "outputs": [
    {
     "name": "stdout",
     "output_type": "stream",
     "text": [
      "(10,)\n",
      "1\n",
      "int32\n",
      "[-1  2  5 -3  0  7 -9  7 -4 -7]\n",
      "[1 2 5 3 0 7 9 7 4 7]\n",
      "[1.         1.41421356 2.23606798 1.73205081 0.         2.64575131\n",
      " 3.         2.64575131 2.         2.64575131]\n",
      "[ 1  4 25  9  0 49 81 49 16 49]\n",
      "[False False False False False False False False False False]\n",
      "-3\n",
      "-0.3\n",
      "7\n",
      "-9\n",
      "5\n",
      "5\n",
      "[-9 -7 -4 -3 -1  0  2  5  7  7]\n",
      "[ 7  7  5  2  0 -1 -3 -4 -7 -9]\n",
      "-0.5\n"
     ]
    }
   ],
   "source": [
    "print( b. shape )\n",
    "print( b. ndim )\n",
    "print( b.dtype )\n",
    "print(b)\n",
    "\n",
    "# print( help( np.arange ) )\n",
    "print( np.abs(b) )                         #절대값\n",
    "print( np.sqrt( np.abs( b ) ) )            #제곱근\n",
    "print( np.square ( b ) )                   #제곱\n",
    "print( np.isnan ( b ) )                    #Non여부\n",
    "print( np.sum( b ) )                       #합계\n",
    "print( np.mean( b ) )                      #평균\n",
    "print( np.max( b ) )                       #최대값\n",
    "print( np.min( b ) )                       #최솟값\n",
    "print( np.argmax( b ) )                    #최대값의 인덱스\n",
    "print( np.argmax( b ) )                    #최대값의 인덱스\n",
    "print( np.sort( b ) )                      #정렬 오름차순\n",
    "print( np.sort( b ) [::-1] )               #정렬 내림차순    [start : end : step]\n",
    "print( np.median( b ) )                    #중간값"
   ]
  },
  {
   "cell_type": "code",
   "execution_count": null,
   "id": "7e613c8b-8173-44f1-b7af-5521da2e6934",
   "metadata": {},
   "outputs": [],
   "source": []
  },
  {
   "cell_type": "code",
   "execution_count": null,
   "id": "ecab4aa2-e6c1-40e0-9f1e-0e5b79f9458d",
   "metadata": {},
   "outputs": [],
   "source": []
  },
  {
   "cell_type": "code",
   "execution_count": null,
   "id": "6841fbb5-7e85-4906-a3ed-5450f2b746cd",
   "metadata": {},
   "outputs": [],
   "source": []
  },
  {
   "cell_type": "code",
   "execution_count": null,
   "id": "229975ef-1677-4591-ae4f-1d256d8226c2",
   "metadata": {},
   "outputs": [],
   "source": []
  },
  {
   "cell_type": "code",
   "execution_count": null,
   "id": "174f492b-351c-4ebe-aa75-8d6059ac20e2",
   "metadata": {},
   "outputs": [],
   "source": []
  }
 ],
 "metadata": {
  "kernelspec": {
   "display_name": "Python 3 (ipykernel)",
   "language": "python",
   "name": "python3"
  },
  "language_info": {
   "codemirror_mode": {
    "name": "ipython",
    "version": 3
   },
   "file_extension": ".py",
   "mimetype": "text/x-python",
   "name": "python",
   "nbconvert_exporter": "python",
   "pygments_lexer": "ipython3",
   "version": "3.12.4"
  }
 },
 "nbformat": 4,
 "nbformat_minor": 5
}
