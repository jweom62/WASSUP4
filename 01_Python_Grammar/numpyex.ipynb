{
 "cells": [
  {
   "cell_type": "code",
   "execution_count": null,
   "id": "ab73744d-71ed-4b22-ac50-501caae2ab04",
   "metadata": {},
   "outputs": [],
   "source": [
    "# Numpy\n",
    "# Numerical Python\n",
    "# 고성능 수치 계산을 위한 라이브러리\n",
    "# 벡터나 행렬 연산에 편리한 기능 제공\n",
    "# 모든 원소는 같은 자료형만 가능"
   ]
  },
  {
   "cell_type": "code",
   "execution_count": 2,
   "id": "12565b31-6a9f-4691-a1e0-86a3243ff00c",
   "metadata": {},
   "outputs": [
    {
     "name": "stdout",
     "output_type": "stream",
     "text": [
      "[ 0  1  2  3  4  5  6  7  8  9 10 11 12 13 14]\n",
      "[[ 0  3  6  9 12]\n",
      " [ 1  4  7 10 13]\n",
      " [ 2  5  8 11 14]]\n",
      "<class 'numpy.ndarray'>\n",
      "(3, 5)\n",
      "int32\n",
      "2\n",
      "15\n"
     ]
    }
   ],
   "source": [
    "import numpy as np\n",
    "a = np.arange( 15 )\n",
    "print (a)\n",
    "a = a.reshape (3, 5, order='F' )      # C 행부터 할당 F 열부터 할당\n",
    "print(a)\n",
    "print( type( a ) )\n",
    "print( a.shape )\n",
    "print( a.dtype )\n",
    "print( a.ndim )\n",
    "print( a.size )\n",
    "\n",
    "# print( dir(np) )"
   ]
  },
  {
   "cell_type": "code",
   "execution_count": 7,
   "id": "e4b1e492-381c-4763-bc40-29c4c9dd7877",
   "metadata": {},
   "outputs": [
    {
     "name": "stdout",
     "output_type": "stream",
     "text": [
      "<class 'list'>\n",
      "<class 'numpy.ndarray'>\n",
      "<class 'tuple'>\n",
      "<class 'numpy.ndarray'>\n",
      "<class 'set'>\n",
      "<class 'numpy.ndarray'>\n"
     ]
    }
   ],
   "source": [
    "b = ( [-1, 2, 5, -3, 0, 7, -9, 7, -4, -7] )    #List\n",
    "print(type ( b ) )\n",
    "b = np.array( b )\n",
    "print( type ( b ) )\n",
    "\n",
    "t = ( 10, 20, 30, 40, 50)                      #Tuple\n",
    "print( type( t ) )\n",
    "t = np.array(t)\n",
    "print( type( t ) )\n",
    "\n",
    "s = { 10, 20, 30, 40, 50 }                     # Set\n",
    "print ( type( s ) )\n",
    "s = np.array( s )\n",
    "print( type( s ) )"
   ]
  },
  {
   "cell_type": "code",
   "execution_count": 8,
   "id": "e65cb1e7-0f66-481e-b126-20fd94184b5b",
   "metadata": {},
   "outputs": [
    {
     "name": "stdout",
     "output_type": "stream",
     "text": [
      "(10,)\n",
      "1\n",
      "int32\n",
      "[-1  2  5 -3  0  7 -9  7 -4 -7]\n",
      "[1 2 5 3 0 7 9 7 4 7]\n",
      "[1.         1.41421356 2.23606798 1.73205081 0.         2.64575131\n",
      " 3.         2.64575131 2.         2.64575131]\n",
      "[ 1  4 25  9  0 49 81 49 16 49]\n",
      "[False False False False False False False False False False]\n",
      "-3\n",
      "-0.3\n",
      "7\n",
      "-9\n",
      "5\n",
      "5\n",
      "[-9 -7 -4 -3 -1  0  2  5  7  7]\n",
      "[ 7  7  5  2  0 -1 -3 -4 -7 -9]\n",
      "-0.5\n"
     ]
    }
   ],
   "source": [
    "print( b. shape )\n",
    "print( b. ndim )\n",
    "print( b.dtype )\n",
    "print(b)\n",
    "\n",
    "# print( help( np.arange ) )\n",
    "print( np.abs(b) )                         #절대값\n",
    "print( np.sqrt( np.abs( b ) ) )            #제곱근\n",
    "print( np.square ( b ) )                   #제곱\n",
    "print( np.isnan ( b ) )                    #Non여부\n",
    "print( np.sum( b ) )                       #합계\n",
    "print( np.mean( b ) )                      #평균\n",
    "print( np.max( b ) )                       #최대값\n",
    "print( np.min( b ) )                       #최솟값\n",
    "print( np.argmax( b ) )                    #최대값의 인덱스\n",
    "print( np.argmax( b ) )                    #최대값의 인덱스\n",
    "print( np.sort( b ) )                      #정렬 오름차순\n",
    "print( np.sort( b ) [::-1] )               #정렬 내림차순    [start : end : step]\n",
    "print( np.median( b ) )                    #중간값"
   ]
  },
  {
   "cell_type": "code",
   "execution_count": 4,
   "id": "7e613c8b-8173-44f1-b7af-5521da2e6934",
   "metadata": {},
   "outputs": [
    {
     "name": "stdout",
     "output_type": "stream",
     "text": [
      "<class 'list'>\n",
      "[[1, 2, 3], [4, 5, 6]]\n",
      "<class 'numpy.ndarray'>\n",
      "[[1 2 3]\n",
      " [4 5 6]]\n",
      "21\n",
      "[5 7 9]\n",
      "[ 6 15]\n",
      "3.5\n",
      "[2.5 3.5 4.5]\n",
      "[2.5 3.5 4.5]\n",
      "3.5\n",
      "[2.5 3.5 4.5]\n",
      "[2. 5.]\n",
      "6\n",
      "[4 5 6]\n",
      "[3 6]\n",
      "1.707825127659933\n",
      "2.9166666666666665\n"
     ]
    }
   ],
   "source": [
    "c = [ [ 1, 2, 3 ], [4, 5, 6] ]\n",
    "print( type( c ) )\n",
    "print( c ) \n",
    "c = np.array( c )\n",
    "print( type( c ) )\n",
    "print( c ) \n",
    "\n",
    "print( np.sum( c ) ) \n",
    "print( np.sum( c, axis=0) )\n",
    "print( np.sum( c, axis=1) )\n",
    "print( np.mean( c ) )           # 전체 평균\n",
    "print( np.mean( c, axis=0) )    # 행끼리 평균\n",
    "print( np.mean( c, axis=0) )    # 열끼리 평균\n",
    "print( np.median( c ) )  \n",
    "print( np.median( c, axis=0 ) )\n",
    "print( np.median( c, axis=1 ) )\n",
    "print( np.max( c ) )\n",
    "print( np.max( c, axis=0 ) )\n",
    "print( np.max( c, axis=1 ) )\n",
    "\n",
    "print( np.std( c ) )            # 표쥰편차\n",
    "print( np.var( c ) )            # 분산"
   ]
  },
  {
   "cell_type": "code",
   "execution_count": 9,
   "id": "ecab4aa2-e6c1-40e0-9f1e-0e5b79f9458d",
   "metadata": {},
   "outputs": [
    {
     "name": "stdout",
     "output_type": "stream",
     "text": [
      "[12 22 32 42 52]\n",
      "[11 22 33 44 55]\n",
      "[ 100  400  900 1600 2500]\n",
      "[ -5.44021111  18.25890501 -29.64094872  29.80452642 -13.11874269]\n",
      "[False False False  True  True]\n",
      "[11 22 33 44 55]\n",
      "[ 9 18 27 36 45]\n",
      "[ 10  40  90 160 250]\n",
      "[10. 10. 10. 10. 10.]\n"
     ]
    }
   ],
   "source": [
    "# element wisr\n",
    "d = [ 10, 20, 30, 40, 50 ]\n",
    "# print( d + 2 )             # error\n",
    "d = np.array( d )\n",
    "print(d + 2)\n",
    "\n",
    "e = np.array( [ 1, 2, 3, 4, 5 ] )\n",
    "print( d + e )\n",
    "print( d ** 2 )\n",
    "print( d * np.sin( d ) )\n",
    "print(d > 35 )\n",
    "\n",
    "print( np.add( d, e ) )\n",
    "print( np.subtract( d, e ) )\n",
    "print( np.multiply( d, e ) )\n",
    "print( np.divide( d, e ) )"
   ]
  },
  {
   "cell_type": "code",
   "execution_count": 12,
   "id": "6841fbb5-7e85-4906-a3ed-5450f2b746cd",
   "metadata": {},
   "outputs": [
    {
     "name": "stdout",
     "output_type": "stream",
     "text": [
      "[[0 0]\n",
      " [3 4]]\n",
      "[[3 4]\n",
      " [5 4]]\n",
      "[[3 4]\n",
      " [5 4]]\n",
      "[[3 4]\n",
      " [5 4]]\n"
     ]
    }
   ],
   "source": [
    "f = np.array( [ [0, 1], [1, 1] ] )\n",
    "g = np.array( [ [2, 0], [3, 4] ] )\n",
    "print( f * g )\n",
    "print( f @ g )                 #행렬곱\n",
    "print( np.dot (f, g) )         #행렬곱\n",
    "print( f.dot( g ) )"
   ]
  },
  {
   "cell_type": "code",
   "execution_count": 28,
   "id": "229975ef-1677-4591-ae4f-1d256d8226c2",
   "metadata": {},
   "outputs": [
    {
     "name": "stdout",
     "output_type": "stream",
     "text": [
      "[0. 0. 0. 0. 0. 0. 0. 0. 0. 0.]\n",
      "[[0. 0. 0. 0. 0.]\n",
      " [0. 0. 0. 0. 0.]\n",
      " [0. 0. 0. 0. 0.]\n",
      " [0. 0. 0. 0. 0.]\n",
      " [0. 0. 0. 0. 0.]]\n",
      "[1. 1. 1. 1. 1. 1. 1. 1. 1. 1.]\n",
      "<class 'numpy.ndarray'>\n",
      "[87 29 59 22 72 63 30 12 61 97]\n",
      "19\n"
     ]
    },
    {
     "ename": "ValueError",
     "evalue": "low >= high",
     "output_type": "error",
     "traceback": [
      "\u001b[1;31m---------------------------------------------------------------------------\u001b[0m",
      "\u001b[1;31mValueError\u001b[0m                                Traceback (most recent call last)",
      "Cell \u001b[1;32mIn[28], line 21\u001b[0m\n\u001b[0;32m     18\u001b[0m \u001b[38;5;28mprint\u001b[39m( k )\n\u001b[0;32m     20\u001b[0m \u001b[38;5;28mprint\u001b[39m( np\u001b[38;5;241m.\u001b[39mrandom\u001b[38;5;241m.\u001b[39mrandint( \u001b[38;5;241m10\u001b[39m, \u001b[38;5;241m20\u001b[39m ) )\n\u001b[1;32m---> 21\u001b[0m \u001b[38;5;28mprint\u001b[39m( np\u001b[38;5;241m.\u001b[39mrandom\u001b[38;5;241m.\u001b[39mrandint( \u001b[38;5;241m5\u001b[39m, \u001b[38;5;241m2\u001b[39m ) )\n",
      "File \u001b[1;32mnumpy\\\\random\\\\mtrand.pyx:780\u001b[0m, in \u001b[0;36mnumpy.random.mtrand.RandomState.randint\u001b[1;34m()\u001b[0m\n",
      "File \u001b[1;32mnumpy\\\\random\\\\_bounded_integers.pyx:1425\u001b[0m, in \u001b[0;36mnumpy.random._bounded_integers._rand_int32\u001b[1;34m()\u001b[0m\n",
      "\u001b[1;31mValueError\u001b[0m: low >= high"
     ]
    }
   ],
   "source": [
    "h = np.zeros( 10 )\n",
    "print( h )\n",
    "i = np.zeros( ( 5, 5 ) )\n",
    "print(i)\n",
    "j = np.ones( 10 )\n",
    "print( j ) \n",
    "\n",
    "\n",
    "# np.random.random   0~1 사이의 난수 발생\n",
    "# np.random.randint  균일 분포의 정수 난수 발생\n",
    "# np.random.rand     0~1 사이의 균일 분포 난수 matrix array 생성\n",
    "# np.random.randn    기우시안 표준 정규 분포 난수 matrix array 생성\n",
    "# np.random.normal   평균, 표준편차, sample 개수\n",
    "\n",
    "k = np.random.random( 10 ) * 100\n",
    "k = np.array( [ int(i) for i in k ] )\n",
    "print( type( k ) )\n",
    "print( k )\n",
    "\n",
    "print( np.random.randint( 10, 20 ) )\n",
    "print( np.random.randint( 5, 2 ) )"
   ]
  },
  {
   "cell_type": "code",
   "execution_count": 37,
   "id": "174f492b-351c-4ebe-aa75-8d6059ac20e2",
   "metadata": {},
   "outputs": [
    {
     "name": "stdout",
     "output_type": "stream",
     "text": [
      "[10, 11, 12, 13, 14]\n",
      "[10, 12, 14]\n",
      "[10, 11, 12, 13, 14, 15, 16, 17, 18, 19]\n",
      "[15, 16, 17, 18, 19]\n",
      "[10, 11, 12, 13, 14, 15, 16, 17, 18]\n",
      "[19, 18, 17, 16, 15, 14, 13, 12, 11, 10]\n",
      "[10 11 12 13 14]\n",
      "[10 12 14]\n",
      "[10 11 12 13 14 15 16 17]\n"
     ]
    }
   ],
   "source": [
    "# 슬라이싱\n",
    "m = [ i for i in range(10, 20 ) ]\n",
    "print( m[0:5] )                    #[ 시작 : 끝 -1 : 간격 ]\n",
    "print( m[0:5:2] )          \n",
    "print( m[:] )          \n",
    "print( m[5:] )          \n",
    "print( m[:-1] )        \n",
    "print( m[::-1] )\n",
    "\n",
    "# ndarray\n",
    "w = np.arange( 10, 20)\n",
    "print( w[0:5] )\n",
    "print( w[0:5:2] )\n",
    "print( w[:-2] )"
   ]
  },
  {
   "cell_type": "code",
   "execution_count": 48,
   "id": "93e54212-72c9-4c5c-9987-40b2064f3361",
   "metadata": {},
   "outputs": [
    {
     "name": "stdout",
     "output_type": "stream",
     "text": [
      "13\n",
      "[[1, 2, 3, 4, 5], [6, 7, 8, 9, 10], [11, 12, 13, 14, 15]]\n",
      "[11, 12, 13, 14, 15]\n",
      "[6, 7]\n",
      "[[1, 2, 3, 4, 5], [6, 7, 8, 9, 10]]\n",
      "[[1, 2, 3, 4, 5]]\n",
      "[[ 1  2  3  4  5]\n",
      " [ 6  7  8  9 10]\n",
      " [11 12 13 14 15]]\n",
      "13\n",
      "[[ 1  2  3  4  5]\n",
      " [ 6  7  8  9 10]\n",
      " [11 12 13 14 15]]\n",
      "[11 12 13 14 15]\n",
      "[[1 2 3 4 5]]\n",
      "[[1 2]\n",
      " [6 7]]\n",
      "[[ 1  2  3  4  5]\n",
      " [ 6  7  8  9 10]\n",
      " [11 12 13 14 15]]\n",
      "[[1 2 3 4]\n",
      " [6 7 8 9]]\n",
      "13\n",
      "[[15 14 13 12 11]\n",
      " [10  9  8  7  6]\n",
      " [ 5  4  3  2  1]]\n",
      "[[ 1  2  3  4  5]\n",
      " [11 12 13 14 15]]\n",
      "[[ 2  4  5]\n",
      " [ 7  9 10]\n",
      " [12 14 15]]\n",
      "[ 4 15]\n"
     ]
    }
   ],
   "source": [
    "r = [ [1, 2, 3, 4, 5], [6, 7, 8, 9, 10], [11, 12, 13, 14, 15] ]\n",
    "print( r[2][2] )\n",
    "print( r[:][:] )\n",
    "print( r[2][:] )\n",
    "print( r[1][:2] )\n",
    "print( r[:2][:2] )\n",
    "print( r[:2][:1] )\n",
    "# print( r[:, :] )               #에러\n",
    "\n",
    "s = np.arange( 1, 16).reshape( 3, 5)\n",
    "print( s )\n",
    "print( s[2][2] )\n",
    "print( s[:][:] )\n",
    "print( s[2][:] )\n",
    "print( s[:2][:1] )                 #[[1 2 3 4 5]]\n",
    "\n",
    "print( s[:2, :2 ] )\n",
    "print( s[:, :] )\n",
    "print( s[:-1, :-1] )\n",
    "print( s[2, 2] )\n",
    "print( s[::-1, ::-1] )\n",
    "\n",
    "print( s[[0, 2]] )\n",
    "print( s[:, [1, 3, 4]] )\n",
    "print( s[[0, 2], [3, 4]] )"
   ]
  },
  {
   "cell_type": "code",
   "execution_count": 49,
   "id": "c0fff77f-b2fe-4a18-8d41-679566aad91c",
   "metadata": {},
   "outputs": [
    {
     "name": "stdout",
     "output_type": "stream",
     "text": [
      "[[ 1  2  3  4  5]\n",
      " [ 6  7  8  9 10]\n",
      " [11 12 13 14 15]]\n",
      "[[ 1  6 11]\n",
      " [ 2  7 12]\n",
      " [ 3  8 13]\n",
      " [ 4  9 14]\n",
      " [ 5 10 15]]\n"
     ]
    }
   ],
   "source": [
    "# 전치 헹렬\n",
    "print( s )           # 3행 5열\n",
    "print( s.T )         # 5행 3열"
   ]
  },
  {
   "cell_type": "code",
   "execution_count": 52,
   "id": "9e4e3990-9b19-4a13-aef8-00e65560d13f",
   "metadata": {},
   "outputs": [
    {
     "name": "stdout",
     "output_type": "stream",
     "text": [
      "(1, 4)\n",
      "(2, 5)\n",
      "(3, 6)\n",
      "[(1, 4), (2, 5), (3, 6)]\n"
     ]
    }
   ],
   "source": [
    "# 결합 / 분리\n",
    "a = [ 1, 2, 3 ]\n",
    "b = [ 4, 5, 6 ]\n",
    "for ab in zip( a, b ) :\n",
    "    print( ab )\n",
    "print( list( zip( a, b ) ) )"
   ]
  },
  {
   "cell_type": "code",
   "execution_count": 53,
   "id": "41f742b9-1dcb-4ca1-ba16-c1c1f38c51be",
   "metadata": {},
   "outputs": [
    {
     "name": "stdout",
     "output_type": "stream",
     "text": [
      "[[0.70776039 0.4421743 ]\n",
      " [0.14303936 0.14855495]]\n"
     ]
    }
   ],
   "source": [
    "c = np.random.rand( 2, 2)\n",
    "print( c )"
   ]
  },
  {
   "cell_type": "code",
   "execution_count": 60,
   "id": "8a480821-157c-4c4f-9065-0098e074e44e",
   "metadata": {},
   "outputs": [
    {
     "name": "stdout",
     "output_type": "stream",
     "text": [
      "[[15. 44.]\n",
      " [35. 61.]]\n",
      "[[ 5. 25.]\n",
      " [93. 63.]]\n",
      "[[15. 44.  5. 25.]\n",
      " [35. 61. 93. 63.]]\n",
      "[[15. 44.]\n",
      " [35. 61.]\n",
      " [ 5. 25.]\n",
      " [93. 63.]]\n",
      "[[ 20.  69.]\n",
      " [128. 124.]]\n"
     ]
    }
   ],
   "source": [
    "c = np.floor( np.random.rand( 2, 2) *100 )\n",
    "print( c )\n",
    "d = np.floor( np.random.rand( 2, 2) *100 )\n",
    "print( d )\n",
    "print( np.hstack( ( c, d ) ) )    #수평으로 합치세요\n",
    "print( np.vstack( ( c, d ) ) )    #수직으로 합치세요\n",
    "print( c + d)"
   ]
  },
  {
   "cell_type": "code",
   "execution_count": 93,
   "id": "2f770a35-d286-4be5-921e-04801f66244c",
   "metadata": {},
   "outputs": [
    {
     "name": "stdout",
     "output_type": "stream",
     "text": [
      "[[49. 57. 50. 69. 68. 80. 88. 44. 23. 62. 89. 88. 92. 92.  5.]\n",
      " [89. 59.  8. 93. 18. 52. 29. 69. 79. 79. 32. 13. 63. 27. 50.]]\n",
      "[array([[49., 57., 50., 69., 68.],\n",
      "       [89., 59.,  8., 93., 18.]]), array([[80., 88., 44., 23., 62.],\n",
      "       [52., 29., 69., 79., 79.]]), array([[89., 88., 92., 92.,  5.],\n",
      "       [32., 13., 63., 27., 50.]])]\n",
      "[[49. 57. 50. 69. 68.]\n",
      " [89. 59.  8. 93. 18.]]\n",
      "[[80. 88. 44. 23. 62.]\n",
      " [52. 29. 69. 79. 79.]]\n",
      "[[89. 88. 92. 92.  5.]\n",
      " [32. 13. 63. 27. 50.]]\n",
      "[[49. 57. 50.]\n",
      " [89. 59.  8.]]\n",
      "[[69. 68. 80. 88.]\n",
      " [93. 18. 52. 29.]]\n",
      "[[44. 23. 62. 89. 88. 92. 92.  5.]\n",
      " [69. 79. 79. 32. 13. 63. 27. 50.]]\n"
     ]
    }
   ],
   "source": [
    "e = np.floor( np.random.rand( 2, 15 ) *100 )\n",
    "print( e )\n",
    "print( np.hsplit( e, 3 ) )\n",
    "for arr in np.hsplit( e, 3 ) :\n",
    "    print( arr )\n",
    "for arr in np.hsplit( e, ( 3, 7 ) ) :       # [0:3] [3:7] [7:12] [12:]\n",
    "    print( arr )"
   ]
  },
  {
   "cell_type": "code",
   "execution_count": 96,
   "id": "b553e299-b038-497e-9d88-f490f059d1df",
   "metadata": {},
   "outputs": [
    {
     "name": "stdout",
     "output_type": "stream",
     "text": [
      "[1, 2, 'C', 'D', 5]\n",
      "['1' '2' 'C' 'D' '5']\n",
      "['작다' '작다' '크다' '크다' '크다']\n",
      "['참' '참' '거짓' '거짓' '참']\n"
     ]
    }
   ],
   "source": [
    "f = np.array( [ 1, 2, 3, 4, 5 ] )\n",
    "g = np.array( [ 'A', 'B', 'C', 'D', 'E' ] )\n",
    "h = np.array( [ True, True, False, False, True ] )\n",
    "# 상항 연산           조건? 참 : 거짓\n",
    "#                     참 if 조건 else 거짓\n",
    "print( [ x if z else y for x, y, z in zip( f, g, h ) ] )\n",
    "\n",
    "print( np.where( h, f, g) )\n",
    "print( np.where( f < 3, '작다', '크다' ) )\n",
    "print( np.where( h, '참', '거짓' ) )"
   ]
  },
  {
   "cell_type": "code",
   "execution_count": 99,
   "id": "516be7a5-1fa6-40fc-b18a-3beca610ab75",
   "metadata": {},
   "outputs": [
    {
     "name": "stdout",
     "output_type": "stream",
     "text": [
      "<class 'numpy.ndarray'>\n",
      "<class 'numpy.lib.npyio.NpzFile'>\n",
      "[0 1 2 3 4 5 6 7 8 9]\n",
      "[ 0  1  2  3  4  5  6  7  8  9 10 11 12 13 14 15 16 17 18 19]\n"
     ]
    }
   ],
   "source": [
    "i = np.arange( 10 )\n",
    "np.save( 'i.npy', i )\n",
    "ii = np.load( 'i.npy' )\n",
    "print(type ( ii) )\n",
    "\n",
    "j = np.arange( 10 )\n",
    "k = np.arange( 20 )\n",
    "np.savez( 'jk.npz', x=j, y=k )\n",
    "jk = np.load( 'jk.npz' )\n",
    "print( type( jk ) )\n",
    "print( jk['x'] )\n",
    "print( jk['y'] )"
   ]
  },
  {
   "cell_type": "code",
   "execution_count": null,
   "id": "cb562de3-e89c-40aa-891c-df75dda73d98",
   "metadata": {},
   "outputs": [],
   "source": []
  },
  {
   "cell_type": "code",
   "execution_count": null,
   "id": "ff5c9ed7-a303-40f3-91b3-3b0e0025063f",
   "metadata": {},
   "outputs": [],
   "source": []
  }
 ],
 "metadata": {
  "kernelspec": {
   "display_name": "Python 3 (ipykernel)",
   "language": "python",
   "name": "python3"
  },
  "language_info": {
   "codemirror_mode": {
    "name": "ipython",
    "version": 3
   },
   "file_extension": ".py",
   "mimetype": "text/x-python",
   "name": "python",
   "nbconvert_exporter": "python",
   "pygments_lexer": "ipython3",
   "version": "3.12.4"
  }
 },
 "nbformat": 4,
 "nbformat_minor": 5
}
