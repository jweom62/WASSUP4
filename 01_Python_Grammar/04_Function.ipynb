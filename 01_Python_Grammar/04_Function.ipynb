{
 "cells": [
  {
   "cell_type": "markdown",
   "id": "32614f81-abca-4210-aae0-80340758253e",
   "metadata": {},
   "source": [
    "## 파이썬의 입출력"
   ]
  },
  {
   "cell_type": "markdown",
   "id": "0f7711bb-6a8a-48ef-9824-e697610012a7",
   "metadata": {},
   "source": [
    "## 함수와 입출력"
   ]
  },
  {
   "cell_type": "markdown",
   "id": "ab624800-93ec-4eea-8de9-5086a26fae91",
   "metadata": {},
   "source": [
    "### 함수의 구조"
   ]
  },
  {
   "cell_type": "code",
   "execution_count": 1,
   "id": "5165644f-9c94-4f9b-bd4a-392dad260842",
   "metadata": {},
   "outputs": [],
   "source": [
    "def add(a, b):\n",
    "    return a + b"
   ]
  },
  {
   "cell_type": "code",
   "execution_count": 3,
   "id": "13729945-5dbf-4511-833b-896d59b7ee28",
   "metadata": {},
   "outputs": [
    {
     "name": "stdout",
     "output_type": "stream",
     "text": [
      "7\n"
     ]
    }
   ],
   "source": [
    "a = 3\n",
    "b = 4\n",
    "c = add(a, b)\n",
    "print(c)"
   ]
  },
  {
   "cell_type": "markdown",
   "id": "4d641fdb-1e63-4229-bd81-726463e3d350",
   "metadata": {},
   "source": [
    "### 매개변수와 인수"
   ]
  },
  {
   "cell_type": "code",
   "execution_count": 4,
   "id": "be18bdb2-c61a-432e-9bd7-a89357b8140e",
   "metadata": {},
   "outputs": [
    {
     "name": "stdout",
     "output_type": "stream",
     "text": [
      "7\n"
     ]
    }
   ],
   "source": [
    "def add(a, b): # a, b는 매개변수\n",
    "    return a + b\n",
    "\n",
    "print(add(3,4)) #3, 4는 인수"
   ]
  },
  {
   "cell_type": "markdown",
   "id": "655445c1-e7a7-4a5c-840f-7c1d2751ec02",
   "metadata": {},
   "source": [
    "### 입력값과 리턴값에 따른 함수의 형태"
   ]
  },
  {
   "cell_type": "code",
   "execution_count": null,
   "id": "7da3e909-7300-42a3-b6cb-2b81b5302486",
   "metadata": {},
   "outputs": [],
   "source": [
    "# 일반적인 함수\n",
    "def add(a, b): \n",
    "    result = a + b \n",
    "    return result # 요 친구 때문에 출력이 됨"
   ]
  },
  {
   "cell_type": "code",
   "execution_count": 5,
   "id": "949bc1db-cba2-4fd6-bdd7-8ccb677117b3",
   "metadata": {},
   "outputs": [
    {
     "data": {
      "text/plain": [
       "7"
      ]
     },
     "execution_count": 5,
     "metadata": {},
     "output_type": "execute_result"
    }
   ],
   "source": [
    "add(3, 4)"
   ]
  },
  {
   "cell_type": "code",
   "execution_count": 6,
   "id": "686c1117-3337-4cb6-871d-8804e38d5ffa",
   "metadata": {},
   "outputs": [],
   "source": [
    "# 입력값이 없는 함수\n",
    "def say():\n",
    "    return 'Hi'"
   ]
  },
  {
   "cell_type": "code",
   "execution_count": 7,
   "id": "b3ca85a4-4862-409a-8f89-3b9e5d1ea4f6",
   "metadata": {},
   "outputs": [
    {
     "data": {
      "text/plain": [
       "'Hi'"
      ]
     },
     "execution_count": 7,
     "metadata": {},
     "output_type": "execute_result"
    }
   ],
   "source": [
    "say()"
   ]
  },
  {
   "cell_type": "code",
   "execution_count": 9,
   "id": "97d625da-33ad-4dac-8c74-b7f54bc56732",
   "metadata": {},
   "outputs": [],
   "source": [
    "# 리턴값이 없는 함수\n",
    "def add2(a, b): \n",
    "    print(\"%d, %d의 합은 %d입니다.\" % (a, b, a+b))"
   ]
  },
  {
   "cell_type": "code",
   "execution_count": 11,
   "id": "359f8f58-c9a0-46fe-bbd9-ba6cf48c5104",
   "metadata": {},
   "outputs": [
    {
     "name": "stdout",
     "output_type": "stream",
     "text": [
      "3, 4의 합은 7입니다.\n"
     ]
    }
   ],
   "source": [
    "add2(3, 4)"
   ]
  },
  {
   "cell_type": "code",
   "execution_count": 12,
   "id": "ad232974-913e-4a49-b932-773f9e0b81ed",
   "metadata": {},
   "outputs": [
    {
     "name": "stdout",
     "output_type": "stream",
     "text": [
      "3, 4의 합은 7입니다.\n"
     ]
    }
   ],
   "source": [
    "c = add2(3, 4)"
   ]
  },
  {
   "cell_type": "code",
   "execution_count": 13,
   "id": "dd6de4f9-bef3-41e0-b219-1aa1513e384d",
   "metadata": {},
   "outputs": [
    {
     "name": "stdout",
     "output_type": "stream",
     "text": [
      "None\n"
     ]
    }
   ],
   "source": [
    "print(c)"
   ]
  },
  {
   "cell_type": "code",
   "execution_count": 14,
   "id": "cb3e9769-5188-4d83-8611-f79436072277",
   "metadata": {},
   "outputs": [],
   "source": [
    "# 입력값도, 리턴값도 없는 함수\n",
    "def say2():\n",
    "    print('Hi')"
   ]
  },
  {
   "cell_type": "code",
   "execution_count": 16,
   "id": "12a761a2-405c-4b4c-88f1-0cf17cc8ae7e",
   "metadata": {},
   "outputs": [
    {
     "name": "stdout",
     "output_type": "stream",
     "text": [
      "Hi\n"
     ]
    }
   ],
   "source": [
    "say2()"
   ]
  },
  {
   "cell_type": "code",
   "execution_count": 17,
   "id": "5f824a90-d81d-4722-b57e-6565e2120a59",
   "metadata": {},
   "outputs": [
    {
     "name": "stdout",
     "output_type": "stream",
     "text": [
      "Hi\n"
     ]
    }
   ],
   "source": [
    "d = say2()"
   ]
  },
  {
   "cell_type": "code",
   "execution_count": 18,
   "id": "44f35751-04e9-4ee7-b184-1ee24480ed11",
   "metadata": {},
   "outputs": [
    {
     "name": "stdout",
     "output_type": "stream",
     "text": [
      "None\n"
     ]
    }
   ],
   "source": [
    "print(d)"
   ]
  },
  {
   "cell_type": "markdown",
   "id": "93b66d3c-3305-4b82-ac0d-2724c293f010",
   "metadata": {},
   "source": [
    "### 매개변수를 지정하여 호출하기"
   ]
  },
  {
   "cell_type": "code",
   "execution_count": 19,
   "id": "a5de322f-25f8-4fa1-bed2-57b6a2a6e27b",
   "metadata": {},
   "outputs": [],
   "source": [
    "def sub(a, b):\n",
    "    return a-b"
   ]
  },
  {
   "cell_type": "code",
   "execution_count": 21,
   "id": "c0aec08b-adcd-449d-a6e5-70de26817e50",
   "metadata": {},
   "outputs": [
    {
     "name": "stdout",
     "output_type": "stream",
     "text": [
      "4\n"
     ]
    }
   ],
   "source": [
    "result = sub(a=7, b=3)\n",
    "print(result)"
   ]
  },
  {
   "cell_type": "code",
   "execution_count": 23,
   "id": "d2cf4083-4572-4e23-95de-efe148fb6615",
   "metadata": {},
   "outputs": [
    {
     "name": "stdout",
     "output_type": "stream",
     "text": [
      "-2\n"
     ]
    }
   ],
   "source": [
    "result = sub(b=5, a=3)\n",
    "print(result)"
   ]
  },
  {
   "cell_type": "markdown",
   "id": "0cb53517-03e6-4174-b2b0-c8cb8693cce3",
   "metadata": {},
   "source": [
    "### 입력값이 몇 개가 될지 모를 때"
   ]
  },
  {
   "cell_type": "code",
   "execution_count": 27,
   "id": "3d6c191d-8333-4a1f-888c-568a14302bb1",
   "metadata": {},
   "outputs": [],
   "source": [
    "def add_many(*args):\n",
    "    result = 0\n",
    "    for i in args:\n",
    "        result = result+i\n",
    "    return result"
   ]
  },
  {
   "cell_type": "code",
   "execution_count": 28,
   "id": "3df1c934-b0bd-4441-811c-4fb08ea93722",
   "metadata": {},
   "outputs": [
    {
     "data": {
      "text/plain": [
       "21"
      ]
     },
     "execution_count": 28,
     "metadata": {},
     "output_type": "execute_result"
    }
   ],
   "source": [
    "add_many(1, 2, 3, 4, 5, 6)"
   ]
  },
  {
   "cell_type": "markdown",
   "id": "aeb5d979-3c07-4f22-a85b-d0b338f40780",
   "metadata": {},
   "source": [
    "## quiz\n",
    "---\n",
    "사용자에게 다수의 입력을 받아서\n",
    "옵션에 따라서 누적곱 또는 누적합을 출력하는 함수를 만들어보자"
   ]
  },
  {
   "cell_type": "code",
   "execution_count": 3,
   "id": "7fc02453-9569-408e-8097-655fd540968a",
   "metadata": {},
   "outputs": [],
   "source": [
    "def add_mul(option, *args):\n",
    "    if option == 'mul':\n",
    "        data = 1\n",
    "        for i in args:\n",
    "            data = data * i\n",
    "        return data\n",
    "\n",
    "    if option == 'sum':\n",
    "        data = 0\n",
    "        for i in args:\n",
    "            data = data + i\n",
    "        return data"
   ]
  },
  {
   "cell_type": "code",
   "execution_count": 4,
   "id": "99c0224e-23b3-43ca-b328-d9dc24cc6191",
   "metadata": {},
   "outputs": [
    {
     "data": {
      "text/plain": [
       "120"
      ]
     },
     "execution_count": 4,
     "metadata": {},
     "output_type": "execute_result"
    }
   ],
   "source": [
    "add_mul('mul', 1,2,3,4,5)"
   ]
  },
  {
   "cell_type": "code",
   "execution_count": 7,
   "id": "89a8a497-91b4-47d7-9df7-2b31a31db1d8",
   "metadata": {},
   "outputs": [
    {
     "data": {
      "text/plain": [
       "5"
      ]
     },
     "execution_count": 7,
     "metadata": {},
     "output_type": "execute_result"
    }
   ],
   "source": [
    "add_mul('sum', 1,2,3,4,5)"
   ]
  },
  {
   "cell_type": "markdown",
   "id": "592af41e-62a6-4873-8169-717fc917e660",
   "metadata": {},
   "source": [
    "### 키워드 매개변수, kwargs"
   ]
  },
  {
   "cell_type": "code",
   "execution_count": 8,
   "id": "9d52129f-a573-46c1-8616-6de96ca9c98f",
   "metadata": {},
   "outputs": [],
   "source": [
    "def print_kwargs(**kwargs):\n",
    "    print(kwargs)"
   ]
  },
  {
   "cell_type": "code",
   "execution_count": 9,
   "id": "84ad846a-53ea-4f6f-b716-53e65a1f4335",
   "metadata": {},
   "outputs": [
    {
     "name": "stdout",
     "output_type": "stream",
     "text": [
      "{'a': 1}\n"
     ]
    }
   ],
   "source": [
    "print_kwargs(a=1)"
   ]
  },
  {
   "cell_type": "code",
   "execution_count": 10,
   "id": "b8da7665-4b16-455f-84c2-f1975d202a88",
   "metadata": {
    "scrolled": true
   },
   "outputs": [
    {
     "name": "stdout",
     "output_type": "stream",
     "text": [
      "{'name': 'foo', 'age': 3}\n"
     ]
    }
   ],
   "source": [
    "print_kwargs(name='foo', age=3)"
   ]
  },
  {
   "cell_type": "markdown",
   "id": "97f415b9-81c1-4a12-b9b7-882a64502d40",
   "metadata": {},
   "source": [
    "### 함수의 리턴값은 언제나 하나이다"
   ]
  },
  {
   "cell_type": "code",
   "execution_count": 11,
   "id": "238cea9e-1ea7-4678-a1bf-c39b92ca25a0",
   "metadata": {},
   "outputs": [],
   "source": [
    "def add_and_mul(a,b): \n",
    "    return a+b, a*b"
   ]
  },
  {
   "cell_type": "code",
   "execution_count": 13,
   "id": "7ce3e164-c79f-440b-8203-56ada54734a6",
   "metadata": {},
   "outputs": [
    {
     "data": {
      "text/plain": [
       "(7, 12)"
      ]
     },
     "execution_count": 13,
     "metadata": {},
     "output_type": "execute_result"
    }
   ],
   "source": [
    "add_and_mul(3,4)"
   ]
  },
  {
   "cell_type": "code",
   "execution_count": 14,
   "id": "3722789c-9ba6-4ea6-a530-a375581940ce",
   "metadata": {},
   "outputs": [
    {
     "data": {
      "text/plain": [
       "7"
      ]
     },
     "execution_count": 14,
     "metadata": {},
     "output_type": "execute_result"
    }
   ],
   "source": [
    "result1, result2 = add_and_mul(3,4)\n",
    "result1"
   ]
  },
  {
   "cell_type": "code",
   "execution_count": 15,
   "id": "93e878b5-a50d-4120-a8a9-aa68f09d4ae5",
   "metadata": {},
   "outputs": [
    {
     "data": {
      "text/plain": [
       "12"
      ]
     },
     "execution_count": 15,
     "metadata": {},
     "output_type": "execute_result"
    }
   ],
   "source": [
    "result2"
   ]
  },
  {
   "cell_type": "code",
   "execution_count": 17,
   "id": "8935a685-e473-4567-96fc-2709d4dd11aa",
   "metadata": {},
   "outputs": [],
   "source": [
    "def add_and_mul(a,b):\n",
    "    return a+b\n",
    "    return a*b"
   ]
  },
  {
   "cell_type": "code",
   "execution_count": 18,
   "id": "067786e2-fe83-467b-b762-4a085cd47d76",
   "metadata": {
    "scrolled": true
   },
   "outputs": [
    {
     "data": {
      "text/plain": [
       "5"
      ]
     },
     "execution_count": 18,
     "metadata": {},
     "output_type": "execute_result"
    }
   ],
   "source": [
    "result = add_and_mul(2,3)\n",
    "result"
   ]
  },
  {
   "cell_type": "markdown",
   "id": "5325b9ac-360c-4751-8de1-78ee93a1c057",
   "metadata": {},
   "source": [
    "### return으로 함수 이탈하기"
   ]
  },
  {
   "cell_type": "code",
   "execution_count": 19,
   "id": "6eebbddc-4ae0-4ac2-85df-75f389446e57",
   "metadata": {},
   "outputs": [],
   "source": [
    "def say_nick(nick):\n",
    "    if nick == '바보':\n",
    "        return '옥상으로 따라와'\n",
    "    print(f'나의 별명은 {nick}입니다.')"
   ]
  },
  {
   "cell_type": "code",
   "execution_count": 20,
   "id": "831e2032-2c64-442f-bc15-da9636480a28",
   "metadata": {},
   "outputs": [
    {
     "name": "stdout",
     "output_type": "stream",
     "text": [
      "나의 별명은 야호입니다.\n"
     ]
    }
   ],
   "source": [
    "say_nick('야호')"
   ]
  },
  {
   "cell_type": "code",
   "execution_count": 21,
   "id": "82eb8e36-cd06-457e-ab33-a288f6391c69",
   "metadata": {},
   "outputs": [
    {
     "data": {
      "text/plain": [
       "'옥상으로 따라와'"
      ]
     },
     "execution_count": 21,
     "metadata": {},
     "output_type": "execute_result"
    }
   ],
   "source": [
    "say_nick('바보')"
   ]
  },
  {
   "cell_type": "markdown",
   "id": "e27badd9-ad26-47ff-8c85-0799381970d9",
   "metadata": {},
   "source": [
    "### 매개변수에 초깃값 미리 설정하기"
   ]
  },
  {
   "cell_type": "code",
   "execution_count": 22,
   "id": "61b9a1a4-99bd-4359-9ab8-546fe240fffa",
   "metadata": {},
   "outputs": [],
   "source": [
    "def say_myself(name, age, man=True):\n",
    "    print(f'나의 이름은 {name}입니다.')\n",
    "    print(f'나이는 {age}입니다.')\n",
    "    if man:\n",
    "        print('남자입니다.')\n",
    "    else :\n",
    "        print('여자입니다.')"
   ]
  },
  {
   "cell_type": "code",
   "execution_count": 23,
   "id": "b43a88aa-1e73-4850-ae14-2f6a4c92803d",
   "metadata": {},
   "outputs": [
    {
     "name": "stdout",
     "output_type": "stream",
     "text": [
      "나의 이름은 맹광국입니다.\n",
      "나이는 20입니다.\n",
      "남자입니다.\n"
     ]
    }
   ],
   "source": [
    "say_myself('맹광국', 20)"
   ]
  },
  {
   "cell_type": "code",
   "execution_count": 24,
   "id": "b7f46fd7-ed84-4316-bd7a-f1fb1942df05",
   "metadata": {
    "scrolled": true
   },
   "outputs": [
    {
     "name": "stdout",
     "output_type": "stream",
     "text": [
      "나의 이름은 맹광국입니다.\n",
      "나이는 20입니다.\n",
      "여자입니다.\n"
     ]
    }
   ],
   "source": [
    "say_myself('맹광국', 20, False)"
   ]
  },
  {
   "cell_type": "markdown",
   "id": "18980f92-a88f-4516-b522-61acfbb386e1",
   "metadata": {},
   "source": [
    "### 함수 안에서 선언한 변수의 효력 범위"
   ]
  },
  {
   "cell_type": "code",
   "execution_count": 25,
   "id": "6f5f5efb-f6ef-4de7-bff7-dac147208fb9",
   "metadata": {},
   "outputs": [],
   "source": [
    "a = 1\n",
    "def vartest(a):\n",
    "    a = a +1"
   ]
  },
  {
   "cell_type": "code",
   "execution_count": 26,
   "id": "2439f85a-d54b-4748-9170-447839bd9279",
   "metadata": {},
   "outputs": [
    {
     "data": {
      "text/plain": [
       "1"
      ]
     },
     "execution_count": 26,
     "metadata": {},
     "output_type": "execute_result"
    }
   ],
   "source": [
    "a"
   ]
  },
  {
   "cell_type": "code",
   "execution_count": 27,
   "id": "84371f80-8b0b-4d19-8403-9c3595660cba",
   "metadata": {},
   "outputs": [],
   "source": [
    "vartest(a)"
   ]
  },
  {
   "cell_type": "code",
   "execution_count": 28,
   "id": "c03e8fd2-e858-4df3-be9e-b4d8e777d8dc",
   "metadata": {},
   "outputs": [
    {
     "name": "stdout",
     "output_type": "stream",
     "text": [
      "1\n"
     ]
    }
   ],
   "source": [
    "print(a)"
   ]
  },
  {
   "cell_type": "markdown",
   "id": "31f2da2b-3d72-4aec-8905-257ae7537733",
   "metadata": {},
   "source": [
    "### 함수 안에서 함수 밖의 변수를 변경하는 방법"
   ]
  },
  {
   "cell_type": "code",
   "execution_count": 29,
   "id": "630cd33a-4bb8-4be1-ad6f-335a97b27920",
   "metadata": {},
   "outputs": [
    {
     "name": "stdout",
     "output_type": "stream",
     "text": [
      "2\n"
     ]
    }
   ],
   "source": [
    "# 1. return 사용하기\n",
    "a = 1 \n",
    "def vartest(a): \n",
    "    a = a +1 \n",
    "    return a\n",
    "\n",
    "a = vartest(a) \n",
    "print(a)"
   ]
  },
  {
   "cell_type": "code",
   "execution_count": 31,
   "id": "e8d4537a-65be-4b74-83d4-d243b9d0c813",
   "metadata": {},
   "outputs": [
    {
     "name": "stdout",
     "output_type": "stream",
     "text": [
      "2\n"
     ]
    }
   ],
   "source": [
    "# 2. global 명령어 사용하기\n",
    "a = 1 \n",
    "def vartest(): \n",
    "    global a \n",
    "    a = a+1\n",
    "\n",
    "vartest()\n",
    "print(a)"
   ]
  },
  {
   "cell_type": "markdown",
   "id": "1a0e9f3c-3fa0-43ca-8b41-eee3a43c56e5",
   "metadata": {},
   "source": [
    "### lambda 예약어"
   ]
  },
  {
   "cell_type": "code",
   "execution_count": 32,
   "id": "97735406-e1f1-4c44-a7b7-2866e79a6bd5",
   "metadata": {},
   "outputs": [
    {
     "name": "stdout",
     "output_type": "stream",
     "text": [
      "7\n"
     ]
    }
   ],
   "source": [
    "def add(a,b):\n",
    "    return a+b\n",
    "result = add(3, 4)\n",
    "print(result)"
   ]
  },
  {
   "cell_type": "code",
   "execution_count": 33,
   "id": "1079f0a9-4e68-47d7-be35-ea0ed39c4e0b",
   "metadata": {},
   "outputs": [
    {
     "data": {
      "text/plain": [
       "7"
      ]
     },
     "execution_count": 33,
     "metadata": {},
     "output_type": "execute_result"
    }
   ],
   "source": [
    "add = lambda a, b: a+b\n",
    "add(3,4)"
   ]
  },
  {
   "cell_type": "markdown",
   "id": "94f947b7-3e7f-43cd-91ed-fb5203e9b59f",
   "metadata": {},
   "source": [
    "## 파일 읽고 쓰기"
   ]
  },
  {
   "cell_type": "code",
   "execution_count": null,
   "id": "29d535b2-6f63-466a-91b2-9caa01f8fcf1",
   "metadata": {},
   "outputs": [],
   "source": [
    "f = open('output/test.txt', 'w')\n",
    "f.close()"
   ]
  },
  {
   "cell_type": "code",
   "execution_count": 36,
   "id": "2be2e8a4-8c96-4db3-93ab-aee5378dec11",
   "metadata": {},
   "outputs": [],
   "source": [
    "f = open('output/test.txt', 'w')\n",
    "for i in range(1, 11):\n",
    "    f.write(f'{i}번쩨 줄입니다.\\n')\n",
    "f.close()"
   ]
  },
  {
   "cell_type": "code",
   "execution_count": 37,
   "id": "3168f741-13d6-42ce-a0ea-b214bc9c33d7",
   "metadata": {},
   "outputs": [
    {
     "name": "stdout",
     "output_type": "stream",
     "text": [
      "1번쩨 줄입니다.\n",
      "\n"
     ]
    }
   ],
   "source": [
    "# readline 함수 이용하기\n",
    "f = open('output/test.txt', 'r')\n",
    "line = f.readline()\n",
    "print(line)\n",
    "f.close()"
   ]
  },
  {
   "cell_type": "code",
   "execution_count": 38,
   "id": "3e4028ed-30fa-4801-ae73-a52fa8d1ed46",
   "metadata": {},
   "outputs": [
    {
     "name": "stdout",
     "output_type": "stream",
     "text": [
      "1번쩨 줄입니다.\n",
      "\n",
      "2번쩨 줄입니다.\n",
      "\n",
      "3번쩨 줄입니다.\n",
      "\n",
      "4번쩨 줄입니다.\n",
      "\n",
      "5번쩨 줄입니다.\n",
      "\n"
     ]
    }
   ],
   "source": [
    "f = open('output/test.txt', 'r')\n",
    "for i in range(5):\n",
    "    line = f.readline()\n",
    "    print(line)\n",
    "f.close()"
   ]
  },
  {
   "cell_type": "code",
   "execution_count": 40,
   "id": "6f92ff33-d1ef-4469-a7c5-845d4c771f13",
   "metadata": {
    "scrolled": true
   },
   "outputs": [
    {
     "ename": "IndentationError",
     "evalue": "unexpected indent (1487412831.py, line 4)",
     "output_type": "error",
     "traceback": [
      "\u001b[1;36m  Cell \u001b[1;32mIn[40], line 4\u001b[1;36m\u001b[0m\n\u001b[1;33m    print(line)\u001b[0m\n\u001b[1;37m    ^\u001b[0m\n\u001b[1;31mIndentationError\u001b[0m\u001b[1;31m:\u001b[0m unexpected indent\n"
     ]
    }
   ],
   "source": [
    "# readlines 함수\n",
    "f = open('output/test.txt', 'r')\n",
    "line = f.readline()\n",
    "    print(line)"
   ]
  },
  {
   "cell_type": "code",
   "execution_count": 45,
   "id": "3f4e87c2-33f9-4ba6-9037-8c5508d86111",
   "metadata": {},
   "outputs": [
    {
     "name": "stdout",
     "output_type": "stream",
     "text": [
      "1번쩨 줄입니다.\n",
      "\n",
      "2번쩨 줄입니다.\n",
      "\n",
      "3번쩨 줄입니다.\n",
      "\n",
      "4번쩨 줄입니다.\n",
      "\n",
      "5번쩨 줄입니다.\n",
      "\n",
      "6번쩨 줄입니다.\n",
      "\n",
      "7번쩨 줄입니다.\n",
      "\n",
      "8번쩨 줄입니다.\n",
      "\n",
      "9번쩨 줄입니다.\n",
      "\n",
      "10번쩨 줄입니다.\n",
      "\n"
     ]
    }
   ],
   "source": [
    "# readlines 함수\n",
    "f = open('output/test.txt', 'r')\n",
    "lines = f.readlines()\n",
    "for line in lines:\n",
    "    print(line)\n",
    "f.close()"
   ]
  },
  {
   "cell_type": "code",
   "execution_count": 46,
   "id": "16664ec2-4ee3-4078-8a78-bffe66592400",
   "metadata": {},
   "outputs": [
    {
     "name": "stdout",
     "output_type": "stream",
     "text": [
      "1번쩨 줄입니다.\n",
      "2번쩨 줄입니다.\n",
      "3번쩨 줄입니다.\n",
      "4번쩨 줄입니다.\n",
      "5번쩨 줄입니다.\n",
      "6번쩨 줄입니다.\n",
      "7번쩨 줄입니다.\n",
      "8번쩨 줄입니다.\n",
      "9번쩨 줄입니다.\n",
      "10번쩨 줄입니다.\n"
     ]
    }
   ],
   "source": [
    "# 메모장을 읽어올 때 줄바끔을 없애보세요\n",
    "\n",
    "f = open('output/test.txt', 'r')\n",
    "lines = f.readlines()\n",
    "for line in lines:\n",
    "    line = line.strip()\n",
    "    print(line)\n",
    "f.close()"
   ]
  },
  {
   "cell_type": "code",
   "execution_count": 47,
   "id": "05e29921-1885-4b1f-8fd2-31e1511c6b1b",
   "metadata": {},
   "outputs": [
    {
     "name": "stdout",
     "output_type": "stream",
     "text": [
      "<class 'str'>\n",
      "1번쩨 줄입니다.\n",
      "2번쩨 줄입니다.\n",
      "3번쩨 줄입니다.\n",
      "4번쩨 줄입니다.\n",
      "5번쩨 줄입니다.\n",
      "6번쩨 줄입니다.\n",
      "7번쩨 줄입니다.\n",
      "8번쩨 줄입니다.\n",
      "9번쩨 줄입니다.\n",
      "10번쩨 줄입니다.\n",
      "\n"
     ]
    }
   ],
   "source": [
    "# read 함수 사용하기\n",
    "\n",
    "f = open('output/test.txt', 'r')\n",
    "data = f.read()\n",
    "print(type(data))\n",
    "print(data)\n",
    "f.close()"
   ]
  },
  {
   "cell_type": "markdown",
   "id": "e564ec18-7d9c-485b-9891-db121581e599",
   "metadata": {},
   "source": [
    "### 파일에 새로운 내용 추가하기"
   ]
  },
  {
   "cell_type": "code",
   "execution_count": 49,
   "id": "6c132663-17dc-460b-b538-a832af2176ff",
   "metadata": {},
   "outputs": [],
   "source": [
    "f = open(\"output/test.txt\", 'a')\n",
    "for i in range(11, 21):\n",
    "    data = f'{i}번째 줄입니다. \\n'\n",
    "    f.write(data)\n",
    "f.close()"
   ]
  },
  {
   "cell_type": "markdown",
   "id": "d7a36a75-5b9b-4f0f-99fe-2053cc8f216f",
   "metadata": {},
   "source": [
    "### with 문과 함께 사용하기"
   ]
  },
  {
   "cell_type": "code",
   "execution_count": null,
   "id": "b42456c6-7b7e-4807-981e-fc394cd4d85a",
   "metadata": {},
   "outputs": [],
   "source": [
    "f = open(\"foo.txt\", 'w')\n",
    "f.write(\"Life is too short, you need python\")\n",
    "f.close()"
   ]
  },
  {
   "cell_type": "code",
   "execution_count": 50,
   "id": "b48c7472-78ba-4a1f-94fe-9949cf39a45b",
   "metadata": {},
   "outputs": [],
   "source": [
    "with open('output/foo.txt', 'w') as f:\n",
    "    f.write(\"Your leg is too short\")"
   ]
  },
  {
   "cell_type": "code",
   "execution_count": null,
   "id": "47bbd51e-276c-4adf-815b-160efb9024c9",
   "metadata": {},
   "outputs": [],
   "source": []
  },
  {
   "cell_type": "code",
   "execution_count": null,
   "id": "578d207f-f322-44d7-9b04-3567c66ddff5",
   "metadata": {},
   "outputs": [],
   "source": []
  },
  {
   "cell_type": "code",
   "execution_count": null,
   "id": "dc98dabf-a5e0-4b13-90e0-b86600a336be",
   "metadata": {},
   "outputs": [],
   "source": []
  },
  {
   "cell_type": "code",
   "execution_count": null,
   "id": "ad5b14da-69c4-4063-80c1-03197597a560",
   "metadata": {},
   "outputs": [],
   "source": []
  },
  {
   "cell_type": "code",
   "execution_count": null,
   "id": "b92f24b8-1eb9-4dbb-a849-336d0d1e9f54",
   "metadata": {},
   "outputs": [],
   "source": []
  }
 ],
 "metadata": {
  "kernelspec": {
   "display_name": "Python 3 (ipykernel)",
   "language": "python",
   "name": "python3"
  },
  "language_info": {
   "codemirror_mode": {
    "name": "ipython",
    "version": 3
   },
   "file_extension": ".py",
   "mimetype": "text/x-python",
   "name": "python",
   "nbconvert_exporter": "python",
   "pygments_lexer": "ipython3",
   "version": "3.12.4"
  }
 },
 "nbformat": 4,
 "nbformat_minor": 5
}
