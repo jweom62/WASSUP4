{
 "cells": [
  {
   "cell_type": "markdown",
   "id": "48706ce9-f1ab-4823-8356-2c98a2eb9c85",
   "metadata": {},
   "source": [
    "## 1. 전화번호 프로그램 만들기\n",
    "\n",
    "홍길동 010-123-4567\n",
    "기능1: 연락처 추가\n",
    "기능2: 연락처 전체 보기\n",
    "기능3: 검색, 이름을 입력받아서 전화번호 조회\n",
    "기능4: 수정, 이름을 입력받아서 전화번호 입력수정\n",
    "기능5: 삭제, 이름 입력받아서 삭제\n",
    "기능6: 프로그램 종료"
   ]
  },
  {
   "cell_type": "markdown",
   "id": "2709401e-c4e6-406b-a889-87ae2b610cd7",
   "metadata": {},
   "source": [
    "## 설계\n",
    "1. 입출력 정의 : 문자열, 딕셔너리 K:V\n",
    "2. 인터페이스 : input(), 프롬프트\n",
    "3. 구조 : while 반복문, 6개 기능을 구현 -> if분기문\n",
    "4. 기능 구현 + 인터페이스 정책\n",
    "- 1번 연락처 추가 : dict[key] = value\n",
    "- 2번 연락처 전체 보기 : print(dict)\n",
    "- 3번 연락처 검색 : dict[key]\n",
    "- 4번 연락처 수정 : dict[key] = value\n",
    "- 5번 연락처 삭제 : del\n",
    "- 6번 종료 : break 정책"
   ]
  },
  {
   "cell_type": "code",
   "execution_count": null,
   "id": "84b7ba97-64eb-4314-b618-625ed7d1cb87",
   "metadata": {},
   "outputs": [
    {
     "name": "stdout",
     "output_type": "stream",
     "text": [
      "---------전화번호부 프로그램---------\n",
      "1.추가   2.조회   3.검색   4.수정   5.삭제   6.종료\n"
     ]
    },
    {
     "name": "stdin",
     "output_type": "stream",
     "text": [
      "메뉴를 선택해주세요.(숫자 only) :  1\n"
     ]
    },
    {
     "name": "stdout",
     "output_type": "stream",
     "text": [
      "연락처를 추가합니다.\n"
     ]
    },
    {
     "name": "stdin",
     "output_type": "stream",
     "text": [
      "이름 :  인겸\n",
      "전화번호 :  123\n"
     ]
    },
    {
     "name": "stdout",
     "output_type": "stream",
     "text": [
      "인겸 123\n",
      "---------전화번호부 프로그램---------\n",
      "1.추가   2.조회   3.검색   4.수정   5.삭제   6.종료\n"
     ]
    },
    {
     "name": "stdin",
     "output_type": "stream",
     "text": [
      "메뉴를 선택해주세요.(숫자 only) :  2\n"
     ]
    },
    {
     "name": "stdout",
     "output_type": "stream",
     "text": [
      "연락처를 조회합니다.\n",
      "인겸 = 123 바보\n",
      "---------전화번호부 프로그램---------\n",
      "1.추가   2.조회   3.검색   4.수정   5.삭제   6.종료\n"
     ]
    },
    {
     "name": "stdin",
     "output_type": "stream",
     "text": [
      "메뉴를 선택해주세요.(숫자 only) :  6\n"
     ]
    }
   ],
   "source": [
    "contact = {}\n",
    "\n",
    "while True:\n",
    "    print('---------전화번호부 프로그램---------')\n",
    "    print('1.추가   2.조회   3.검색   4.수정   5.삭제   6.종료')\n",
    "    menu = int(input('메뉴를 선택해주세요.(숫자 only) : '))\n",
    "\n",
    "    if menu == 1: # 연락처 추가\n",
    "        print('연락처를 추가합니다.')\n",
    "        new_name = input('이름 : ')\n",
    "        new_tel = input('전화번호 : ')\n",
    "        print(new_name, new_tel)\n",
    "        #contact[new_name] = new_tel\n",
    "        contact.setdefault(new_name, new_tel)\n",
    "\n",
    "    elif menu == 2: # 연락처 조회\n",
    "        print('연락처를 조회합니다.')\n",
    "        #print(contat)\n",
    "        for name, tel in contact.items():\n",
    "            print(name, '=', tel, '바보')\n",
    "        \n",
    "    elif menu == 3: # 연락처 검색\n",
    "        print('연락처를 조회합니다.')\n",
    "        search_name = input('검색 이름: ')\n",
    "        # print(contact[search_name])\n",
    "        print(contact.get(search_name, '없는 이름입니다.'))\n",
    "\n",
    "    elif menu == 4: # 연락처 수정\n",
    "        print('연락처를 조회합니다.')\n",
    "        mod_name = input('수정 이름 : ')\n",
    "\n",
    "        if mod_name in contact:\n",
    "            mod_tel = input('새 전화번호: ')\n",
    "            contact[mod_name] = mod_tel\n",
    "        else:\n",
    "            print('등록되지 않은 이름입니다.')\n",
    "\n",
    "    elif menu == 5: # 연락처 삭제\n",
    "        print('연락처를 조회합니다.')\n",
    "        del_name = input('삭제 이름 : ')\n",
    "\n",
    "        if del_name in contact:\n",
    "            del contact[del_name]\n",
    "        else:\n",
    "            print('등록되지 않은 이름입니다.')\n",
    "\n",
    "    elif menu == 6: # 연락처 종료\n",
    "        print('연락처를 조회합니다.')\n",
    "        break\n",
    "\n",
    "    else :\n",
    "        print('잘못된 입력입니다')"
   ]
  },
  {
   "cell_type": "code",
   "execution_count": 1,
   "id": "ffae2008-81ce-4380-8e02-0d15d0b5308d",
   "metadata": {},
   "outputs": [
    {
     "name": "stdout",
     "output_type": "stream",
     "text": [
      "-------전화번호부 프로그램--------\n",
      "1.추가 2.조회 3,검색 4.수정 5.삭제 6.종료\n"
     ]
    },
    {
     "name": "stdin",
     "output_type": "stream",
     "text": [
      "메뉴를 선택해주세요.(숫자 only) 1\n"
     ]
    },
    {
     "name": "stdout",
     "output_type": "stream",
     "text": [
      "추가\n"
     ]
    },
    {
     "name": "stdin",
     "output_type": "stream",
     "text": [
      "이름 :  정원\n",
      "번호 :  1234\n"
     ]
    },
    {
     "name": "stdout",
     "output_type": "stream",
     "text": [
      "-------전화번호부 프로그램--------\n",
      "1.추가 2.조회 3,검색 4.수정 5.삭제 6.종료\n"
     ]
    },
    {
     "name": "stdin",
     "output_type": "stream",
     "text": [
      "메뉴를 선택해주세요.(숫자 only) 2\n"
     ]
    },
    {
     "name": "stdout",
     "output_type": "stream",
     "text": [
      "조회\n",
      "정원 = 1234\n",
      "-------전화번호부 프로그램--------\n",
      "1.추가 2.조회 3,검색 4.수정 5.삭제 6.종료\n"
     ]
    },
    {
     "name": "stdin",
     "output_type": "stream",
     "text": [
      "메뉴를 선택해주세요.(숫자 only) 3\n"
     ]
    },
    {
     "name": "stdout",
     "output_type": "stream",
     "text": [
      "검색\n"
     ]
    },
    {
     "name": "stdin",
     "output_type": "stream",
     "text": [
      "이름 :  정원\n"
     ]
    },
    {
     "name": "stdout",
     "output_type": "stream",
     "text": [
      "1234\n",
      "-------전화번호부 프로그램--------\n",
      "1.추가 2.조회 3,검색 4.수정 5.삭제 6.종료\n"
     ]
    },
    {
     "name": "stdin",
     "output_type": "stream",
     "text": [
      "메뉴를 선택해주세요.(숫자 only) 4\n"
     ]
    },
    {
     "name": "stdout",
     "output_type": "stream",
     "text": [
      "수정\n"
     ]
    },
    {
     "name": "stdin",
     "output_type": "stream",
     "text": [
      "수정 :  정원\n",
      "번호 :  2222\n"
     ]
    },
    {
     "name": "stdout",
     "output_type": "stream",
     "text": [
      "-------전화번호부 프로그램--------\n",
      "1.추가 2.조회 3,검색 4.수정 5.삭제 6.종료\n"
     ]
    },
    {
     "name": "stdin",
     "output_type": "stream",
     "text": [
      "메뉴를 선택해주세요.(숫자 only) 2\n"
     ]
    },
    {
     "name": "stdout",
     "output_type": "stream",
     "text": [
      "조회\n",
      "정원 = 2222\n",
      "-------전화번호부 프로그램--------\n",
      "1.추가 2.조회 3,검색 4.수정 5.삭제 6.종료\n"
     ]
    },
    {
     "name": "stdin",
     "output_type": "stream",
     "text": [
      "메뉴를 선택해주세요.(숫자 only) 5\n"
     ]
    },
    {
     "name": "stdout",
     "output_type": "stream",
     "text": [
      "삭제\n"
     ]
    },
    {
     "name": "stdin",
     "output_type": "stream",
     "text": [
      "삭제 :  정원\n"
     ]
    },
    {
     "name": "stdout",
     "output_type": "stream",
     "text": [
      "-------전화번호부 프로그램--------\n",
      "1.추가 2.조회 3,검색 4.수정 5.삭제 6.종료\n"
     ]
    },
    {
     "name": "stdin",
     "output_type": "stream",
     "text": [
      "메뉴를 선택해주세요.(숫자 only) 2\n"
     ]
    },
    {
     "name": "stdout",
     "output_type": "stream",
     "text": [
      "조회\n",
      "-------전화번호부 프로그램--------\n",
      "1.추가 2.조회 3,검색 4.수정 5.삭제 6.종료\n"
     ]
    },
    {
     "name": "stdin",
     "output_type": "stream",
     "text": [
      "메뉴를 선택해주세요.(숫자 only) 6\n"
     ]
    },
    {
     "name": "stdout",
     "output_type": "stream",
     "text": [
      "꿑\n"
     ]
    }
   ],
   "source": [
    "contact = {}\n",
    "\n",
    "while True:\n",
    "    print('-------전화번호부 프로그램--------')\n",
    "    print('1.추가', '2.조회', '3,검색', '4.수정', '5.삭제', '6.종료')\n",
    "    menu = int(input('메뉴를 선택해주세요.(숫자 only)'))\n",
    "\n",
    "    if menu == 1:\n",
    "        print('추가')\n",
    "        new_name = input(\"이름 : \")\n",
    "        new_tel = input(\"번호 : \")\n",
    "        contact.setdefault(new_name, new_tel)\n",
    "\n",
    "    elif menu == 2:\n",
    "        print('조회')\n",
    "        for new_name, new_tel in contact.items():\n",
    "            print(new_name, \"=\", new_tel)\n",
    "\n",
    "    elif menu == 3:\n",
    "        print('검색')\n",
    "        search_name = input(\"이름 : \")\n",
    "        print(contact.get(search_name, \"검색 할 이름이 없어 어쩔티비\"))\n",
    "\n",
    "\n",
    "    elif menu == 4:\n",
    "        print('수정')\n",
    "        mod_name = input(\"수정 : \")\n",
    "\n",
    "        if mod_name in contact:\n",
    "            mod_tel = input(\"번호 : \")\n",
    "            contact[mod_name] = mod_tel\n",
    "\n",
    "        else:\n",
    "            print(\"없어요\")\n",
    "\n",
    "    elif menu == 5:\n",
    "        print('삭제')\n",
    "        del_name = input(\"삭제 : \")\n",
    "\n",
    "        if del_name in contact:\n",
    "            del contact[del_name]\n",
    "\n",
    "    elif menu == 6:\n",
    "        print('꿑')\n",
    "        break"
   ]
  },
  {
   "cell_type": "code",
   "execution_count": null,
   "id": "90b72eb9-69ba-4334-ae27-d13d2de7f765",
   "metadata": {},
   "outputs": [],
   "source": []
  },
  {
   "cell_type": "code",
   "execution_count": null,
   "id": "eda68104-8383-4fa5-af8b-f2dfe90bc84b",
   "metadata": {},
   "outputs": [],
   "source": []
  },
  {
   "cell_type": "code",
   "execution_count": null,
   "id": "ba8f9645-d13a-41b7-b9c7-5b274a125f43",
   "metadata": {},
   "outputs": [],
   "source": [
    " "
   ]
  },
  {
   "cell_type": "code",
   "execution_count": null,
   "id": "e36aa4d6-d803-440e-9dff-5ce739ad3348",
   "metadata": {},
   "outputs": [],
   "source": []
  },
  {
   "cell_type": "code",
   "execution_count": null,
   "id": "d63c9572-d528-417d-ad27-729411c880b5",
   "metadata": {},
   "outputs": [],
   "source": []
  },
  {
   "cell_type": "code",
   "execution_count": null,
   "id": "705e007f-cdbe-49bb-ad11-6332954b4bd4",
   "metadata": {},
   "outputs": [],
   "source": []
  }
 ],
 "metadata": {
  "kernelspec": {
   "display_name": "Python 3 (ipykernel)",
   "language": "python",
   "name": "python3"
  },
  "language_info": {
   "codemirror_mode": {
    "name": "ipython",
    "version": 3
   },
   "file_extension": ".py",
   "mimetype": "text/x-python",
   "name": "python",
   "nbconvert_exporter": "python",
   "pygments_lexer": "ipython3",
   "version": "3.12.4"
  }
 },
 "nbformat": 4,
 "nbformat_minor": 5
}
