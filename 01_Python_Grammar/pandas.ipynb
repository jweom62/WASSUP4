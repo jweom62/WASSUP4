{
 "cells": [
  {
   "cell_type": "code",
   "execution_count": 1,
   "id": "e04cba8e-9b4b-435d-86fc-f6494f01f79f",
   "metadata": {},
   "outputs": [],
   "source": [
    "# Pandas\n",
    "# Series\n",
    "# DataFrame"
   ]
  },
  {
   "cell_type": "code",
   "execution_count": 5,
   "id": "d78842cf-0b4f-4dc0-b81e-7bcf58fc5bcd",
   "metadata": {},
   "outputs": [
    {
     "name": "stdout",
     "output_type": "stream",
     "text": [
      "<class 'pandas.core.series.Series'>\n",
      "RangeIndex(start=0, stop=9, step=1)\n",
      "int64\n",
      "0    1\n",
      "1    2\n",
      "2    3\n",
      "3    4\n",
      "4    5\n",
      "5    6\n",
      "6    7\n",
      "7    8\n",
      "8    9\n",
      "dtype: int64\n",
      "A    1\n",
      "B    2\n",
      "C    3\n",
      "D    4\n",
      "E    5\n",
      "F    6\n",
      "G    7\n",
      "H    8\n",
      "I    9\n",
      "dtype: int64\n"
     ]
    }
   ],
   "source": [
    "import pandas as pd\n",
    "import numpy as np\n",
    "# Series\n",
    "s = pd.Series( [ 1, 2, 3, 4, 5, 6, 7, 8, 9] )\n",
    "print( type( s ) )\n",
    "print( s.index )\n",
    "print( s.dtype )\n",
    "print( s )\n",
    "\n",
    "\n",
    "s.index = [ 'A', 'B', 'C', 'D', 'E', 'F', 'G', 'H', 'I' ]\n",
    "print( s )"
   ]
  },
  {
   "cell_type": "code",
   "execution_count": 17,
   "id": "a4841fa6-9e8f-4da9-b420-d8d4b2ef1a1b",
   "metadata": {},
   "outputs": [
    {
     "name": "stdout",
     "output_type": "stream",
     "text": [
      "A    1\n",
      "B    2\n",
      "C    3\n",
      "D    4\n",
      "E    5\n",
      "F    6\n",
      "G    7\n",
      "H    8\n",
      "I    9\n",
      "dtype: int64\n",
      "Index(['A', 'B', 'C', 'D', 'E', 'F', 'G', 'H', 'I'], dtype='object')\n",
      "[1 2 3 4 5 6 7 8 9]\n",
      "1\n",
      "1\n",
      "A    1\n",
      "B    2\n",
      "C    3\n",
      "D    4\n",
      "E    5\n",
      "dtype: int64\n",
      "A    1\n",
      "B    2\n",
      "C    3\n",
      "D    4\n",
      "dtype: int64\n"
     ]
    }
   ],
   "source": [
    "s = pd.Series( [ 1, 2, 3, 4, 5, 6, 7, 8, 9], \n",
    "index=[ 'A', 'B', 'C', 'D', 'E', 'F', 'G', 'H', 'I' ] )\n",
    "print( s )\n",
    "print( s.index )\n",
    "print( s.values )\n",
    "# print( s[ 0 ] )\n",
    "print( s[ 'A' ] )\n",
    "print( s.A )\n",
    "print( s[0:5] )\n",
    "print( s['A':'D'] )"
   ]
  },
  {
   "cell_type": "code",
   "execution_count": 24,
   "id": "b9058b4c-6b8b-4d28-8052-3c098d4df1f6",
   "metadata": {},
   "outputs": [
    {
     "name": "stdout",
     "output_type": "stream",
     "text": [
      "<class 'dict'>\n",
      "A : 10\n",
      "D : 20\n",
      "F : 30\n",
      "H : 40\n",
      "10\n",
      "Index(['A', 'D', 'F', 'H'], dtype='object')\n",
      "[10 20 30 40]\n",
      "10\n",
      "10\n",
      "A    10\n",
      "D    20\n",
      "F    30\n",
      "dtype: int64\n",
      "A    10\n",
      "D    20\n",
      "F    30\n",
      "dtype: int64\n"
     ]
    }
   ],
   "source": [
    "# Dictionary (Map, JSON) -> Series\n",
    "d = { 'A':10, 'D':20, 'F':30, 'H':40 }\n",
    "print( type( d ) )\n",
    "for key, value in d.items() :\n",
    "    print( key, \":\", value )\n",
    "print( d['A'] )\n",
    "# print( d.A )                          #에러\n",
    "# print( d[0:3] )                          #에러\n",
    "# print( d['A':'F'] )                          #에러\n",
    "\n",
    "\n",
    "s = pd.Series( d )\n",
    "print( s.index )\n",
    "print( s.values )\n",
    "print( s['A'] )\n",
    "print( s.A )\n",
    "print( s[0:3] )\n",
    "print( s['A':'F'] )"
   ]
  },
  {
   "cell_type": "code",
   "execution_count": 38,
   "id": "d76badab-2226-477f-98f1-e56f700f2acb",
   "metadata": {},
   "outputs": [
    {
     "name": "stdout",
     "output_type": "stream",
     "text": [
      "<class 'dict'>\n",
      "   name  age        tel\n",
      "0   kim   25  1111-2222\n",
      "1   lee   30  2222-1111\n",
      "2  park   35  3333-1111\n",
      "3  jung   20  2222-3333\n",
      "RangeIndex(start=0, stop=4, step=1)\n",
      "Index(['name', 'age', 'tel'], dtype='object')\n",
      "[['kim' 25 '1111-2222']\n",
      " ['lee' 30 '2222-1111']\n",
      " ['park' 35 '3333-1111']\n",
      " ['jung' 20 '2222-3333']]\n"
     ]
    }
   ],
   "source": [
    "# DataFrame\n",
    "# Dictionary -> DataFrame\n",
    "d = {\n",
    "    'name' : [ 'kim', 'lee', 'park', 'jung' ],\n",
    "    'age' : [ 25, 30, 35, 20 ],\n",
    "    'tel' : [ '1111-2222', '2222-1111', '3333-1111', '2222-3333']\n",
    "}\n",
    "print( type( d ) )\n",
    "\n",
    "df = pd.DataFrame( d )\n",
    "print( df )\n",
    "print( df.index )\n",
    "print( df.columns )\n",
    "print( df.values )\n",
    "df.index.name = 'Num'\n",
    "df.columns.name = 'User'"
   ]
  },
  {
   "cell_type": "code",
   "execution_count": 46,
   "id": "3fb413d6-070c-481e-a86a-275722fa5c1a",
   "metadata": {},
   "outputs": [
    {
     "name": "stdout",
     "output_type": "stream",
     "text": [
      "<class 'numpy.ndarray'>\n",
      "   name age        tel\n",
      "A   kim  20  1111-2222\n",
      "B   lee  30  2222-1111\n",
      "C  park  35  3333-2222\n",
      "D  jung  25        nan\n",
      "Index(['A', 'B', 'C', 'D'], dtype='object')\n",
      "Index(['name', 'age', 'tel'], dtype='object')\n",
      "   name age        tel\n",
      "A   kim  20  1111-2222\n",
      "B   lee  30  2222-1111\n",
      "C  park  35  3333-2222\n",
      "D  jung  25        nan\n",
      "       name age        tel\n",
      "count     4   4          4\n",
      "unique    4   4          4\n",
      "top     kim  20  1111-2222\n",
      "freq      1   1          1\n"
     ]
    }
   ],
   "source": [
    "n = np.array(\n",
    "    [['kim', 20, '1111-2222'],\n",
    "     ['lee', 30, '2222-1111'],\n",
    "     ['park', 35, '3333-2222'],\n",
    "     ['jung', 25, np.nan]]\n",
    ")\n",
    "print( type( n ) )\n",
    "df = pd.DataFrame( n )\n",
    "\n",
    "df.columns = ['name', 'age', 'tel' ]\n",
    "df.index = [ 'A', 'B', 'C', 'D' ]\n",
    "print( df )\n",
    "print( df.index )\n",
    "print( df.columns )\n",
    "\n",
    "df = pd.DataFrame( n, columns=[ 'name', 'age', 'tel' ], index=[ 'A', 'B', 'C', 'D' ] )\n",
    "print( df )\n",
    "\n",
    "print( df.describe() )"
   ]
  },
  {
   "cell_type": "code",
   "execution_count": 54,
   "id": "a127d126-16fe-4052-aa97-b8dab0b0f19d",
   "metadata": {},
   "outputs": [
    {
     "name": "stdout",
     "output_type": "stream",
     "text": [
      "A     kim\n",
      "B     lee\n",
      "C    park\n",
      "D    jung\n",
      "Name: name, dtype: object\n",
      "   name        tel\n",
      "A   kim  1111-2222\n",
      "B   lee  2222-1111\n",
      "C  park  3333-2222\n",
      "D  jung        nan\n",
      "park\n",
      "park\n",
      "park\n",
      "B     lee\n",
      "C    park\n",
      "D    jung\n",
      "Name: name, dtype: object\n",
      "A     kim\n",
      "B     lee\n",
      "C    park\n",
      "D    jung\n",
      "Name: name, dtype: object A    20\n",
      "B    30\n",
      "C    35\n",
      "D    25\n",
      "Name: age, dtype: object\n",
      "park\n"
     ]
    },
    {
     "name": "stderr",
     "output_type": "stream",
     "text": [
      "C:\\Users\\e9862\\AppData\\Local\\Temp\\ipykernel_28276\\3121501242.py:3: FutureWarning: Series.__getitem__ treating keys as positions is deprecated. In a future version, integer keys will always be treated as labels (consistent with DataFrame behavior). To access a value by position, use `ser.iloc[pos]`\n",
      "  print(df['name'][2] )\n"
     ]
    }
   ],
   "source": [
    "print(df['name'] )\n",
    "print(df[['name','tel']] )\n",
    "print(df['name'][2] )\n",
    "print(df['name']['C'] )\n",
    "print(df['name'].C )\n",
    "print(df['name']['B':'D'] )\n",
    "\n",
    "print( df.name, df.age )\n",
    "print( df.name.C )"
   ]
  },
  {
   "cell_type": "code",
   "execution_count": 60,
   "id": "9b333d34-a3d4-4da1-803d-e78e656cccb9",
   "metadata": {},
   "outputs": [
    {
     "name": "stdout",
     "output_type": "stream",
     "text": [
      "   name age        tel\n",
      "A   kim  20  1111-2222\n",
      "B   lee  30  2222-1111\n",
      "C  park  35  3333-2222\n",
      "D  jung  25        nan\n",
      "  name age        tel\n",
      "A  kim  20  1111-2222\n",
      "   name        tel\n",
      "A   kim  1111-2222\n",
      "B   lee  2222-1111\n",
      "C  park  3333-2222\n",
      "D  jung        nan\n"
     ]
    }
   ],
   "source": [
    "print ( df[:][:] )\n",
    "print ( df[:2][:1] )\n",
    "print ( df[['name','tel']] )\n",
    "# print ( df[[ 0, 2 ]] )          #에러 컬럼명이 있는 경우 숫자 X\n",
    "# print ( df[0][0] )              #에러 "
   ]
  },
  {
   "cell_type": "code",
   "execution_count": 71,
   "id": "498741bd-8b7c-4205-838d-2a9d35352e4e",
   "metadata": {},
   "outputs": [
    {
     "name": "stdout",
     "output_type": "stream",
     "text": [
      "   name    age        tel address  adlut\n",
      "A   kim  False  1111-2222      서울  False\n",
      "B   lee  False  2222-1111      수원  False\n",
      "C  park  False  3333-2222      인천  False\n",
      "D  jung  False        nan      안산  False\n",
      "   name    age        tel address  adlut\n",
      "A   kim  False  1111-2222      서울  False\n",
      "B   lee  False  2222-1111      수원  False\n",
      "C  park  False  3333-2222      인천  False\n",
      "D  jung  False        nan      안산  False\n"
     ]
    }
   ],
   "source": [
    "print( df )\n",
    "df[ 'address' ] = ['서울', '수원', '인천', '안산' ]\n",
    "# df[ 'age'] [ 'A' ] = 30\n",
    "df['adult'] = df['age'].astype(np.int64) > 30\n",
    "\n",
    "del( df[ 'adult' ] )\n",
    "\n",
    "print( df )"
   ]
  },
  {
   "cell_type": "code",
   "execution_count": 75,
   "id": "e03e5dd4-7d18-40ed-a675-ea52e4010de8",
   "metadata": {},
   "outputs": [
    {
     "name": "stdout",
     "output_type": "stream",
     "text": [
      "a    10\n",
      "b    40\n",
      "c    50\n",
      "d    20\n",
      "e    70\n",
      "f    60\n",
      "dtype: int64\n"
     ]
    }
   ],
   "source": [
    "# Series 정렬\n",
    "s = pd.Series ( [10, 40, 50, 20, 70, 60 ], index = [ 'a', 'b', 'c', 'd', 'e', 'f' ] )\n",
    "s.sort_index( ascending=False )\n",
    "s.sort_values()\n",
    "print( s )"
   ]
  },
  {
   "cell_type": "code",
   "execution_count": 88,
   "id": "713a03e1-2174-495c-82d7-d196e01b353a",
   "metadata": {},
   "outputs": [
    {
     "name": "stdout",
     "output_type": "stream",
     "text": [
      "     D    C    A    B\n",
      "c    4    5    1    2\n",
      "a  300  400  200  100\n",
      "b   20   10   40   30\n",
      "     D    C    B    A\n",
      "c    4    5    2    1\n",
      "b   20   10   30   40\n",
      "a  300  400  100  200\n"
     ]
    }
   ],
   "source": [
    "# DataFrame 정렬\n",
    "df = pd.DataFrame( [[ 4, 5, 1, 2],\n",
    "                    [ 300, 400, 200, 100],\n",
    "                    [ 20, 10, 40, 30 ]], index=[ 'c', 'a', 'b' ], columns=[ 'D', 'C', 'A', 'B' ])\n",
    "print( df )\n",
    "df = df.sort_index()                    #index\n",
    "df = df.sort_index( axis=0 )           #위에와 동일한 것!\n",
    "df = df.sort_index( axis=1, ascending=False )           #column\n",
    "\n",
    "# df=df.sort_values( axis=1, by='a' )     #위에와 동일한 값이 나옴\n",
    "df=df.sort_values( by='A', ascending=False) # 행끼리\n",
    "df=df.sort_values( by=['A', 'B'] )\n",
    "\n",
    "df=df.sort_values( by='b', axis=1 ) #열끼리\n",
    "print( df )"
   ]
  },
  {
   "cell_type": "code",
   "execution_count": 109,
   "id": "267c74bb-e397-4ea5-860e-4ed16996559e",
   "metadata": {},
   "outputs": [
    {
     "name": "stdout",
     "output_type": "stream",
     "text": [
      "[[1, 2, 3], [4, 5, 6], [7, 8, 9]]\n",
      "9\n",
      "[[1, 2, 3], [4, 5, 6], [7, 8, 9]]\n",
      "[[1, 2, 3], [4, 5, 6]]\n",
      "[[1 2 3]\n",
      " [4 5 6]\n",
      " [7 8 9]]\n",
      "9\n",
      "[[1 2 3]\n",
      " [4 5 6]\n",
      " [7 8 9]]\n",
      "[[1 2 3]\n",
      " [4 5 6]]\n",
      "[[1 2]\n",
      " [4 5]]\n",
      "   0  1  2\n",
      "0  1  2  3\n",
      "1  4  5  6\n",
      "2  7  8  9\n",
      "9\n",
      "   0  1  2\n",
      "0  1  2  3\n",
      "1  4  5  6\n",
      "2  7  8  9\n",
      "   0  1  2\n",
      "0  1  2  3\n",
      "1  4  5  6\n"
     ]
    }
   ],
   "source": [
    "# 슬라이싱\n",
    "# .iloc                정수 인덱스\n",
    "# .Loc                 라벨 인덱스\n",
    "# .ix                  deprecated\n",
    "\n",
    "# List\n",
    "m = [ [1, 2, 3], [4, 5, 6], [7, 8, 9] ]\n",
    "print( m )\n",
    "print(m[2][2])\n",
    "print(m[:][:])\n",
    "print(m[:2][:2])\n",
    "#print(m[:2,:2])                          #에러\n",
    "\n",
    "#Numpy\n",
    "n = np.array(m)\n",
    "print( n )\n",
    "print( n[2][2])\n",
    "print( n[:][:])\n",
    "print( n[:2][:2])\n",
    "print( n[:2,:2])\n",
    "\n",
    "\n",
    "#Pandas\n",
    "df = pd.DataFrame( n )\n",
    "print( df )\n",
    "print( df[2][2] )\n",
    "print( df[:][:] )\n",
    "print( df[:2][:2] )\n",
    "# print( df[:2, :2] )            # 에러"
   ]
  },
  {
   "cell_type": "code",
   "execution_count": 126,
   "id": "32bff257-d843-4988-b204-325c3497f7bd",
   "metadata": {},
   "outputs": [
    {
     "name": "stdout",
     "output_type": "stream",
     "text": [
      "    A   B   C   D\n",
      "0   1   2   3   4\n",
      "1   5   6   7   8\n",
      "2   9  10  11  12\n",
      "3  13  14  15  16\n",
      "4  17  18  19  20\n",
      "11\n",
      "    A   D\n",
      "0   1   4\n",
      "1   5   8\n",
      "2   9  12\n",
      "3  13  16\n",
      "4  17  20\n",
      "11\n",
      "11\n",
      "   A  B\n",
      "0  1  2\n",
      "1  5  6\n",
      "   A   C\n",
      "0  1   3\n",
      "2  9  11\n",
      "   A  B  C\n",
      "0  1  2  3\n",
      "1  5  6  7\n",
      "    D   C   B   A\n",
      "4  20  19  18  17\n",
      "3  16  15  14  13\n",
      "2  12  11  10   9\n",
      "1   8   7   6   5\n",
      "0   4   3   2   1\n"
     ]
    },
    {
     "name": "stderr",
     "output_type": "stream",
     "text": [
      "C:\\Users\\e9862\\AppData\\Local\\Temp\\ipykernel_28276\\4197207830.py:11: FutureWarning: Series.__getitem__ treating keys as positions is deprecated. In a future version, integer keys will always be treated as labels (consistent with DataFrame behavior). To access a value by position, use `ser.iloc[pos]`\n",
      "  print( df.iloc[2][2] )\n"
     ]
    }
   ],
   "source": [
    "# iloc\n",
    "df = pd.DataFrame( np.arange( 1, 21 ). reshape( 5, 4), columns=['A', 'B', 'C', 'D'] )\n",
    "print( df )\n",
    "\n",
    "# print( df[2][2] )              #에러\n",
    "print( df['C'][2])\n",
    "print( df[['A', 'D']] )\n",
    "# print( df[['A' : 'C']] )        #에러\n",
    "# print( df[[ 'A' : 'C' ]] )        #에러\n",
    "\n",
    "print( df.iloc[2][2] )\n",
    "print( df.iloc[2, 2] )\n",
    "#print( df.iloc[2, 'C'] )          #에러\n",
    "print( df.iloc[:2, :2] )\n",
    "print( df.iloc[:3:2, :3:2] )\n",
    "print( df.iloc[:2, :-1] )\n",
    "print( df.iloc[::-1, ::-1] )"
   ]
  },
  {
   "cell_type": "code",
   "execution_count": 140,
   "id": "7eb3fd75-0625-4a2f-a83f-3296994e7504",
   "metadata": {},
   "outputs": [
    {
     "name": "stdout",
     "output_type": "stream",
     "text": [
      "    A   B   C   D\n",
      "0   1   2   3   4\n",
      "1   5   6   7   8\n",
      "2   9  10  11  12\n",
      "3  13  14  15  16\n",
      "4  17  18  19  20\n",
      "11\n",
      "   A   B   C\n",
      "0  1   2   3\n",
      "1  5   6   7\n",
      "2  9  10  11\n",
      "   A  B  C  D\n",
      "0  1  2  3  4\n",
      "1  5  6  7  8\n",
      "    B   C   D\n",
      "1   6   7   8\n",
      "2  10  11  12\n",
      "3  14  15  16\n",
      "0     3\n",
      "1     7\n",
      "2    11\n",
      "3    15\n",
      "4    19\n",
      "Name: C, dtype: int32\n",
      "    B   D\n",
      "0   2   4\n",
      "1   6   8\n",
      "2  10  12\n",
      "3  14  16\n",
      "4  18  20\n",
      "    B   D\n",
      "0   2   4\n",
      "1   6   8\n",
      "2  10  12\n",
      "3  14  16\n",
      "4  18  20\n",
      "    B   D\n",
      "0   2   4\n",
      "1   6   8\n",
      "2  10  12\n",
      "3  14  16\n",
      "4  18  20\n"
     ]
    }
   ],
   "source": [
    "# Loc\n",
    "print( df )\n",
    "#print( df.lod[2, 2] )                      #에러\n",
    "print( df.loc[2, 'C'] )\n",
    "#print( df.loc[:2, :2] )                     #에러\n",
    "print( df.loc[:2, :'C'] )\n",
    "print( df[:2] )\n",
    "print( df.loc[1:3, 'B':'D'] )\n",
    "print( df.loc[:, 'C'] )\n",
    "print( df.loc[:, ['B', 'D']] )\n",
    "print( df.loc[:, ['B', 'D']] )\n",
    "print( df[['B', 'D']] )"
   ]
  },
  {
   "cell_type": "code",
   "execution_count": 167,
   "id": "7dbcb8cc-9d7a-4c1e-b684-17c922b65e5e",
   "metadata": {},
   "outputs": [
    {
     "name": "stdout",
     "output_type": "stream",
     "text": [
      "     A    B    C   D\n",
      "0   99    2    3   4\n",
      "1  100  101  102   8\n",
      "2    9   10   11  12\n",
      "3  200   14  201  16\n",
      "4   17   18   19  20\n"
     ]
    }
   ],
   "source": [
    "df = pd.DataFrame( np.arange( 1, 21 ).reshape( 5, 4 ), columns=['A', 'B', 'C', 'D'] )\n",
    "df['E'] = [ 31, 32, 33, 34, 35 ]\n",
    "# df[5][:] = [90, 91, 92, 93, 94 ]\n",
    "# df.iloc[:, 5] = [ 40, 41, 42, 43, 44 ]             #에러\n",
    "# df.iloc[5, :] = [ 90, 92, 92, 93, 94 ]               #에러\n",
    "df.loc[5] = [ 90, 91, 92, 93, 94 ]\n",
    "df.loc[:, 'F'] = [ 40, 41, 42, 43, 44, 45 ]\n",
    "\n",
    "df.loc[0, 'A'] = 99\n",
    "df.loc[1, 'A':'C'] = [100, 101, 102]\n",
    "df.loc[3, ['A', 'C', 'E']] = [200, 201, 202]\n",
    "\n",
    "del( df['E'] )\n",
    "# del( df.loc[:, 'F'] )                          #에러\n",
    "\n",
    "df = df.drop( 'F', axis=1)\n",
    "#df.drop( 5, axis=1 )\n",
    "df = df.drop( 5 )\n",
    "print( df )"
   ]
  },
  {
   "cell_type": "code",
   "execution_count": 176,
   "id": "2c89a4a1-a76d-4b58-89c6-8f16a41cb3a4",
   "metadata": {},
   "outputs": [
    {
     "name": "stdout",
     "output_type": "stream",
     "text": [
      "   name  age        tel\n",
      "0   kim   20  1111-2222\n",
      "1   lee   30  2222-1111\n",
      "2  park   35  3333-2222\n",
      "3  jung   25  3333-1111\n",
      "4  hong   40  1111-3333\n",
      "jung\n"
     ]
    }
   ],
   "source": [
    "# Booolean Indexing\n",
    "df = pd.DataFrame(\n",
    "    [['kim', 20, '1111-2222'],\n",
    "     ['lee', 30, '2222-1111'],\n",
    "     ['park', 35, '3333-2222'],\n",
    "     ['jung', 25, '3333-1111'],\n",
    "     ['hong', 40, '1111-3333']], columns=[ 'name', 'age', 'tel' ]\n",
    ")\n",
    "print( df )\n",
    "\n",
    "print( df.loc[3, 'name'] )\n",
    "print( df.loc[ df['age'] )"
   ]
  },
  {
   "cell_type": "code",
   "execution_count": null,
   "id": "e1300e6b-71f4-4637-ac2e-8f8f3902409b",
   "metadata": {},
   "outputs": [],
   "source": [
    "df = pd.DataFrame(\n",
    "    [['kim', 20, '1111-2222', '서울'],\n",
    "     ['lee', 39, '2222-1111', np.nan ],\n",
    "     ['park', 35, '3333-2222', '수원'],\n",
    "     ['jung', 25, '3333-1111', np.nan],\n",
    "     ['hong', 40, '1111-3333', np.nan]], columns=['name', 'age', 'tel', 'address']\n",
    ")\n",
    "df.loc[ 5, : ] = [ np.nan, np.nan, np.nan, np.nan ]        \n",
    "\n",
    "\n",
    "\n",
    "# df['address'].fillna\n",
    "df.fillna( {'address' : '서울'}, inplace=True ) \n",
    "df.fillna( {'income' : np.mean( df['income'] ) }, inplace=True )\n",
    "      \n",
    "df.drop( [4, 5], inplace=True )\n",
    "\n",
    "print( df )\n",
    "\n",
    "#print( df. T)\n",
    "print( df.transpose() )                 #전치행렬"
   ]
  },
  {
   "cell_type": "code",
   "execution_count": null,
   "id": "89d1d807-9b88-49a9-84c2-7c8f19b5660a",
   "metadata": {},
   "outputs": [],
   "source": []
  },
  {
   "cell_type": "code",
   "execution_count": 191,
   "id": "8b329892-9360-4cd3-913b-46862eb5a13d",
   "metadata": {},
   "outputs": [
    {
     "name": "stdout",
     "output_type": "stream",
     "text": [
      "   name   kor   eng   mat\n",
      "0   kim  90.0  80.0  70.0\n",
      "1   lee  45.0   NaN  55.0\n",
      "2  park  76.0  77.0  83.0\n",
      "3  hong   NaN   NaN  77.0\n",
      "4  kang  35.0  58.0  52.0\n",
      "5  jang   NaN   NaN   NaN\n",
      "name    2\n",
      "kor     0\n",
      "eng     0\n",
      "mat     2\n",
      "dtype: int64\n",
      "name    3\n",
      "kor     4\n",
      "eng     4\n",
      "mat     4\n",
      "dtype: int64\n",
      "kor    665.666667\n",
      "eng    142.333333\n",
      "mat    183.300000\n",
      "dtype: float64\n",
      "kor    25.800517\n",
      "eng    11.930353\n",
      "mat    13.538833\n",
      "dtype: float64\n",
      "   name   kor   eng   mat    tot        avg\n",
      "0   kim  90.0  80.0  70.0  240.0  80.000000\n",
      "1   lee  45.0   NaN  55.0  100.0  50.000000\n",
      "2  park  76.0  77.0  83.0  236.0  78.666667\n",
      "3  hong   NaN   NaN  77.0   77.0  77.000000\n",
      "4  kang  35.0  58.0  52.0  145.0  48.333333\n",
      "5  jang   NaN   NaN   NaN    0.0        NaN\n"
     ]
    }
   ],
   "source": [
    "# Pandas 함수\n",
    "df = pd.DataFrame(\n",
    "    [[ 'kim', 90, 80, 70 ],\n",
    "     [ 'lee', 45, np.nan, 55 ],\n",
    "     [ 'park', 76, 77, 83 ],\n",
    "     [ 'hong', np.nan, np.nan, 77 ],\n",
    "     [ 'kang', 35, 58, 52 ],\n",
    "     [ 'jang', np.nan, np.nan, np.nan]], columns=[ 'name', 'kor', 'eng', 'mat' ]\n",
    ")\n",
    "\n",
    "print( df )\n",
    "\n",
    "# 아래꺼는 오류 아님!\n",
    "# print( df.count() )\n",
    "# print( df.count( axis=1 ) )\n",
    "# print( df.min() )\n",
    "# print( df.loc[:, 'kor':'mat'].min( axis=1 ) )\n",
    "# print( df.max() )\n",
    "# print(df.loc[:, 'kor':'mat'].mean() )\n",
    "# print(df.loc[:, 'kor':'mat'].mean( axis=1) )\n",
    "# print( df.sum() )\n",
    "# print(df.loc[:, 'kor':'mat'].sum( axis=1) )\n",
    "# # print( df.loc[:, 'kor':'mat'].median() )\n",
    "# print( df.loc[:, 'kor':'mat'].cumsum() )\n",
    "# print( df.loc[:, 'kor':'mat'].cumprod() )\n",
    "\n",
    "print( df.idxmax() )\n",
    "print( df.idxmin() )\n",
    "\n",
    "print( df.loc[:, 'kor':'mat'].var() )              #분산\n",
    "print( df.loc[:, 'kor':'mat'].std() )              #표준편차\n",
    "\n",
    "df['tot'] = df.loc[:, 'kor':'mat'].sum( axis=1 )\n",
    "df['avg'] =  df.loc[:, 'kor':'mat'].mean( axis=1 )\n",
    "\n",
    "print( df['kor'].corr( df['eng'] ) )\n",
    "#1             양의 상관관계\n",
    "#0             상관관계가 낮다\n",
    "#-1            음의 상관관계\n",
    "\n",
    "print( df )"
   ]
  },
  {
   "cell_type": "code",
   "execution_count": null,
   "id": "c9c55240-f560-4444-840c-dc11ff58f8e4",
   "metadata": {},
   "outputs": [],
   "source": []
  }
 ],
 "metadata": {
  "kernelspec": {
   "display_name": "Python 3 (ipykernel)",
   "language": "python",
   "name": "python3"
  },
  "language_info": {
   "codemirror_mode": {
    "name": "ipython",
    "version": 3
   },
   "file_extension": ".py",
   "mimetype": "text/x-python",
   "name": "python",
   "nbconvert_exporter": "python",
   "pygments_lexer": "ipython3",
   "version": "3.12.4"
  }
 },
 "nbformat": 4,
 "nbformat_minor": 5
}
