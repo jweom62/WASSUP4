pip install selenium


from selenium import webdriver
from selenium.webdriver.common.by import By
from selenium.webdriver.chrome.options import Options
import time

options = Options()
options


options.add_experimental_option("detach", True)





url = 'https://naver.com'
driver = webdriver.Chrome(options=options)


driver.get(url)
time.sleep(2)





driver.back()


driver.forward()


driver.refresh()





driver.find_element?


driver.find_element(By.ID, 'query')


# 키 입력
driver.find_element(By.ID, 'query').send_keys('뉴진스')


driver.find_element(By.CLASS_NAME, 'search_input').send_keys('블랙핑크')


driver.find_element(By.NAME, 'query').send_keys('르세라핌')


driver.find_element(By.XPATH, '//*[@id="query"]').send_keys('BTS')





driver.find_element(By.LINK_TEXT, '쇼핑')


driver.find_element(By.LINK_TEXT, '쇼핑').click()


# 일부 매칭
driver.find_element(By.PARTIAL_LINK_TEXT, '증').click()


# 태그로 찾기 
# 태그는 요소가 너무 많으므로 정확하게 대상을 찾을 때에는 권장 안함
driver.find_element(By.TAG_NAME, 'div')


# 여러개의 요소를 찾을 때
driver.find_elements(By.CSS_SELECTOR, '.link_service')





#  테스트용 html
url = 'file:///C:/workspace/WASSUP4/02_Data_Collection/sample/signin.html'
driver = webdriver.Chrome(options=options)
driver.get(url)
time.sleep(2)


username = driver.find_element(By.NAME, "username")
username.send_keys('korea')


password = driver.find_element(By.NAME, "password")
password.send_keys('1234')


# login = driver.find_element(By.XPATH, '//*[@id="loginForm"]/input[3]')
# login.click()


driver.back()


login = driver.find_element(By.XPATH, '/html/body/form/input[3]')
login.click()


driver.back()


# login = driver.find_element(By.CSS_SELECTOR, '[value=Login]')
# login.click()


driver.back()





from selenium import webdriver
from selenium.webdriver.common.by import By
from selenium.webdriver.chrome.options import Options
import time

options = Options()
options.add_argument("--headless=new") 
# options.add_argument('--window-size= x, y') #실행되는 브라우저 크기를 지정할 수 있습니다.
# options.add_argument('--start-maximized') #브라우저가 최대화된 상태로 실행됩니다.
# options.add_argument('--start-fullscreen') #브라우저가 풀스크린 모드(F11)로 실행됩니다.
# options.add_argument('--blink-settings=imagesEnabled=false') #브라우저에서 이미지 로딩을 하지 않습니다.
# options.add_argument('--mute-audio') #브라우저에 음소거 옵션을 적용합니다.
# options.add_argument('incognito') #시크릿 모드의 브라우저가 실행됩니다.
options.add_experimental_option("detach", True) #특정함수안에서  드라이버 생성시 함수종료될 때 브라우저 같이 종료되는 문제 대응


url = 'http://naver.com'
driver = webdriver.Chrome(options=options)
driver.get(url)


print(driver.title)


driver.quit() # 탭 닫기





from selenium import webdriver
from selenium.webdriver.common.by import By
from selenium.webdriver.chrome.options import Options
import time

options = Options()
# options.add_argument("--start-maximized")
# options.add_argument("--headless=new") 
options.add_experimental_option("detach", True) #

url = 'http://naver.com'
driver = webdriver.Chrome(options=options)
driver.get(url)
time.sleep(2)


# 창의 너비/높이 구하기

size = driver.get_window_size()
width = size.get("width")
height = size.get("height")

print(str(width)+"px"+" "+str(height)+"px")


# 창 크기 조절
driver.set_window_size(800, 600)


# 스크린 상에서의 창 좌표
position = driver.get_window_position()
x = position.get('x')
y = position.get('y')

print("x : "+str(x)+" "+"y : "+str(y))


driver.set_window_position(200,200)


# 창 크기 최대화
driver.maximize_window()


# 창 크기 최소화
driver.minimize_window()


# 창 크기 최소화
driver.minimize_window()





from selenium import webdriver
from selenium.webdriver.common.by import By
from selenium.webdriver.chrome.options import Options
import time, random, pandas as pd

options = Options()
options.add_argument('--window-size=974,1047')
options.add_argument('--window-position=-7,0')
options.add_experimental_option("detach", True)


# 웹드라이버 로드
driver = webdriver.Chrome( options = options)


# 조건 설정
where = 'blog'
query = '인공지능'
dateform = '20240101to20240625'
url = f'https://search.naver.com/search.naver?ssc=tab.{where}.all&query={query}&sm=tab_opt&nso=so%3Ar%2Cp%3Afrom{dateform}'
# url = f'https://search.naver.com/search.naver?where={where}&query={query}&sm=tab_op&nso=so:r,p:from{dateform}'
fname = f'{where}_{query}_{dateform}'


# url 접속
driver.get(url)
time.sleep(random.randint(2,3))



