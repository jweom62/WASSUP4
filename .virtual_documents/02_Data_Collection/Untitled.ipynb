





import requests, json, pandas as pd


URL = 'http://www.krei.re.kr:18181/chart/main_chart/index/kind/W/sdate/2019-01-01/edate/2019-12-31'
resp = requests.get(URL)
resp


data = resp.text
print(type(data), len(data))
print(data)


data2 = resp.json()
print(type(data2), len(data2))
print(data2)


print(data2)









