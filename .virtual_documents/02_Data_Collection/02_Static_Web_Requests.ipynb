


pip install requests





import requests
from bs4 import BeautifulSoup


PATH = "https://finance.naver.com/"
resp = requests.get(PATH)


resp


requests.get?


resp.text


print(resp.text)


src = resp.text


soup = BeautifulSoup(src, 'lxml')
print(soup)





srclist = soup.select('.section_strategy a')
srclist


srclist = soup.select('.news_area a')
srclist


srclist = soup.select('.news_area a')
srclist


srclist = soup.select('.news_area a')
srclist


srclist = soup.select('.news_area a')
len(srclist)


srclist = srclist[:-1]
srclist





srclist[0].text


srclist[0]['href']





url = srclist[0]['href']
PATH + url


from urllib.parse import urljoin


urljoin(PATH, url)


urljoin(PATH, url)





news_title = []
news_url = []


for item in srclist:
    title = item.text
    url = urljoin(PATH, item['href'])
    print(title, url)
    news_title.append(title)
    news_url.append(url)    


news_title


news_url





import pandas as pd


df = pd.DataFrame( {'제목':news_title, '주소':news_url}   )
df


print(df)





df.to_excel('output/naver.xlsx', index = False)





# 파일명에 저장시각을 추가해보자.
import time


today = time.localtime()
today


time.ctime()


df.to_excel(f'output/{today.tm_year}_{today.tm_mon}_{today.tm_mday}_naver.xlsx', index = False)


# 스트링 포매팅으로 날짜 포맷을 바꿔보자.
# 2024-06-20
'%d-%02d-%02d'%(today.tm_year, today.tm_mon, today.tm_mday)


filename = '%d-%02d-%02d'%(today.tm_year, today.tm_mon, today.tm_mday)
excel_name = filename + '.xlsx'
csv_name = filename + '.csv'
excel_name, csv_name


df.to_csv(f'output/{csv_name}')





import requests
from bs4 import BeautifulSoup
import pandas as pd


PATH = 'https://www.melon.com/chart/index.htm'
resp = requests.get(PATH)
resp


requests.get?


requests.get(PATH, )


info = {'User-Agent': 'Mozilla/5.0 (Windows NT 10.0; Win64; x64) AppleWebKit/537.36 (KHTML, like Gecko) Chrome/126.0.0.0 Safari/537.36'}
info


requests.get?


resp = requests.get(PATH, headers = info)
resp


html_src = resp.text
html_src


# dom 객체 변환
soup = BeautifulSoup(html_src,'lxml')





len(soup.select('.ellipsis.rank01 a'))


song= [i.text for i in soup.select('.ellipsis.rank01 a')]
song





len(soup.select('.ellipsis.rank02 a'))


len(soup.select('.ellipsis.rank02>a'))


artist = [i.text for i in soup.select('.ellipsis.rank02 a')]
print(artist)


artist = [i.text for i in soup.select('.ellipsis.rank02 a')]
print(artist)


len(soup.select('div.ellipsis.rank02'))


#순위 인덱스 만들기
rank = list(range(1, 101))
print(rank)


songDF = pd.DataFrame({'순위':rank
                           '노래제목':song,
                           '가수명':artist})
songDF


songDF.to_csv('output/melon100.csv')





param = {'name':'Amy', 'age':20, 'address':'seoul'}


# get방식
resp1 = requests.post('https://httpbin.org/post', params=param)
print(resp1)


print(resp1.text)








PATH = 'https://search.naver.com/search.naver'
PATH


keyword = input('검색어를 입력하세요: ')


resp = requests.get(PATH, params={'qwery':keyword})
resp


html_src = resp.text
# print(html_src)











resp = request(https://korean.visitkorea.or.kr/












