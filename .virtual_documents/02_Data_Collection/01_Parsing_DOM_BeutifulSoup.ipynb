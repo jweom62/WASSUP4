


pip list


from bs4 import BeautifulSoup
import lxml


BeautifulSoup?


# sample
html = '''
<div id=prices >
    <table >
        <tr class=bb>
            <th class="bb lm lft">Date
            <th class="-gt bb">Open
            <th class="rgt bb">High
            <th class="rgt bb">Low
            <th class="rgt bb">Close
            <th class="rgt bb rm">Volume
        <tr>
            <td class="lm">Feb 28, 2014
            <td class="rgt">100.71
            <td class="rgt">100.71
            <td class="rgt">100.71
            <td class="rgt">100.71
            <td class="rgt rm">0
     </table>
'''


# 파이썬 표준 html 파서
BeautifulSoup(html, 'html.parser')


BeautifulSoup(html, 'lxml')





pwd


html_file = open('sample/market.html', encoding='utf-8')
html_file


html_src = html_file.read()
html_file.close()


html_src


print(html_src)


# DOM구조로 변환(구문분석)\
soup = BeautifulSoup(html_src, 'lxml')
type(soup)


soup?


soup





soup.find?


soup.find('p')


type(soup.find('p'))


soup.find_all('p')


type(soup.find_all('p'))


soup.find('p', id='orange')


soup.find_all(class_='fruit')





soup.select?


soup.select('p')


soup.select_one('p')


# 셀렉터 문법
soup.select('#orange')


soup.select('.price')


# AND 관계
soup.select('p#orange')


soup.select('.fruit.best')


# OR 관계, a태그 또는 스토어 클래스에 해당하는 모든 요소를 찾아줘.
soup.select('a, .store')


# > : 자식관계
soup.select('.fruit.best>a')


soup.select('.fruit.best > a') # 자식관계 표현할 때 공백 무방하다. 그런데 권장 안한다.


# 공백 : 자손 관계
soup.select('.fruit.best a')


soup.select('.fruit.best>span>a')





soup.select('.fruit.best a')


type(soup.select('.fruit.best a'))


soup.select('.fruit.best a')[0]


type(soup.select('.fruit.best a')[0])


soup.select('.fruit.best a')[0].text





for i in soup.select('.fruit.best a'):
    print(i.text)


tagitem = soup.select('.fruit.best a')[0]
tagitem


tagitem?


tagitem['href']


tagitem.attrs


# fruit best 클래스의 a자손들의 url정보를 모두 출력해보세요.


for i in soup.select('.fruit.best a'):
    print(i['href'])





for tag in soup.select('.fruit'):
    title = tag['title']
    price = tag.find('span', 'price').text
    count = tag.find('span', 'count').text
    store = tag.find('span', 'store').text
    url = tag.find('a')['href']
    print(title, price, count, store, url)


for tag in soup.select('.fruit'):
    title = tag['title']
    price = tag.select_one('.price').text
    count = tag.select_one('.count').text
    store = tag.select_one('.store').text
    url = tag.select_one('a')['href']
    print(title, price, count, store, url)


e = soup.find('p',  id= 'orange')
e


type(e)


e.name


e.attrs


e.string


print(e.string)


e.text


e.strings


for item in e.strings:
    print(item)





e


e.parent


e.parents


for i in e.parents:
    print(i.name)


e.contents


e.children


for i in e.children:
    print(i.name)
