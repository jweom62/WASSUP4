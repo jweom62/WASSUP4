


pip list


from bs4 import BeautifulSoup
import lxml


BeautifulSoup?


# sample
html = '''
<div id=prices >
    <table >
        <tr class=bb>
            <th class="bb lm lft">Date
            <th class="-gt bb">Open
            <th class="rgt bb">High
            <th class="rgt bb">Low
            <th class="rgt bb">Close
            <th class="rgt bb rm">Volume
        <tr>
            <td class="lm">Feb 28, 2014
            <td class="rgt">100.71
            <td class="rgt">100.71
            <td class="rgt">100.71
            <td class="rgt">100.71
            <td class="rgt rm">0
     </table>
'''


# 파이썬 표준 html 파서
BeautifulSoup(html, 'html.parser')


BeautifulSoup(html, 'lxml')





pwd


html_file = open('sample/market.html', encoding='utf-8')
html_file


html_src = html_file.read()
html_file.close()


html_src


print(html_src)


# DOM구조로 변환(구문분석)\
soup = BeautifulSoup(html_src, 'lxml')
type(soup)


soup?


soup





soup.






