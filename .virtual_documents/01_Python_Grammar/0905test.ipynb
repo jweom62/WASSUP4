


# 2016년 11월 영화 예매 순위 기준 top3는 다음과 같습니다.
# 영화 제목을 movie_rank 이름의 리스트에 저장해보세요.
# (순위 정보는 저장하지 않습니다.)

movie_rank = ["닥터 스트레인지", "스필릿", "럭키"]


# 052 리스트에 원소 추가
# 051의 movie_rank 리스트에 "배트맨"을 추가하라.

movie_rank.append("배트맨")
print(movie_rank)


# 053 movie_rank 리스트에는 아래와 같이 네 개의 영화 제목이 바인딩되어 있다. 
# "슈퍼맨"을 "닥터 스트레인지"와 "스플릿" 사이에 추가하라.

movie_rank.insert(3,"슈퍼맨")
print(movie_rank)


del movie_rank[4]
print(movie_rank)


del movie_rank[3]
print(movie_rank)


movie_rank =["닥터 스트레인지", "슈퍼맨", "스필릿", "배트맨"]
print(movie_rank)


# 55 movie_rank 리스트에서 '스플릿' 과 '배트맨'을 를 삭제하라.
movie_rank = ['닥터 스트레인지', '슈퍼맨', '스플릿', '배트맨']
del movie_rank[2]
del movie_rank[2]
print(movie_rank)


# 056 lang1과 lang2 리스트가 있을 때 
# lang1과 lang2의 원소를 모두 갖고 있는 langs 리스트를 만들어라.

lang1 = ["C", "C++", "JAVA"]
lang2 = ["C", "C++", "JAVA"]
langs = lang1 + lang2
print(langs)


# 057 리스트에서 최댓값과 최솟갑을 출력하라

nums = [1, 2, 3, 4, 5, 6, 7]
print("max: ", max(nums))
print("min: ", min(nums))



# 058 다음 리시트의 합을 출력하라
nums = [1, 2, 3, 4, 5]
print(sum(nums))


print(max(nums))


# 059 다음 리스트에 저장된 데이터 개수를 화면에 구하하라(?)
cook = ["피자", "김밥", "만두", "양념치킨", "족발", "피자", "김치만두", "쫄면", "소시지", "라면", "팥빙수", "김치전"]
print(len(cook))


# 060 리스트의 평균을 출력하라
nums = [1, 2, 3, 4, 5]
average = sum(nums)/len(nums)
print(average)


# 61 price 변수에는 날짜와 종가 정보가 저장돼 있다.
# 날짜 정보를 제외하고 가격 정보만을 출력하라. (힌트 : 슬라이싱)

price = ['20180728', 100, 130, 140, 150, 160, 170]
print(price[1:])


print(price[0:1])


# 62 슬라이싱을 사용해서 홀수만 출력하라
nums = [1, 2, 3, 4, 5, 6, 7, 8, 9, 10]
print(nums[::2])


# 63 슬라이싱을 사용해서 짝수만 출력하라.
nums = [1, 2, 3, 4, 5, 6, 7, 8, 9, 10]
print(nums[1::2])


# 64 슬라이싱을 사용해서 리스트의 숫자를 역 방향으로 출력하라
nums = [1, 2, 3, 4, 5]
print(nums[::-1])
# 우왕 맞쳤다아아앙


# 65 interest 리스트에는 아래 데이터가 바인딩됨
# interest 리스트를 사용하여 아래와 같이 화면에 출력하라.

interest = ['삼성전자', 'LG전자', 'Naver']
print(interest[::2])


# 65 다른 방법
print(interest[0], interest[2])


# 066 join 메서드
interest = ['삼성전자', 'LG전자', 'Naver', 'SK하이닉스', '미래에셋대우']
print(interest)


print(" ".join(interest))


print("야호".join(interest))


# 067 join 메서드
interest = ['삼성전자', 'LG전자', 'Naver', 'SK하이닉스', '미래에셋대우']
print("/".join(interest))









