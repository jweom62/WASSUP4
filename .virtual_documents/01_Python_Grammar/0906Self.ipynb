# 109번 if문

if True :
    print("1")
    print("2")
else:
    print("3")
print("4")


# 110번

if True :
    if False:
        print("1")
        print("2")
    else:
        print("3")
else :
    print("4")
print("5")


# 111번
# 사용자로부터 입력받은 문자열을 두 번 출력하라. 아래는 사용자가 "안녕하세요"를 입력한 경우의 출력 결과이다.

a = input("안녕하세요")
print(a*2)


a = input("입력:")
print(a*2)


# 112번
# 사용자로부터 하나의 숫자를 입력받고, 입력 받은 숫자에 10을 더해 출력하라.

a = int(input("숫자:"))
print(a+10)


# 113
# 사용자로부터 하나의 숫자를 입력 받고 짝수/홀수를 판별하라.
# 우왕 정답이다아아

a = int(input("숫자:"))
if a%2 == 0:
    print("짝수")
else:
    print("홀수")


# 114
# 사용자로부터 값을 입력받은 후 해당 값에 20을 더한 값을 출력하라.
# 단 사용자가 입력한 값과 20을 더한 계산 값이 255를 초과하는 경우 255를 출력해야 한다.

a = int(input("숫자:"))
b = a+20
if b > 255:
    print(255)
else:
    print(b)


#115
# 사용자로부터 하나의 값을 입력받은 후 해당 값에 20을 뺀 값을 출력하라.
# 단 출력 값의 범위는 0~255이다. 예를 들어 결괏값이 0보다 작은 값이되는 경우 0을 출력하고 255보다 큰 값이 되는 경우 255를 출력해야 한다.

a = int(input("숫자:"))
num = a-20
if num > 255:
    print(255)
elif num < 0:
    print(0)
else:
    print(num)


# 116
# 사용자로부터 입력 받은 시간이 정각인지 판별하라.

time = input("시간:")
if time[-2:] == "00":
    print("정각 입니다.")
else:
    print("정각이 아닙니다.")















