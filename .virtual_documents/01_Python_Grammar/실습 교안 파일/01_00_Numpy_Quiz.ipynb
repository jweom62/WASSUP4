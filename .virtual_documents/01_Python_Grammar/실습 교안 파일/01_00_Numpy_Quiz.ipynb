





import numpy as np


a = np.array(['강아지', '원숭이', '꽃', 45, 100])
a, a.ndim, a.size, type(a), a.dtype, a.shape





np.ones((2,3))





arr = np.arange(51,81).reshape(6,5)
# np.arange(51,81).reshape(-1,5)
arr





arr = arr.astype(float)
arr.dtype





arr2d = np.array([[ 1,  4,  5,  6], [56, 23, 45, 67], [ 8,  4,  6, 10]])
arr2d
arr2d.flatten()
print(arr2d.flatten()[5:11])






arr = np.array([ 1,  2,  3,  4,  5,  6,  7,  8,  9, 10])
arr[0] = 10
arr[7:] = 0
arr


















































import numpy as np


a = np.array(['강아지', '원숭이', '꽃', 45, 100])
a, a.ndim, a.size, type(a), a.dtype, a.shape





np.ones( (2, 3) )





arr = np.arange(51,81).reshape(6,5)
# np.arange(51,81).reshape(-1,5)
arr





arr = arr.astype(float)
arr.dtype





arr2d = np.array([[ 1,  4,  5,  6], [56, 23, 45, 67], [ 8,  4,  6, 10]])
print(arr2d.flatten()[5:11])
print(arr2d.flatten()[5:-1])





arr = np.array([ 1,  2,  3,  4,  5,  6,  7,  8,  9, 10])
arr[0] = 10
arr[7:] = 0
arr





np.random.randint(10,99,25).reshape(5,5)
np.random.randint(10,99,(5,5))





num = np.random.randint(1,100,7)
num, np.max(num), np.min(num)





a = np.array([[1, 2, 3], [4, 5, 6], [7, 8, 9]])
b = np.array([[11, 12, 13], [14, 15, 16], [17, 18, 19]])
c = np.array([[21, 22, 23], [24, 25, 26], [27, 28, 29]])

# result1 
result2 = np.hstack((a, b, c))

# result2 
result1 = np.vstack((a, b, c))

result1, result2





# 중복없이, 100까지 숫자중 40개를 추출가능, randint는 중복생김
n = np.random.choice(100, 40, replace=False)
# 50보다 큰 숫자만 필터링
n, n[np.where(n>50)] , n[n>50]





kor = np.array( [60,55,70,30,20,90])


# 국어 점수가 가장 큰값
max(kor)


# 국어점수가 80점이상인 값을 구하여라
kor[(kor>=80)]


#  국어 점수가 50점이상 80점 이하인 값을 구하여라
kor[(kor>= 50) & (kor <=80)]


# 국어점수의 평균을 구하여라
np.average(kor), round(kor.mean(),3)


# 국어점수의 총합을 구하여라.
np.sum(kor)


# 국어점수가 40점이하인 데이터를 삭제하여라
import copy
kor1 = kor.copy()
num = kor[kor<=40]
kor1, num, np.delete(kor1, np.where(kor<=40))


# 국어점수가 50점이상인 데이터에 가산점 10%를 부여하여라
np.where(kor>=50, kor*1.1, kor )


# 국어점수 top 3를 구하여라
np.sort(kor)


np.sort(kor)[::-1]


np.argsort(kor)[::-1][:3]


# 국어점수 top 3를 구하여라
np.sort(kor)[::-1][:3], kor[np.argsort(kor)[::-1][:3]] # 인덱스값으로 실제 값 출력


# 국어점수가 70점이상이면 '합격' , 아니면 '불합격으로' 아래와 같이 출력하시요
kor, np.where(kor>=70, "합격", "불합격")
