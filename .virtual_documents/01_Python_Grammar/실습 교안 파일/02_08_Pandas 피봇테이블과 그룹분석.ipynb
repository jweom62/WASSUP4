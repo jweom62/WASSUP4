














import pandas as pd


data = {
    "도시": ["서울", "서울", "서울", "부산", "부산", "부산", "인천", "인천"],
    "연도": ["2015", "2010", "2005", "2015", "2010", "2005", "2015", "2010"],
    "인구": [9904312, 9631482, 9762546, 3448737, 3393191, 3512547, 2890451, 263203],
    "지역": ["수도권", "수도권", "수도권", "경상권", "경상권", "경상권", "수도권", "수도권"]
}
columns = ["도시", "연도", "인구", "지역"]
df1 = pd.DataFrame(data, columns=columns)
df1


df2 = df1[["도시", "연도", "인구"]]
df2





df1.pivot?


# df2.pivot("도시", "연도", "인구")
df2.pivot(index="도시", columns="연도", values="인구")


df2.pivot(index="연도", columns="도시", values="인구")








df1


df1.set_index(["도시", "연도"])


df1.set_index(["도시", "연도"]).unstack()


df1.set_index(["도시", "연도"])


df1.set_index(["도시", "연도"])["인구"]


df1.set_index(["도시", "연도"])[["인구"]]


df1.set_index(["도시", "연도"])[["인구"]].unstack()





df1.pivot(index= ["지역", "도시"], columns="연도", values="인구")





df1


try:
    df1.pivot(index="지역", columns="연도", values="인구")
except ValueError as e:
    print("ValueError:", e)


























import numpy as np
np.random.seed(0)
df2 = pd.DataFrame({
    'key1': ['A', 'A', 'B', 'B', 'A'],
    'key2': ['one', 'two', 'one', 'two', 'one'],
    'data1': [1, 2, 3, 4, 5],
    'data2': [10, 20, 30, 40, 50]
})
df2





df2.groupby?


groups = df2.groupby(df2.key1)
groups





groups.groups


df2





groups.sum()





df2


df2['data1'].groupby(df2['key1']).sum()


df2.data1.groupby(df2.key1).sum()





df2


df2.groupby(df2.key1)["data1"].sum()   # `GroupBy` 클래스 객체에서 data1만 선택하여 분석하는 경우


df2.groupby(df2.key1).sum()["data1"]  # 전체 데이터를 분석한 후 data1만 선택한 경우





# 1) key2의 값을 기준으로 data2의 값을 분류하여 합계를 구한 결과를 시리즈가 아닌 데이터프레임으로 구한다
df2.groupby(df2.key2)[["data2"]].sum()


df2


# 2) 이번에는 복합 키 (key1, key2) 값에 따른 data1의 합계를 구하자. 분석하고자 하는 키가 복수이면 리스트를 사용한다.
df2.data1.groupby([df2.key1, df2.key2]).sum()


# 데이터프레임으로 보고 싶어
df2[['data1']].groupby([df2.key1, df2.key2]).sum()


# 3) 이 결과를 unstack 명령으로 피봇 데이블 형태로 만들수도 있다.
df2.data1.groupby([df2["key1"], df2["key2"]]).sum().unstack()


df1


# 4) 그룹분석 기능을 사용하면 위의 인구 데이터로부터 지역별 합계를 구할 수도 있다.
df1["인구"].groupby(df1["지역"]).sum()


df1["인구"].groupby([df1["지역"], df1["연도"]]).sum().unstack("연도")








import seaborn as sns
iris = sns.load_dataset("iris")
iris


iris.info()





def peak_to_peak_ratio(x):
    return x.max() / x.min()

iris.groupby(iris.species).agg(peak_to_peak_ratio)








iris.describe?


iris.describe()


iris.info()


iris.head()


iris.groupby(iris.species).describe()


iris.groupby(iris.species).describe().T








iris.sort_values(by="petal_length", ascending=False)[:3]


def top3_petal_length(df):
    return df.sort_values(by="petal_length", ascending=False)[:3]

iris.groupby(iris.species).apply(top3_petal_length)








iris


def q3cut(s):
    return pd.qcut(s, 3, labels=["소", "중", "대"]).astype(str)


iris["petal_length_class"] = iris.groupby(iris.species).petal_length.transform(q3cut)
iris[["petal_length", "petal_length_class"]].tail(10)





import seaborn as sns
iris = sns.load_dataset("iris")
iris


iris.groupby('species').mean()














df1


df1.pivot_table(values="인구", index="도시", columns="연도") # 인자를 안써도 되지만, 헷갈리니 꼭 기입해주자





df1.pivot_table?


df1.pivot_table(values="인구", index="도시", columns="연도", margins=True, margins_name="평균") # aggfunc 디폴트 평균계산





df1["인구"].mean()





df1.pivot_table("인구", index=["연도", "도시"])





tips = sns.load_dataset("tips")
tips.tail()


tips


tips.info()


tips.describe()





tips['tip_pct'] = tips['tip'] / tips['total_bill']
tips.tail()





tips.describe()





tips.groupby("sex").count()





tips.groupby("sex").size()





tips.groupby(["sex", "smoker"]).count()


tips.groupby(["sex", "smoker"]).count()['total_bill']


tips.groupby(["sex", "smoker"]).size()





tips.pivot_table(values="tip_pct", index="sex", columns="smoker", aggfunc="count", margins=True)





tips[['sex', 'tip_pct']]


tips.groupby("sex")['tip_pct'].mean()


tips.groupby("sex")[["tip_pct"]].mean()


tips.groupby("smoker")[["tip_pct"]].mean()





tips.pivot_table(values="tip_pct", index="sex") # default 평균


tips.pivot_table("tip_pct", ["sex", "smoker"])


tips.pivot_table("tip_pct", "sex", "smoker") # data, index, columns





tips.groupby("sex")[["tip_pct"]].describe()


tips.groupby("smoker")[["tip_pct"]].describe()


tips.groupby(["sex", "smoker"])[["tip_pct"]].describe()





import pandas as pd


import seaborn as sns
tips = sns.load_dataset("tips")
tips.tail()


tips['tip_pct'] = tips['tip'] / tips['total_bill']
tips.tail()


tips


# 1. 팁 금액이 요일과 점심/저녁 여부, 인원수에 어떤 영향을 받는지 살펴본다
# 요일, 점심/저녁 여부, 인원수에 따른 평균 팁을 계산
tip_pct_by_day_time_size = tips.pivot_table(values='tip', index=['day', 'time', 'size'], columns='sex', aggfunc='mean')
print(tip_pct_by_day_time_size)


# 2. 어떤 요인이 가장 크게 작용하는지 판단할 수 있는 방법이 있는가?
# 가장 큰 팁을 가진 조합 찾기
tip_pct_by_day_time_size.idxmax()    # 데이터프레임에서 가장 큰 값을 가진 조합의 인덱스를 반환





def peak_to_peak(x):
    return x.max() - x.min()


tips.groupby(["sex", "smoker"])[["tip"]].agg(peak_to_peak)





tips.groupby(["sex", "smoker"])[["total_bill"]].agg(["mean", peak_to_peak])





tips


tips.groupby(["sex", "smoker"]).agg({'tip_pct': 'mean' , 'total_bill': peak_to_peak}) 





tips.pivot_table(values = ['tip_pct', 'size'], index=['sex', 'day'], columns='smoker')


tips.pivot_table('size', ['time', 'sex', 'smoker'], 'day',
                 aggfunc='sum')





titanic = sns.load_dataset("titanic")
titanic


# 1. `qcut` 명령으로 세 개의 나이 그룹을 만든다.
titanic["연령구간"] = pd.qcut(titanic.age, 3, labels= ["젊은", "중년", "노인"]).astype(str)
titanic["연령구간"]


# 성별, 선실, 나이 그룹에 의한 생존율을 데이터프레임으로 계산한다. 
# 행에는 성별 및 나이 그룹에 대한 다중 인덱스를 사용하고 열에는 선실 인덱스를 사용한다.
# 생존률은 해당 그룹의 생존 인원수를 전체 인원수로 나눈 값이다.
def pct_alive(x):
    return x.sum() / len(titanic)
titanic.groupby(["sex", "연령구간", "class"])[["survived"]].agg(pct_alive).unstack()


titanic.pivot_table(values = "survived", index=["sex", "연령구간"], columns="class", aggfunc=pct_alive)


# 성별 및 선실에 의한 생존율을 피봇 데이터 형태로 만든다.
titanic.groupby(["sex", "class"])[["survived"]].agg(pct_alive) 


titanic.pivot_table(values = "survived", index=["sex", "class"], aggfunc=pct_alive, margins=True, margins_name='pct_sum')


titanic['survived'].sum()/len(titanic)
