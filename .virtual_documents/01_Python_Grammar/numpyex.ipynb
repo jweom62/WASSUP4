# Numpy
# Numerical Python
# 고성능 수치 계산을 위한 라이브러리
# 벡터나 행렬 연산에 편리한 기능 제공
# 모든 원소는 같은 자료형만 가능


import numpy as np
a = np.arange( 15 )
print (a)
a = a.reshape (3, 5, order='F' )      # C 행부터 할당 F 열부터 할당
print(a)
print( type( a ) )
print( a.shape )
print( a.dtype )
print( a.ndim )
print( a.size )

# print( dir(np) )


b = ( [-1, 2, 5, -3, 0, 7, -9, 7, -4, -7] )    #List
print(type ( b ) )
b = np.array( b )
print( type ( b ) )

t = ( 10, 20, 30, 40, 50)                      #Tuple
print( type( t ) )
t = np.array(t)
print( type( t ) )

s = { 10, 20, 30, 40, 50 }                     # Set
print ( type( s ) )
s = np.array( s )
print( type( s ) )


print( b. shape )
print( b. ndim )
print( b.dtype )
print(b)

# print( help( np.arange ) )
print( np.abs(b) )                         #절대값
print( np.sqrt( np.abs( b ) ) )            #제곱근
print( np.square ( b ) )                   #제곱
print( np.isnan ( b ) )                    #Non여부
print( np.sum( b ) )                       #합계
print( np.mean( b ) )                      #평균
print( np.max( b ) )                       #최대값
print( np.min( b ) )                       #최솟값
print( np.argmax( b ) )                    #최대값의 인덱스
print( np.argmax( b ) )                    #최대값의 인덱스
print( np.sort( b ) )                      #정렬 오름차순
print( np.sort( b ) [::-1] )               #정렬 내림차순    [start : end : step]
print( np.median( b ) )                    #중간값















