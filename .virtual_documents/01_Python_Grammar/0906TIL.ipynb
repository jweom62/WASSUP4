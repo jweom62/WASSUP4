


money = True
if money:
    print("택시를 타고 가라")
else:
    print("걸어 가라")


money = True
if money:
    print("택시를")
print("타고")
        print("가라")


money = True
if money:
    print("택시를")
    print("타고")
        print("가라")





x = 3
y = 2
x > y


x < y


x!=y





money = False
if money > 3000:
    print("택시를 타고 가라")
else:
    print("걸어가라")





money = True
card = True
if money >= 3000 and card:
    print("택시를 타고 가라")
else:
    print("걸어가라")


1 in [1, 2, 3]


1 not in [1, 2, 3]


'a' in ('a', 'b', 'c')


'j' not in 'Python'





pocket = ['money', 'smartphone']
if 'money' in pocket:
    print("택시를 타고 가라")
else:
    print("걸어가라")





pocket = ['money', 'smartphone']
if 'money' in pocket:
    pass
else:
    print("걸어가라")





pocket = ['money', 'smartphone']
card = True
if 'money' in pocket:
    print("택시를 타고 가라")
elif card:
    print("택시를 타고 가라")
else:
    print("걸어가라")


pocket = ['money', 'smartphone']
card = True
if 'money' in pocket:
    print("택시를 타고 가라")
else:
    if card :
        print ("택시를 타고 가라")
    else :
        print("걸어가라")





if 'money' in pocket:
    pass
else:
    print("카드를 꺼내라")





score = 50
if score >= 60:
    massage = "success"
    # print(massage)
else:
    massage = "failure"
    # print(massage)
print(massage)


massage = "sucess" if score >=60 else "failure"





>>> treeHit = 0
>>> while treeHit < 10:
    treeHit = treeHit +1
    print("나무를 %d번 찍었습니다." % treeHit)
    if treeHit == 10:
        print("나무 넘어갑니다.")


prompt = '''
1. Add
2. Del
3. List
4. Quit

Enter number : '''


prompt


print(prompt)


input()


number = 0
while number !=4:
    print(prompt)
    number = int(input())





coffee = 10
money = 300
while money:
    print("돈을 받았으니 커피를 줍니다.")
    coffee = coffee -1
    print("남은 커피의 양은 %d개입니다." % coffee)
    if coffee == 0:
        print("커피가 다 떨어졌습니다. 판매를 중지합니다.")
        break





coffee = 10
while True:
    money = int(input("돈을 넣어주세요: "))
    if money == 300:
        print("커피를 줍니다.")
        coffee = coffee -1
    elif money > 300:
        print("거스름돈 %d를 주고 커피를 줍니다." % (money -300))
        coffee = coffee -1
    else:
        print("돈을 다시 돌려주고 커피를 주지 않습니다.")
        print("남은 커피의 양은 %d개 입니다." % coffee)
    if coffee == 0:
        print("커피가 다 떨어졌습니다. 판매를 중지 합니다.")
        break











# 전형적인 for 문
test_list = ['one', 'two', 'three']

for i in test_list:
    print(i)


a = [(1,2), (3,4), (5,6)]
for i in a:
    print(i)


for first, last in a:
    print(first+last)





score = [90, 25, 67, 45, 80]

number = 0
for s in score:
    number +=1
    if s >= 60:
        print(f'{number}번 학생은 합격입니다.')
    else:
        print(f'{number}번 학생은 불합격입니다.')





scores = [90, 25, 67, 45, 80]

number = 0
for s in scores:
    number += 1
    if s < 60:
        continue
    print(f"{number}번 학생 축하합니다. 합격입니다.")





a = range(10)
a


a = range(1, 11)
a


add = 0
for i in range(1,11):
    add = add + i

print(add)


for i in range(1, 11):
    print(i)


scores = [90, 25, 67, 45, 80]

# number = 0
for s in range(len(scores)):
    # number += 1
    if scores[s] < 60:
        continue
    print(f"{s+1}번 학생 축하합니다. 합격입니다.")





for i in range(2,10):
    for j in range(1, 10):
        print(i*j, end=" ")
    print('')


for i in range(2,10):
    for j in range(1, 10):
        print(i*j, end=" ")


for x in range(2, 10):
    for y in range(1, 10):
        print(f'{x} x {y} = {x * y}')
    print('----------')





a = [1,2,3,4]
result = []
for num in a:
    result.append(num*3)

print(result)


a = [1,2,3,4]
result = [num * 3 for num in a if num % 2 == 0]
print(result)


result = [x*y for x in range(2,10)
              for y in range(1,10)]
print(result)


import time

start = time.time() 
numbers = [i for i in range(1000000)] 
end = time.time() 
print('List Comprehension Time:', end-start)

start = time.time() 
numbers = []
for i in range(1000000):
    numbers.append(i)
end = time.time() 
print('For loop Time:', end-start)





















