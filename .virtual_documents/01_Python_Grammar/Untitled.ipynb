# 109번 if문

if True :
    print("1")
    print("2")
else:
    print("3")
print("4")


# 110번

if True :
    if False:
        print("1")
        print("2")
    else:
        print("3")
else :
    print("4")
print("5")


# 111번
사용자로부터 입력받은 문자열을 두 번 출력하라. 아래는 사용자가 "안녕하세요"를 입력한 경우의 출력 결과이다.















