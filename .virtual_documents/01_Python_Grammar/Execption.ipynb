


f = open('나없는 파일', 'r')


a = [1, 2, 3]
a[3]





# 1. Try-except만 쓰는 방법
try:
    4 / 0
except:
    print('0으로 나눌 수 없습니다')


try:
    4 / 0
except ZeroDivisionError:
    print('0으로 나눌 수 없습니다')





# 여러개의 오류 처리하기 !
try:
    a = [1,2]
    print(a[3])
    4/0
except ZeroDivisionError:
    print("0으로 나눌 수 없습니다.")
except IndexError:
    print("인덱싱 할 수 없습니다.")


try:
    a = [1,2]
    print(a[3])
    4/0
except ZeroDivisionError as e:
    print(e)
except IndexError as e:
    print(e)


















