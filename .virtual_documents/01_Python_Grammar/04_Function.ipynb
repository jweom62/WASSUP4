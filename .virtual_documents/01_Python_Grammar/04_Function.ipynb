








def add(a, b):
    return a * b


d = 3
e = 4
c = add(d, e)
print(c)





def add(a, b): # a, b는 매개변수
    return a + b

print(add(3,4)) #3, 4는 인수





# 일반적인 함수
def add(a, b): 
    result = a + b 
    return result # 요 친구 때문에 출력이 됨


add(3, 4)


# 입력값이 없는 함수
def say():
    return 'Hi'


print(say())


# 리턴값이 없는 함수
def add2(a, b): 
    return("%d, %d의 합은 %d이고 %d입니다." % (a, b, a*b, a+b))


add2(3, 4)


c = add2(3, 4)


print(c)


# 입력값도, 리턴값도 없는 함수
def say2():
    return('Hi')


say2()


d = say2()


print(d)





def sub(a, b):
    return a-b


result = sub(a=7, b=3)
print(result)


result = sub(b=5, a=3)
print(result)





def add_many(*args):
    result = 0
    for i in args:
        result = result+i
    return result


add_many(1, 2, 3, 4, 5, 6)





def add_mul(option, *args):
    if option == 'mul':
        data = 1
        for i in args:
            data = data * i
        return data

    if option == 'sum':
        data = 0
        for i in args:
            data = data + i
        return data


add_mul('mul', 1,2,3,4,5)


add_mul('sum', 1,2,3,4,5)





def print_kwargs(**kwargs):
    print(kwargs)


print_kwargs(a=1)


print_kwargs(name='foo', age=3)





def add_and_mul(a,b): 
    return a+b, a*b


add_and_mul(3,4)


result1, result2 = add_and_mul(3,4)
result1


result2


def add_and_mul(a,b):
    return a+b
    return a*b


result = add_and_mul(2,3)
result





def say_nick(nick):
    if nick == '바보':
        return '옥상으로 따라와'
    print(f'나의 별명은 {nick}입니다.')


say_nick('야호')


say_nick('바보')





def say_myself(name, age, man=True):
    print(f'나의 이름은 {name}입니다.')
    print(f'나이는 {age}입니다.')
    if man:
        print('남자입니다.')
    else :
        print('여자입니다.')


say_myself('맹광국', 20)


say_myself('맹광국', 20, False)





a = 1
def vartest(a):
    a = a +1


a


vartest(a)


print(a)





# 1. return 사용하기
a = 1 
def vartest(a): 
    a = a +1 
    return a

a = vartest(a) 
print(a)


# 2. global 명령어 사용하기
a = 1 
def vartest(): 
    global a 
    a = a+1

vartest()
print(a)





def add(a,b):
    return a+b
result = add(3, 4)
print(result)


add = lambda a, b: a+b
add(3,4)





f = open('output/test.txt', 'w')
f.close()


f = open('output/test.txt', 'w')
for i in range(1, 11):
    f.write(f'{i}번쩨 줄입니다.\n')
f.close()


# readline 함수 이용하기
f = open('output/test.txt', 'r')
line = f.readline()
print(line)
f.close()


f = open('output/test.txt', 'r')
for i in range(5):
    line = f.readline()
    print(line)
f.close()


# readlines 함수
f = open('output/test.txt', 'r')
line = f.readline()
    print(line)


# readlines 함수
f = open('output/test.txt', 'r')
lines = f.readlines()
for line in lines:
    print(line)
f.close()


# 메모장을 읽어올 때 줄바끔을 없애보세요

f = open('output/test.txt', 'r')
lines = f.readlines()
for line in lines:
    line = line.strip()
    print(line)
f.close()


# read 함수 사용하기

f = open('output/test.txt', 'r')
data = f.read()
print(type(data))
print(data)
f.close()





f = open("output/test.txt", 'a')
for i in range(11, 21):
    data = f'{i}번째 줄입니다. \n'
    f.write(data)
f.close()





f = open("foo.txt", 'w')
f.write("Life is too short, you need python")
f.close()


with open('output/foo.txt', 'w') as f:
    f.write("Your leg is too short")















