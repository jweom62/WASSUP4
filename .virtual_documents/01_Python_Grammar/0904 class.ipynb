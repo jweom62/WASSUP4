





a = 1
print(a)


b = 'python'
b


c = [1,2,3]
c





# 정수형
a = 123
a


a = -178
a


a = 0
a


# 실수형
a = 1,2
b = -3, 45
a, b


a = 4.24E10
a


#8진수와 16진수





# 사칙연산
a = 3
b = 4
a + b


a-b, a*b, a/b


# X와 y제곱을 나타내는 **연산자
a ** b


#나눗셈 후 나머지를 리턴 
7 % 3, 3%7


# 나눗샘 후 몫을 리턴
7 // 4


# 복합 연산자
a = a +  1
a


a += 1
a


a -=1
a





"Hello World"


'Python is fun'


"""Life is too short, You neen Python"""


'''Life is too short, You need python'''





"Python's favorite food is perl"





"Python is very easy." he says.


'"Python is very easy." he says.'





food = 'Python\'s favorite food is perl'
food


say = ""Python is very easy." he says."
say


say = "\"Python is very easy.\" he says."
say





a = 'Life is too short
You need python'


a = 'Life is too short You need python'
a


# 1. 줄을 바꾸기 위한 이스케이프 코드 \n 삽입하기
multiline = "Life is too short\nYou need python"
multiline


print(multiline)


# 2. 연속된 작은따옴표 3개 또는 큰따옴표 3개 사용하기
'''
Life is too short 
You need python
'''


"""
Life is too short 
You need python
"""





head = "python"
tail = ' is fun!'
head + tail


head * 2


print("=" * 50)
print("My program")
print("=" * 50)


a = "Life is too short"
len(a)


a = "Life is too short, You need Python"
a


a[3]


a[17]


a[-1]  


a[-6]


a[0]+a[1]+a[2]+a[3]


a[0:3]


a[0:4]


a[0:5]


a[12:19]


a[12:]


a[:]


a[:17]


a[20:-7]


a[19:-7]


a = "20230331Rainy"
date = a[:8]
weather = a[8:]
date, weather


year = a[:4]
day = a[4:8]
year, day


# 문자열은 변경할 수 있을끼?
a = "pithon"
a[1]


a[1] = 'y'


a = 'Pithon'
a[:1]


a[2:]


a[:1] + 'y' + a[2:]





"I eat %d apples"%3


"I eat %s apples"%"five"


number =3
"I eat %d apples"%number


number = 10
day = "three"
" I ate %d apples. so I was sick for %s days."%(number, day)


# Error is 98%
"Error is %d%"%98


"Error is %d%%"%98


# 소수점 표현하기

"%0.2f"%3.42134234





"i eat {0} apples". format(3)


"i eat {0} apples". format("five")


"i eat {0} apples". format(number)


"i ate {} apples. so i was sick for {} days". format(number, day)


"i ate {a} apples. so i was sick for {b} days". format(a=number, b=day)


y = 3.4123434
"{0:0.4f}".format(y)


"{{and}}".format()





name = '홍길동'
age = 30
'나의 이름은 홍길동입니다. 나이는 30입니다.'.format(a=name, b=age)


f'나의 이름은 {name}입니다. 나이는 {age}입니다.'


f'나의 이름은 {name}입니다. 나이는 {age+1}입니다.'


d = {'name':'홍길동', 'age':30}
d


d['name']


f'나의 이름은 {d["name"]}입니다. 나이는 {d["age"]}입니다.'


y
f'{y:0.4f}'





a = 'hobby'
len(a)


# 특정 문자열 개수를 세기
a.count('b')


# 위치 알려주기
a = 'python is the best choice'
a. find('b')


a.find('k')


a.find?


help(a.find)


# 위치 알려주기
a = 'Life is too short'
a.index('t'), a.find('t')


a.index('k')


a.find('k')


# 문자열 삽입 join
'abcd'


','.join('abcd')


a = "hi"
a. upper()


a.upper?


a = 'HI'
a.lower()


# 공백 지우기
a = "  hi  "
a.rstrip()


a.lstrip()


a.strip()


a = 'Life is too short'
a.replace("Life", "Your leg")


# 문자열 나누기
a.split() #리스트로 반환해줍니다.


b = "a:b:c:d"
b.split(sep=")















