





a = 1
print(a)


b = 'python'
b


c = [1,2,3]
c





# 정수형
a = 123
a


a = -178
a


a = 0
a


# 실수형
a = 1,2
b = -3, 45
a, b


a = 4.24E10
a


#8진수와 16진수





# 사칙연산
a = 3
b = 4
a + b


a-b, a*b, a/b


# X와 y제곱을 나타내는 **연산자
a ** b


#나눗셈 후 나머지를 리턴 
7 % 3, 3%7


# 나눗샘 후 몫을 리턴
7 // 4


# 복합 연산자
a = a +  1
a


a += 1
a


a -=1
a





"Hello World"


'Python is fun'


"""Life is too short, You neen Python"""


'''Life is too short, You need python'''





"Python's favorite food is perl"





"Python is very easy." he says.


'"Python is very easy." he says.'





food = 'Python\'s favorite food is perl'
food


say = ""Python is very easy." he says."
say


say = "\"Python is very easy.\" he says."
say





a = 'Life is too short
You need python'


a = 'Life is too short You need python'
a


# 1. 줄을 바꾸기 위한 이스케이프 코드 \n 삽입하기
multiline = "Life is too short\nYou need python"
multiline


print(multiline)


# 2. 연속된 작은따옴표 3개 또는 큰따옴표 3개 사용하기
'''
Life is too short 
You need python
'''


"""
Life is too short 
You need python
"""





head = "python"
tail = ' is fun!'
head + tail


head * 2


print("=" * 50)
print("My program")
print("=" * 50)


a = "Life is too short"
len(a)


a = "Life is too short, You need Python"
a


a[3]


a[17]


a[-1]  


a[-6]


a[0]+a[1]+a[2]+a[3]


a[0:3]


a[0:4]


a[0:5]


a[12:19]


a[12:]


a[:]


a[:17]


a[20:-7]


a[19:-7]


a = "20230331Rainy"
date = a[:8]
weather = a[8:]
date, weather


year = a[:4]
day = a[4:8]
year, day


# 문자열은 변경할 수 있을끼?
a = "pithon"
a[1]


a[1] = 'y'


a = 'Pithon'
a[:1]


a[2:]


a[:1] + 'y' + a[2:]





"I eat %d apples"%3


"I eat %s apples"%"five"


number =3
"I eat %d apples"%number


number = 10
day = "three"
" I ate %d apples. so I was sick for %s days."%(number, day)


# Error is 98%
"Error is %d%"%98


"Error is %d%%"%98


# 소수점 표현하기

"%0.2f"%3.42134234





"i eat {0} apples". format(3)


"i eat {0} apples". format("five")


"i eat {0} apples". format(number)


"i ate {} apples. so i was sick for {} days". format(number, day)


"i ate {a} apples. so i was sick for {b} days". format(a=number, b=day)


y = 3.4123434
"{0:0.4f}".format(y)


"{{and}}".format()





name = '홍길동'
age = 30
'나의 이름은 홍길동입니다. 나이는 30입니다.'.format(a=name, b=age)


f'나의 이름은 {name}입니다. 나이는 {age}입니다.'


f'나의 이름은 {name}입니다. 나이는 {age+1}입니다.'


d = {'name':'홍길동', 'age':30}
d


d['name']


f'나의 이름은 {d["name"]}입니다. 나이는 {d["age"]}입니다.'


y
f'{y:0.4f}'





a = 'hobby'
len(a)


# 특정 문자열 개수를 세기
a.count('b')


# 위치 알려주기
a = 'python is the best choice'
a. find('b')


a.find('k')


a.find?


help(a.find)


# 위치 알려주기
a = 'Life is too short'
a.index('t'), a.find('t')


a.index('k')


a.find('k')


# 문자열 삽입 join
'abcd'


','.join('abcd')


a = "hi"
a. upper()


a.upper?


a = 'HI'
a.lower()


# 공백 지우기
a = "  hi  "
a.rstrip()


a.lstrip()


a.strip()


a = 'Life is too short'
a.replace("Life", "Your leg")


# 문자열 나누기
a.split() #리스트로 반환해줍니다.


b = "a:b:c:d"
b.split(sep=")





odd = [1,3,5,7,9]
odd


a = []
b = [1, 2, 3]
c = ['Life', 'is', 'too', 'short']
d = [1, 2, 'Life', 'is']
e = [1, 2, ['Life', 'is']]
f = list()
a, b, c, d, e, f


type(a)





a = [1, 2, 3]
a


a[0]


a[0]+a[2]


a[-1]


a = [1, 2, 3, ['a', 'b', 'c']]
a


len(a)


a[-1]


a[-1][1]


a = [1, 2, ['a', 'b', ['Life', 'is']]]
a


a[2][2][0]





a = [1, 2, 3, 4, 5]
a[0:2]


a = [1, 2, 3, ['a', 'b', 'c'], 4, 5]
a[2:5]


a[3][0:2]





a = [1, 2, 3]
b = [4, 5, 6]
a + b


a*3


# 리스트와 문자열 합산
a = [1, 2, 3]
a[2} + "hi"


a[2]


str(a[2])


str(a[2])+"hi"





a = [1, 2, 3]
a[2] = 4
a


a = [1, 2, 3, 4, 5]
del a[2:]
a





# 리스트에 요소 추가하기 append
a = [1, 2, 3]
a.append(4)
a


a.append([5,6])
a


# 리스트 정렬
a = [1, 4, 3, 2]
a.sort()
a


a = ['a', 'c', 'b']
a.sort()
a


a.sort(reverse=True)
a


# 리스트 뒤집기 reverse


a = ['a', 'c', 'b']
a.reverse()
a


# 인덱스 반환 index
a = [1, 2, 3]
a.index(3)


a.index(0)


# 리스트 요소 삽입 insert
a = [1, 2, 3]
a.insert(0, 4)
a


a.insert(3, 5)
a


#리스트 요소 제거 remove
a = [1, 2, 3, 1, 2, 3]
a. remove(3)
a


# 리스트 마지막 요소 꺼내고 삭제하기 pop
a = [1, 2, 3]
a.pop()


a


# 리스트에 포함된 요소 X의 개수 세기 count
a = [1, 2, 3, 1]
a.count(1)


# 리스트 확징 extend
a = [1, 2, 3]
a.append([4,5])
a


a = [1, 2, 3]
a.extend([4,5])
a


[1, 2, 3] + [4, 5]





t1 = ()
t2 = (1,)
t3 = (1, 2, 3)
t4 = 1, 2, 3
t5 = ('a', 'b', ('ab', 'cd'))
t1, t2, t3, t4, t5


type(t1), type(t2), type(t3), type(t4), type(t5)


t6 = (1)
t6, type(t6)


(1, 2, 'a', 'b')





dic = {'name':'pay', 'phone':'010-1234-1234', 'birth':'1118'}
dic





a = {1:'a'}
a


a[2] = 'b'
a


a['name'] = 'pay'
a


a[3] = [1, 2, 3]
a


del a[1]
a





grade = {'pey' : 10, 'julliet' : 99}
grade['pey']


grade['julliet']


dic


dic.keys()


for k in dic.keys():
     print(k)


for k in dic.keys():
    print(dic[k])


type(dic.keys())


list(dic.keys())


# Value 리스트 만들기 values
dic.values()


# key, value 쌍 얻기 items
dic. items()


dic.clear()
dic


a = {'name':'pey', 'phone':'010-9999-1234', 'birth': '1118'}
a


a['name']


a.get('name')


a.get('nokey')


a['nokey']


a.get('nokey', 'defaultkey')


'name' in a


'email' in a





s1 = set([1, 2, 3])
s1, type(s1)


s2 = set("hello")
s2


s1[0]


l1 = list(s1)
l1


l1[0]


tuple(s1)


s1 = set([1, 2, 3, 4, 5, 6])
s2 = set([4, 5, 6, 7, 8, 9])


# 교집합 구하기
s1 & s2


s1.intersection(s2)


# 합집합 구하기
s1 | s2


s1. union(s2)


# 차집합 구하기
s1 - s2


s1. difference(s2)


# 값 1개 추가하기 add
s1. add(0)
s1


# 값 여러개 추가하기 update
s1.update([7, 8, 9])
s1


s1 = {0, 1, 2, 3, 4, 5, 6, 7, 8, 9}
s1.remove(0)
s1





a = True
b = False
type(a), type(b)


1 == 1 


2 > 1


2 < 1


a = {1, 2, 3, 4}
while a : 
    print(a)
    print(a, a.pop())


if [1, 2, 3]:
    print('참')
else : 
    print('거짓')


type([])


if [] :
    print('참')
else :
    print('거짓')


# 불 연산
bool('python')


bool('')


a is b





a = {1, 9, 3}
a


b = {9, 9, 3}
b


from copy import copy
a = {1, 2, 3}
b = copy(a)
a, b


id(a), id(b)


a is b


c = a.copy()
a is c


a, b = ('python', 'life')


a


b


[a, b] = ['python', 'life']


a


a = b= 'python'


b


a = 3
b = 5
a, b = b, a


a


b









