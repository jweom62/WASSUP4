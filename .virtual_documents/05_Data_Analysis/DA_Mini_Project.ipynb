





























import pandas as pd
all_data = pd.read_table('data/mini.csv',encoding='cp949',sep=',')


all_data.head(10)


all_data.tail(10)


all_data.info()


# target이 1일 때 특징 찾아보기
target_1_data = all_data[all_data['target'] == 1]
target_1_data


# target이 0일 때 특징 찾아보기
target_0_data = all_data[all_data['target'] == 0]
target_0_data


df = pd.read_csv('C:/workspace/WASSUP4/05_Data_Analysis/data/mini.csv',encoding='cp949')


import matplotlib.pyplot as plt
import seaborn as sns
import koreanize_matplotlib
import numpy as np


df['subscription_duration'].sort_values()
sub_duration = df['subscription_duration'].value_counts().sort_index()

#그래프 사이즈
plt.figure(figsize=(10,5))

#그래프 x축 y축
plt.bar(sub_duration.index, sub_duration.values)

#그래프 명
plt.title('서비스 가입 기간')

#그래프 x축 레이블
plt.xlabel('기간(월)')

#그래프 y축 레이블
plt.ylabel('수강생(명)')

#x축 레이블을
plt.xticks(sub_duration.index)

#그래프 출력
plt.show()





df['subscription_duration'].sort_values()
sub_duration = df['subscription_duration'].value_counts().sort_index()

sub_mean = df.groupby(df['subscription_duration'])['target'].mean()
#print(sub_mean)

#그래프 사이즈
plt.figure(figsize=(10,5))

#그래프 x축 y축
plt.plot(sub_duration.index, sub_mean.values, color="red")

#그래프 명
plt.title('서비스 가입 기간')

#그래프 x축 레이블
plt.xlabel('기간(월)')

#그래프 y축 레이블
plt.ylabel('구독유지비율')

#x축 레이블을
plt.xticks(sub_duration.index)

#그래프 출력
plt.show()


print(sub_mean)





df['subscription_duration'].sort_values()
sub_duration = df['subscription_duration'].value_counts().sort_index()

sub_recent_achieve = df.groupby(df['subscription_duration'])['recent_learning_achievement'].mean()
#print(sub_mean)

#그래프 사이즈
plt.figure(figsize=(10,5))

#그래프 x축 y축
#plt.plot(sub_duration.index, sub_recent_achieve.values, color="red")
#plt.plot(sub_duration.index, sub_duration.values, color="green")

ax1 = plt.subplot(2, 1, 1) # 2행 1열, 순서
plt.plot(sub_duration.index, sub_recent_achieve.values, 'y.-')
plt.title('서비스 가입 기간')
plt.ylabel('최근 학습 성취도')

ax2 = plt.subplot(2, 1, 2) # 2행 1열, 순서
plt.plot(sub_duration.index, sub_duration.values, 'r.-')
plt.ylabel('학생수(명)')

#그래프 명
#plt.title('서비스 가입 기간')

#그래프 x축 레이블
plt.xlabel('기간(월)')

#그래프 y축 레이블
#plt.ylabel('최근 학습 성취도')

#x축 레이블을
plt.xticks(sub_duration.index)

#그래프 출력
plt.show()














#각 학습 세션 소요 시간 기준으로 구독 여부 분석
long_edutime = df['average_time_per_learning_session'] > df['average_time_per_learning_session'].mean()
long_edutime_target = df.groupby(long_edutime)['target'].mean()

# 시각화
plt.figure(figsize=(10, 6))
sns.barplot(x=long_edutime_target.index, y=long_edutime_target.values)
plt.title('세션당 학습 시간이 짧은 사용자 vs 세션당 학습 시간이 긴 사용자', fontsize=15)  # 제목 한글
plt.xlabel('세션당 학습 시간이 평균보다 긴 여부', fontsize=12)  # x축 라벨 한글
plt.ylabel('구독 연장 비율', fontsize=12)  # y축 라벨 한글
plt.show()











#활동적인 학습 일수와 구독 연장간의 상관관계
long_activeday = df['monthly_active_learning_days'] > df['monthly_active_learning_days'].mean()
long_activeday_target = df.groupby(long_activeday)['target'].mean()

print(long_activeday_target)

# 시각화
plt.figure(figsize=(10, 6))
sns.barplot(x=long_activeday_target.index, y=long_activeday_target.values)
plt.title('월간 학습 일수가 적은 사용자 vs 월간 학습 일수가 많은 사용자', fontsize=15)  # 제목 한글
plt.xlabel('월간 학습 일수가 평균보다 큰 여부', fontsize=12)  # x축 라벨 한글
plt.ylabel('구독 연장 비율', fontsize=12)  # y축 라벨 한글
plt.show()











#완료 과정 기준으로 구독 여부 분석
finish_course = df['total_completed_courses'] > df['total_completed_courses'].mean()
finish_course_target = df.groupby(finish_course)['target'].mean()

print(finish_course_target)

# 시각화
plt.figure(figsize=(10, 6))
sns.barplot(x=finish_course_target.index, y=finish_course_target.values)
plt.title('완료 과정수가 작은 사용자 vs 완료 과정수가 많은 사용자', fontsize=15)  # 제목 한글
plt.xlabel('완료 과정수가 평균보다 많은지 여부', fontsize=12)  # x축 라벨 한글
plt.ylabel('구독 연장 비율', fontsize=12)  # y축 라벨 한글
plt.show()











# 마지막 로그인 일자 대비 구독 유지율
df['recent_login_time'].sort_values()
recent_login = df['recent_login_time'].value_counts().sort_index()

sub_recentlongin_target = df.groupby(df['recent_login_time'])['target'].mean()


#그래프 사이즈
plt.figure(figsize=(10,5))

#그래프 x축 y축
plt.plot(recent_login.index, sub_recentlongin_target.values, color="red")

#그래프 명
plt.title('마지막 로그인 일자 대비')

#그래프 x축 레이블
plt.xlabel('기간(월)')

#그래프 y축 레이블
plt.ylabel('구독 유지비율')

#x축 레이블을
plt.xticks(recent_login.index)

#그래프 출력
plt.show()





# 마지막 로그인 일자 대비 학습 성취율
df['recent_login_time'].sort_values()
recent_login = df['recent_login_time'].value_counts().sort_index()

recent_login_achieve = df.groupby(df['recent_login_time'])['recent_learning_achievement'].mean()

#그래프 사이즈
plt.figure(figsize=(10,5))

#그래프 x축 y축
plt.bar(recent_login.index, recent_login_achieve.values)

#그래프 명
plt.title('마지막 로그인 일자 대비 학습 성취도')

#그래프 x축 레이블
plt.xlabel('마지막 로그인 날짜 수(일)')

#그래프 y축 레이블
plt.ylabel('학습 성취도(비율%)')

#x축 레이블을
plt.xticks(recent_login.index)

#그래프 출력
plt.show()

















#최근 학습 성취도 기준으로 구독 여부 분석
recent_learning_achievement = df['recent_learning_achievement'] > df['recent_learning_achievement'].mean()
recent_learning_achievement_target = df.groupby(recent_learning_achievement)['target'].mean()

print(recent_learning_achievement_target)

# 시각화
plt.figure(figsize=(10, 6))
sns.barplot(x=recent_learning_achievement_target.index, y=recent_learning_achievement_target.values)
plt.title('최근 학습 성취도가 낮은 사용자 vs 최근 학습 성취도가 높은 사용자', fontsize=15)  # 제목 한글
plt.xlabel('최근 학습 성취도가 평균보다 큰지 여부', fontsize=12)  # x축 라벨 한글
plt.ylabel('구독 연장 비율', fontsize=12)  # y축 라벨 한글
plt.show()








# 가입한 기간별 구독 유형의 학습자 수
# 가입한 기간

df['subscription_duration'].sort_values()
sub_duration = df['subscription_duration'].value_counts().sort_index()
# 구독 유형별 학습자 수
subscription_type_b = df['subscription_type'] == 'Basic'
sub_subscript_type = df.groupby(df['subscription_duration'])['subscription_type'].value_counts().reset_index()
df_basic = sub_subscript_type[sub_subscript_type['subscription_type'] == 'Basic']
df_premium = sub_subscript_type[sub_subscript_type['subscription_type'] == 'Premium']
# print(sub_subscript_type_b)
# print(sub_subscript_type_p)

# 다중 막대 차트
width = 0.4
duration = df_basic['subscription_duration']
index = np.arange(len(duration))
fig, ax = plt.subplots()

# Basic과 Premium 구독 데이터에 대한 바 생성
bar_basic = ax.bar(index, df_basic['count'], width, label='Basic', color='skyblue')
bar_premium = ax.bar(index + width, df_premium['count'], width, label='Premium', color='orange')

# 그래프 레이블과 제목 설정
ax.set_xlabel('구독기간과 구독 유형별 사용자수')
ax.set_ylabel('사용자 수')
ax.set_title('구독기간(월)')
ax.set_xticks(index + width / 2)
ax.set_xticklabels(duration)
ax.legend()

# 그래프 출력
plt.tight_layout()
plt.show()












