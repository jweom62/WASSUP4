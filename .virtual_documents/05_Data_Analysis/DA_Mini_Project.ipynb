


























import pandas as pd
all_data = pd.read_table('data/mini.csv',encoding='cp949',sep=',')


all_data.head(10)


all_data.tail(10)


all_data.info()


# target이 1일 때 특징 찾아보기
target_1_data = all_data[all_data['target'] == 1]
target_1_data


# target이 0일 때 특징 찾아보기
target_0_data = all_data[all_data['target'] == 0]
target_0_data























# 1.각 학습세션에 소요된 시간이 길수록 구독 연장 가능성이 높다


df = pd.read_csv('C:/workspace/WASSUP4/05_Data_Analysis/data/mini.csv',encoding='cp949')


import matplotlib.pyplot as plt
import seaborn as sns
import koreanize_matplotlib



#각 학습 세션 소요 시간 기준으로 구독 여부 분석
long_edutime = df['average_time_per_learning_session'] > df['average_time_per_learning_session'].mean()
long_edutime_target = df.groupby(long_edutime)['target'].mean()

# 시각화
plt.figure(figsize=(10, 6))
sns.barplot(x=long_edutime_target.index, y=long_edutime_target.values)
plt.title('세션당 학습 시간이 긴 사용자 vs 세션당 학습 시간이 짧은 사용자', fontsize=15)  # 제목 한글
plt.xlabel('세션당 학습 시간', fontsize=12)  # x축 라벨 한글
plt.ylabel('구독 연장 비율', fontsize=12)  # y축 라벨 한글
plt.show()



# 활동적인 학습 일수와 구독 연장간의 상관관계
























