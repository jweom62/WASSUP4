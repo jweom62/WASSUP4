








from statsmodels.tsa.ar_model import AR
from statsmodels.tsa.arima_model import ARIMA
from statsmodels.tsa.stattools import adfuller
import numpy as np
import pandas as pd
import matplotlib.pyplot as plt
from warnings import filterwarnings
filterwarnings("ignore")
plt.style.use("ggplot")


birthDF = pd.read_csv('../data/daily-total-female-births.txt', index_col='Date',
                     parse_dates=['Date'])
birthDF


airDF = pd.read_csv('../data/international-airline-passengers.txt', index_col='time',
                     parse_dates=['time'])
airDF


tempDF = pd.read_csv('../data/daily-min-temperatures.csv', index_col='date',
                     parse_dates=['date'])
tempDF


birthN = birthDF.shape[0]//2
birthN


# stationary dataset
# 평균과 분산 차이가 적음
print(birthDF.iloc[:birthN].mean())
print(birthDF.iloc[:birthN].var())
print('='*50)
print(birthDF.iloc[birthN:].mean())
print(birthDF.iloc[birthN:].var())


# non-stationary dataset, 평균과 분산차이가 큼
airN = airDF.shape[0]//2
print(airDF.iloc[:airN].mean())
print(airDF.iloc[:airN].var())
print('='*50)
print(airDF.iloc[airN:].mean())
print(airDF.iloc[airN:].var())


# stationary dataset, 평균과 분산차이가 작음
tempN = tempDF.shape[0]//2
print(tempDF.iloc[:tempN].mean())
print(tempDF.iloc[:tempN].var())
print('='*50)
print(tempDF.iloc[tempN:].mean())
print(tempDF.iloc[tempN:].var())


# 구간에 따라서 starionary여부 판별이 어려움
# autoco를 보자
birthDF.plot()
plt.show()


airDF.plot()
plt.show()


tempDF.plot()
plt.show()


tempDF['days'] = range(0, len(tempDF))
tempDF


temps = tempDF['Temp'].values
temps


temps[1:]


temps[:-1]


 # lag 1 autocerellation
np.corrcoef(temps[1:], temps[:-1])[0,1]


np.corrcoef(temps[2:], temps[:-2])[0,1] #rag2


# 자기 상관관계가 줄어들경우 stationary
autocrrelation = []
for shift in range(1, 10):
    c = np.corrcoef(temps[:-shift],temps[shift:])[0,1]
    autocrrelation.append(c)
autocrrelation


plt.scatter(range(0, len(autocrrelation)), autocrrelation)
plt.show


from statsmodels.graphics.tsaplots import plot_acf, acf


result = acf(tempDF['Temp'])
result
# rag가 적용되기 전에는 1, 


plt.scatter(range(0, len(result)), result)
plt.show


plot_acf(tempDF['Temp'])
plt.show()





from statsmodels.tsa.stattools import adfuller


# stationary (pvalue가 0보다 작음, 0이 5개.. 귀무가설 기각)
result = adfuller(birthDF['Births'])
print(result[0]) # adf 작을 수록 귀무가설을 기각시킬 확률이 높다.
print(result[1]) # p-vlaue 


# none-stationary (pvalue가 0.5보다 큼, 귀무가설 채택)
result1 = adfuller(airDF['passengers'])
print(result1[0]) # adf 작을 수록 귀무가설을 기각시킬 확률이 높다.
print(result1[1]) # p-vlaue 


# stationary하다.
result1 = adfuller(tempDF['Temp'])
print(result1[0]) # adf 작을 수록 귀무가설을 기각시킬 확률이 높다.
print(result1[1]) # p-vlaue 





# 0.12.1의 경우, from statsmodels.tsa.arima_model import ARIMA
# 0.13.1의 경우, from statsmodels.tsa.arima import ARIMA
order = (2, 1, 2)
model = ARIMA(airDF, order)
rfit = model.fit()
rfit.summary()


rfit.aic


def arima_aic_check(data, order,sort = 'AIC'):
    order_list = []
    aic_list = []
    bic_lsit = []
    for p in range(order[0]):
        for d in range(order[1]):
            for q in range(order[2]):
                model = ARIMA(data, order=(p,d,q))
                try:
                    model_fit = model.fit()
                    c_order = f'p:{p} d:{d} q:{q}'
                    aic = model_fit.aic
                    bic = model_fit.bic
                    order_list.append(c_order)
                    aic_list.append(aic)
                    bic_list.append(bic)
                except:
                    pass
    result_df = pd.DataFrame(list(zip(order_list, aic_list)),columns=['order','AIC'])
    result_df.sort_values(sort, inplace=True)
    return result_df


# aic값이 가장 작은 모델을 선택, 21번
arima_aic_check(airDF, [3,3,3])


rfit.predict(1, 10, typ='levels') # typ= default값이 linear, 예측할때 levels


preds = rfit.predict('1960-07-01', '1961-07-01', typ='levels')
preds


train = airDF[:'1960-07-01']
test = airDF['1960-07-01':]
test


plt.plot(train)
plt.plot(test, 'b--')
plt.plot(preds, 'g')





df = pd.DataFrame([
        ['2001-11-01', 0.998543],
        ['2001-11-02', 1.914526],
        ['2001-11-03', 3.057407],
        ['2001-11-04', 4.044301],
        ['2001-11-05', 4.952441],
        ['2001-11-06', 6.002932],
        ['2001-11-07', 6.930134],
        ['2001-11-08', 8.011137],
        ['2001-11-09', 9.040393],
        ['2001-11-10', 10.097007],
        ['2001-11-11', 11.063742],
        ['2001-11-12', 12.051951],
        ['2001-11-13', 13.062637],
        ['2001-11-14', 14.086016],
        ['2001-11-15', 15.096826],
        ['2001-11-16', 15.944886],
        ['2001-11-17', 17.027107],
        ['2001-11-18', 17.930240],
        ['2001-11-19', 18.984202],
        ['2001-11-20', 19.971603]
    ], columns=['date', 'count'])
df['date'] = pd.to_datetime(df.date, format='%Y-%m-%d')
df = df.set_index('date')
df


# 1. acf  구하기
from statsmodels.graphics.tsaplots import plot_acf, acf


result = acf(df['count'])
result


plt.scatter(range(0, len(result)), result)
plt.show


plot_acf(df['count'])
plt.show()


# adfuller로 stational한지 none-stational한지 체크
from statsmodels.tsa.stattools import adfuller
# none-stationary (pvalue가 0.5보다 큼, 귀무가설 채택)
result1 = adfuller(df['count'])
print(result1[0]) # adf 작을 수록 귀무가설을 기각시킬 확률이 높다.
print(result1[1]) # p-vlaue 


# 최적의 aic값 구하기 p, d, q값
def arima_aic_check(data, order,sort = 'AIC'):
    order_list = []
    aic_list = []
    bic_lsit = []
    for p in range(order[0]):
        for d in range(order[1]):
            for q in range(order[2]):
                model = ARIMA(data, order=(p,d,q))
                try:
                    model_fit = model.fit()
                    c_order = f'p:{p} d:{d} q:{q}'
                    aic = model_fit.aic
                    bic = model_fit.bic
                    order_list.append(c_order)
                    aic_list.append(aic)
                    bic_list.append(bic)
                except:
                    pass
    result_df = pd.DataFrame(list(zip(order_list, aic_list)),columns=['order','AIC'])
    result_df.sort_values(sort, inplace=True)
    return result_df


# aic값이 가장 작은 모델을 선택, 4번 0, 1, 1
arima_aic_check(df, [3,3,3])


order = (0, 1, 1)
model = ARIMA(df, order)
rfit = model.fit()
rfit.summary()


rfit.aic


# arima 모델로 예측(2001-11-13, 2001-11-20)
preds = rfit.predict('2001-11-13', '2001-11-20', typ='levels')
preds


# 실제값 예측값을 그래프로 그리시오
plt.plot(df) 
plt.plot(preds, 'g')
plt.show()





from bs4 import BeautifulSoup
import urllib.request as request


#서울 / 경기도 RSS 
url = 'http://www.kma.go.kr/weather/forecast/mid-term-rss3.jsp?stnId=109'


response = request.urlopen(url)
soup = BeautifulSoup(response, "html.parser") # html5lib 시작태그가 빠질경우 코더변경해주자


dt = [{'aa':10, 'bb':40 }, {'aa':20, 'bb':50 }, {'aa':30, 'bb':60 }]
df = pd.DataFrame(dt)
df


wdata = []
for location in soup.select('location'):
    print(location.city.string)
    print("="*20)
    for data in location.select('data'):
        wdata.append({'도시': location.city.string,
                     '날짜' : data.tmef.string,
                     "날씨" : data.wf.string,
                     "최저" : int(data.tmn.string),
                     "최고" : int(data.tmx.string)
                     })
wdata


wdf = pd.DataFrame(wdata)
wdf


wdf.info()


wdf['날짜'] = pd.to_datetime(wdf['날짜']+':00')# format='%Y-%m-%d %H:%M:%S'
wdf.info()


# 2. EDA :1. 도시와 날짜를 인덱스로 설정하시요
wdf1 = wdf.set_index(['도시','날짜'])
wdf1


wdf1.index


# 2. EDA :2. 도시별 최고, 최저기온 평균을 구하시요.
wdf1.groupby('도시').mean().sort_values(by='최저')


# 2. EDA : 3. 최저기온이 가장낮은 도시, 날짜, 최고기온을 구하시요
wdf1[wdf1['최저'] == wdf1['최저'].min()] # nsmallest 쓸걸..


wdf1.nsmallest(1, '최저', keep='all')


# 눈이 오는 도시 날짜 날씨를 구하시오
wdf1[wdf1['날씨'].str.contains('눈')][['날씨']]


# 2. EDA : 4.서울지역의 날짜별 최고 최저기온을 바차트로그리시요
import matplotlib
import matplotlib.pyplot as plt
import seaborn as sns
%matplotlib inline
plt.style.use("ggplot")
# 관련 라이브러리 임포트 
import matplotlib.font_manager as fm
#  한글글꼴로 변경
# plt.rcParams['font.family'] = '한글글꼴명'
plt.rcParams['font.size'] = 11.0
# plt.rcParams['font.family'] = 'batang'
plt.rcParams['font.family'] = 'Malgun Gothic'
# 그래프에서 마이너스 폰트 깨지는 문제에 대한 대처
matplotlib.rcParams['axes.unicode_minus'] = False

wdf1.loc['서울'].plot(kind='bar')


# 2. EDA : 5.여주지역 최저기온이 -10 도 이하인 데이터를 구하시요
wdf1.loc['여주'][['최저']][wdf1.loc['여주']['최저'] <= -10]


wdf1.loc['여주'].query('최저<=-10')


# 2. EDA : 6.여주지역 전체 최고기온 중 최고기온이 0 도 
#           이상이차지하는비율을 구하시요. (예를들어 출력결과:0도이상 15% )
wdf1_y = wdf1.loc['여주'][['최고']]
result = len(wdf1_y[wdf1_y.values >= 0]) / len(wdf1_y) * 100
print(f'0도 이상 비율 : {result:.2f}')


# 2. EDA : 7. 일교차 컬럼을 추가하고,
# 최고기온과 최저기온의 차이가 가장높은 도시,날짜,최저,최고,일교차를 구하시요
wdf1['일교차'] =  wdf1['최고']-wdf1['최저']
wdf1


wdf1[wdf1['일교차'] == wdf1['일교차'].max()] # nlargest 쓰자 제발..


wdf1.nlargest(1, '일교차', keep='all')


# 서울지역 예측 다음 주간 최고기온날씨 예측
data = wdf1[['최고']]
data


# 평균과 분산차이가 크다, none-stationary로 추정됨
dataN = data.shape[0]//2
print(data.iloc[:dataN].mean())
print(data.iloc[:dataN].var())
print('='*50)
print(data.iloc[dataN:].mean())
print(data.iloc[dataN:].var())


data.plot()
plt.show()


# ACF 확인
from statsmodels.graphics.tsaplots import plot_acf, acf
result = acf(data)
result


plt.scatter(range(0, len(result)), result)
plt.show


plot_acf(data)
plt.show()


# adfuller 로 검증해보자 , 0.05보다 작아서 귀무가설 기각, none stationary맞는듯
from statsmodels.tsa.stattools import adfuller
result = adfuller(data)
print(result[0]) # adf 작을 수록 귀무가설을 기각시킬 확률이 높다.
print(result[1]) # p-vlaue


# aic값을 찾아보자
def arima_aic_check(data, order,sort = 'AIC'):
    order_list = []
    aic_list = []
    bic_lsit = []
    for p in range(order[0]):
        for d in range(order[1]):
            for q in range(order[2]):
                model = ARIMA(data, order=(p,d,q))
                try:
                    model_fit = model.fit()
                    c_order = f'p:{p} d:{d} q:{q}'
                    aic = model_fit.aic
                    bic = model_fit.bic
                    order_list.append(c_order)
                    aic_list.append(aic)
                    bic_list.append(bic)
                except:
                    pass
    result_df = pd.DataFrame(list(zip(order_list, aic_list)),columns=['order','AIC'])
    result_df.sort_values(sort, inplace=True)
    return result_df


# aic값이 가장 작은 모델을 선택,  19번 2,0,2이 가장 좋음
arima_aic_check(data,[3,3,3])


order = (2, 0, 2)
model = ARIMA(data, order)
rfit = model.fit()
rfit.summary()


# 미래날짜를 예측하면 key error 발생\
# https://stackoverflow.com/questions/62982119/time-series-python-key-error-start-argument-could-not-be-matched
rfit.predict( ('서울','2022-01-19 00:00:00'), ('서울','2022-01-20 00:00:00'), typ='levels')


# ARIMA에 멀티인덱스를 넣어서 훈련시키면 안됨, 예측이 달라짐.


#  보다시피 12시 시간 데이터가 없음, 결측치 처리 필요
wdf1.loc['서울'].index
#seoul = wdf1.loc['서울']
# seoul.index = pd.to_datetime(seoul.index)
# seoul.index
